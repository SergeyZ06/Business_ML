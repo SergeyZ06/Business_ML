{
 "cells": [
  {
   "cell_type": "markdown",
   "id": "fba343f5",
   "metadata": {},
   "source": [
    "# 2th_homework"
   ]
  },
  {
   "cell_type": "code",
   "execution_count": 1,
   "id": "e3ed9569",
   "metadata": {},
   "outputs": [],
   "source": [
    "import numpy as np\n",
    "import pandas as pd\n",
    "\n",
    "import nltk\n",
    "from nltk.corpus import stopwords\n",
    "\n",
    "import re\n",
    "from razdel import tokenize\n",
    "import pymorphy2\n",
    "\n",
    "from gensim.corpora.dictionary import Dictionary\n",
    "from gensim.models import LdaModel\n",
    "from gensim.test.utils import datapath\n",
    "\n",
    "from sklearn.linear_model import LogisticRegression\n",
    "from sklearn.model_selection import train_test_split\n",
    "\n",
    "from sklearn.feature_extraction.text import TfidfVectorizer\n",
    "\n",
    "from sklearn.metrics import f1_score\n",
    "from sklearn.metrics import roc_auc_score\n",
    "from sklearn.metrics import precision_score\n",
    "from sklearn.metrics import classification_report\n",
    "from sklearn.metrics import precision_recall_curve\n",
    "from sklearn.metrics import confusion_matrix"
   ]
  },
  {
   "cell_type": "markdown",
   "id": "641d0cff",
   "metadata": {},
   "source": [
    "## 2. Модифицировать код функции get_user_embedding таким образом, чтобы считалось не среднее (как в примере np.mean), а медиана. Применить такое преобразование к данным, обучить модель прогнозирования оттока и посчитать метрики качества и сохранить их: roc auc, precision/recall/f_score (для 3 последних - подобрать оптимальный порог с помощью precision_recall_curve, как это делалось на уроке)"
   ]
  },
  {
   "cell_type": "markdown",
   "id": "3ddae122",
   "metadata": {},
   "source": [
    "### Исходный код из методички:"
   ]
  },
  {
   "cell_type": "code",
   "execution_count": 2,
   "id": "b961a967",
   "metadata": {},
   "outputs": [],
   "source": [
    "users = pd.read_csv(\"users_articles.csv\")\n",
    "news = pd.read_csv(\"articles.csv\")\n",
    "\n",
    "# nltk.download('stopwords')\n",
    "stopword_ru = stopwords.words('russian')\n",
    "with open(r'stopwords.txt') as f:\n",
    "    additional_stopwords = [w.strip() for w in f.readlines() if w]\n",
    "stopword_ru += additional_stopwords\n",
    "\n",
    "morph = pymorphy2.MorphAnalyzer()"
   ]
  },
  {
   "cell_type": "code",
   "execution_count": 3,
   "id": "0beeb876",
   "metadata": {},
   "outputs": [],
   "source": [
    "def clean_text(text):\n",
    "    '''\n",
    "    очистка текста\n",
    "    \n",
    "    на выходе очищеный текст\n",
    "    \n",
    "    '''\n",
    "    if not isinstance(text, str):\n",
    "        text = str(text)\n",
    "    \n",
    "    text = text.lower()\n",
    "    text = text.strip('\\n').strip('\\r').strip('\\t')\n",
    "    text = re.sub(\"-\\s\\r\\n\\|-\\s\\r\\n|\\r\\n\", '', str(text))\n",
    "\n",
    "    text = re.sub(\"[0-9]|[-—.,:;_%©«»?*!@#№$^•·&()]|[+=]|[[]|[]]|[/]|\", '', text)\n",
    "    text = re.sub(r\"\\r\\n\\t|\\n|\\\\s|\\r\\t|\\\\n\", ' ', text)\n",
    "    text = re.sub(r'[\\xad]|[\\s+]', ' ', text.strip())\n",
    "    \n",
    "    #tokens = list(tokenize(text))\n",
    "    #words = [_.text for _ in tokens]\n",
    "    #words = [w for w in words if w not in stopword_ru]\n",
    "    \n",
    "    #return \" \".join(words)\n",
    "    return text"
   ]
  },
  {
   "cell_type": "code",
   "execution_count": 4,
   "id": "05e53f71",
   "metadata": {},
   "outputs": [],
   "source": [
    "cache = {}\n",
    "\n",
    "def lemmatization(text):\n",
    "    '''\n",
    "    лемматизация\n",
    "        [0] если зашел тип не `str` делаем его `str`\n",
    "        [1] токенизация предложения через razdel\n",
    "        [2] проверка есть ли в начале слова '-'\n",
    "        [3] проверка токена с одного символа\n",
    "        [4] проверка есть ли данное слово в кэше\n",
    "        [5] лемматизация слова\n",
    "        [6] проверка на стоп-слова\n",
    "\n",
    "    на выходе лист отлемматизированых токенов\n",
    "    '''\n",
    "\n",
    "    # [0]\n",
    "    if not isinstance(text, str):\n",
    "        text = str(text)\n",
    "    \n",
    "    # [1]\n",
    "    tokens = list(tokenize(text))\n",
    "    words = [_.text for _ in tokens]\n",
    "\n",
    "    words_lem = []\n",
    "    for w in words:\n",
    "        if w[0] == '-': # [2]\n",
    "            w = w[1:]\n",
    "        if len(w)>1: # [3]\n",
    "            if w in cache: # [4]\n",
    "                words_lem.append(cache[w])\n",
    "            else: # [5]\n",
    "                temp_cach = cache[w] = morph.parse(w)[0].normal_form\n",
    "                words_lem.append(temp_cach)\n",
    "    \n",
    "    words_lem_without_stopwords=[i for i in words_lem if not i in stopword_ru] # [6]\n",
    "    \n",
    "    return words_lem_without_stopwords"
   ]
  },
  {
   "cell_type": "code",
   "execution_count": 5,
   "id": "c6699556",
   "metadata": {},
   "outputs": [
    {
     "name": "stderr",
     "output_type": "stream",
     "text": [
      "C:\\Users\\SERGEY~1\\AppData\\Local\\Temp/ipykernel_528/1951866348.py:15: FutureWarning: Possible nested set at position 39\n",
      "  text = re.sub(\"[0-9]|[-—.,:;_%©«»?*!@#№$^•·&()]|[+=]|[[]|[]]|[/]|\", '', text)\n"
     ]
    },
    {
     "name": "stdout",
     "output_type": "stream",
     "text": [
      "Wall time: 19.1 s\n"
     ]
    }
   ],
   "source": [
    "%%time\n",
    "\n",
    "#Запускаем очистку текста. Будет долго...\n",
    "news['title'] = news['title'].apply(lambda x: clean_text(x), 1)"
   ]
  },
  {
   "cell_type": "code",
   "execution_count": 6,
   "id": "8caee42b",
   "metadata": {},
   "outputs": [
    {
     "name": "stdout",
     "output_type": "stream",
     "text": [
      "Wall time: 2min 15s\n"
     ]
    }
   ],
   "source": [
    "%%time\n",
    "\n",
    "#Запускаем лемматизацию текста. Будет очень долго...\n",
    "news['title'] = news['title'].apply(lambda x: lemmatization(x), 1)"
   ]
  },
  {
   "cell_type": "code",
   "execution_count": 7,
   "id": "74d2ae4f",
   "metadata": {},
   "outputs": [
    {
     "name": "stdout",
     "output_type": "stream",
     "text": [
      "Wall time: 7.75 s\n"
     ]
    }
   ],
   "source": [
    "%%time\n",
    "\n",
    "#сформируем список наших текстов, разбив еще и на пробелы\n",
    "texts = [t for t in news['title'].values]\n",
    "\n",
    "# Create a corpus from a list of texts\n",
    "common_dictionary = Dictionary(texts)\n",
    "common_corpus = [common_dictionary.doc2bow(text) for text in texts]"
   ]
  },
  {
   "cell_type": "code",
   "execution_count": 8,
   "id": "436f06e6",
   "metadata": {},
   "outputs": [
    {
     "name": "stdout",
     "output_type": "stream",
     "text": [
      "Wall time: 29.2 s\n"
     ]
    }
   ],
   "source": [
    "%%time\n",
    "\n",
    "# Train the model on the corpus.\n",
    "lda = LdaModel(common_corpus, num_topics=25, id2word=common_dictionary)#, passes=10)"
   ]
  },
  {
   "cell_type": "code",
   "execution_count": 9,
   "id": "6bfc6b40",
   "metadata": {},
   "outputs": [],
   "source": [
    "def get_lda_vector(text):\n",
    "    unseen_doc = common_dictionary.doc2bow(text)\n",
    "    lda_tuple = lda[unseen_doc]\n",
    "    not_null_topics = dict(zip([i[0] for i in lda_tuple], [i[1] for i in lda_tuple]))\n",
    "\n",
    "    output_vector = []\n",
    "    for i in range(25):\n",
    "        if i not in not_null_topics:\n",
    "            output_vector.append(0)\n",
    "        else:\n",
    "            output_vector.append(not_null_topics[i])\n",
    "    return np.array(output_vector)"
   ]
  },
  {
   "cell_type": "code",
   "execution_count": 10,
   "id": "e84b80db",
   "metadata": {
    "scrolled": true
   },
   "outputs": [
    {
     "data": {
      "text/html": [
       "<div>\n",
       "<style scoped>\n",
       "    .dataframe tbody tr th:only-of-type {\n",
       "        vertical-align: middle;\n",
       "    }\n",
       "\n",
       "    .dataframe tbody tr th {\n",
       "        vertical-align: top;\n",
       "    }\n",
       "\n",
       "    .dataframe thead th {\n",
       "        text-align: right;\n",
       "    }\n",
       "</style>\n",
       "<table border=\"1\" class=\"dataframe\">\n",
       "  <thead>\n",
       "    <tr style=\"text-align: right;\">\n",
       "      <th></th>\n",
       "      <th>doc_id</th>\n",
       "      <th>topic_0</th>\n",
       "      <th>topic_1</th>\n",
       "      <th>topic_2</th>\n",
       "      <th>topic_3</th>\n",
       "      <th>topic_4</th>\n",
       "      <th>topic_5</th>\n",
       "      <th>topic_6</th>\n",
       "      <th>topic_7</th>\n",
       "      <th>topic_8</th>\n",
       "      <th>...</th>\n",
       "      <th>topic_15</th>\n",
       "      <th>topic_16</th>\n",
       "      <th>topic_17</th>\n",
       "      <th>topic_18</th>\n",
       "      <th>topic_19</th>\n",
       "      <th>topic_20</th>\n",
       "      <th>topic_21</th>\n",
       "      <th>topic_22</th>\n",
       "      <th>topic_23</th>\n",
       "      <th>topic_24</th>\n",
       "    </tr>\n",
       "  </thead>\n",
       "  <tbody>\n",
       "    <tr>\n",
       "      <th>0</th>\n",
       "      <td>6</td>\n",
       "      <td>0.0</td>\n",
       "      <td>0.710270</td>\n",
       "      <td>0.000000</td>\n",
       "      <td>0.0</td>\n",
       "      <td>0.0</td>\n",
       "      <td>0.0</td>\n",
       "      <td>0.000000</td>\n",
       "      <td>0.019563</td>\n",
       "      <td>0.0</td>\n",
       "      <td>...</td>\n",
       "      <td>0.0</td>\n",
       "      <td>0.000000</td>\n",
       "      <td>0.0</td>\n",
       "      <td>0.116719</td>\n",
       "      <td>0.0</td>\n",
       "      <td>0.0</td>\n",
       "      <td>0.00000</td>\n",
       "      <td>0.0</td>\n",
       "      <td>0.0</td>\n",
       "      <td>0.0</td>\n",
       "    </tr>\n",
       "    <tr>\n",
       "      <th>1</th>\n",
       "      <td>4896</td>\n",
       "      <td>0.0</td>\n",
       "      <td>0.000000</td>\n",
       "      <td>0.523769</td>\n",
       "      <td>0.0</td>\n",
       "      <td>0.0</td>\n",
       "      <td>0.0</td>\n",
       "      <td>0.083562</td>\n",
       "      <td>0.000000</td>\n",
       "      <td>0.0</td>\n",
       "      <td>...</td>\n",
       "      <td>0.0</td>\n",
       "      <td>0.000000</td>\n",
       "      <td>0.0</td>\n",
       "      <td>0.000000</td>\n",
       "      <td>0.0</td>\n",
       "      <td>0.0</td>\n",
       "      <td>0.00000</td>\n",
       "      <td>0.0</td>\n",
       "      <td>0.0</td>\n",
       "      <td>0.0</td>\n",
       "    </tr>\n",
       "    <tr>\n",
       "      <th>2</th>\n",
       "      <td>4897</td>\n",
       "      <td>0.0</td>\n",
       "      <td>0.000000</td>\n",
       "      <td>0.000000</td>\n",
       "      <td>0.0</td>\n",
       "      <td>0.0</td>\n",
       "      <td>0.0</td>\n",
       "      <td>0.000000</td>\n",
       "      <td>0.000000</td>\n",
       "      <td>0.0</td>\n",
       "      <td>...</td>\n",
       "      <td>0.0</td>\n",
       "      <td>0.091903</td>\n",
       "      <td>0.0</td>\n",
       "      <td>0.000000</td>\n",
       "      <td>0.0</td>\n",
       "      <td>0.0</td>\n",
       "      <td>0.00000</td>\n",
       "      <td>0.0</td>\n",
       "      <td>0.0</td>\n",
       "      <td>0.0</td>\n",
       "    </tr>\n",
       "    <tr>\n",
       "      <th>3</th>\n",
       "      <td>4898</td>\n",
       "      <td>0.0</td>\n",
       "      <td>0.028886</td>\n",
       "      <td>0.540329</td>\n",
       "      <td>0.0</td>\n",
       "      <td>0.0</td>\n",
       "      <td>0.0</td>\n",
       "      <td>0.000000</td>\n",
       "      <td>0.000000</td>\n",
       "      <td>0.0</td>\n",
       "      <td>...</td>\n",
       "      <td>0.0</td>\n",
       "      <td>0.000000</td>\n",
       "      <td>0.0</td>\n",
       "      <td>0.000000</td>\n",
       "      <td>0.0</td>\n",
       "      <td>0.0</td>\n",
       "      <td>0.09729</td>\n",
       "      <td>0.0</td>\n",
       "      <td>0.0</td>\n",
       "      <td>0.0</td>\n",
       "    </tr>\n",
       "    <tr>\n",
       "      <th>4</th>\n",
       "      <td>4899</td>\n",
       "      <td>0.0</td>\n",
       "      <td>0.822350</td>\n",
       "      <td>0.000000</td>\n",
       "      <td>0.0</td>\n",
       "      <td>0.0</td>\n",
       "      <td>0.0</td>\n",
       "      <td>0.000000</td>\n",
       "      <td>0.000000</td>\n",
       "      <td>0.0</td>\n",
       "      <td>...</td>\n",
       "      <td>0.0</td>\n",
       "      <td>0.000000</td>\n",
       "      <td>0.0</td>\n",
       "      <td>0.000000</td>\n",
       "      <td>0.0</td>\n",
       "      <td>0.0</td>\n",
       "      <td>0.00000</td>\n",
       "      <td>0.0</td>\n",
       "      <td>0.0</td>\n",
       "      <td>0.0</td>\n",
       "    </tr>\n",
       "  </tbody>\n",
       "</table>\n",
       "<p>5 rows × 26 columns</p>\n",
       "</div>"
      ],
      "text/plain": [
       "   doc_id  topic_0   topic_1   topic_2  topic_3  topic_4  topic_5   topic_6  \\\n",
       "0       6      0.0  0.710270  0.000000      0.0      0.0      0.0  0.000000   \n",
       "1    4896      0.0  0.000000  0.523769      0.0      0.0      0.0  0.083562   \n",
       "2    4897      0.0  0.000000  0.000000      0.0      0.0      0.0  0.000000   \n",
       "3    4898      0.0  0.028886  0.540329      0.0      0.0      0.0  0.000000   \n",
       "4    4899      0.0  0.822350  0.000000      0.0      0.0      0.0  0.000000   \n",
       "\n",
       "    topic_7  topic_8  ...  topic_15  topic_16  topic_17  topic_18  topic_19  \\\n",
       "0  0.019563      0.0  ...       0.0  0.000000       0.0  0.116719       0.0   \n",
       "1  0.000000      0.0  ...       0.0  0.000000       0.0  0.000000       0.0   \n",
       "2  0.000000      0.0  ...       0.0  0.091903       0.0  0.000000       0.0   \n",
       "3  0.000000      0.0  ...       0.0  0.000000       0.0  0.000000       0.0   \n",
       "4  0.000000      0.0  ...       0.0  0.000000       0.0  0.000000       0.0   \n",
       "\n",
       "   topic_20  topic_21  topic_22  topic_23  topic_24  \n",
       "0       0.0   0.00000       0.0       0.0       0.0  \n",
       "1       0.0   0.00000       0.0       0.0       0.0  \n",
       "2       0.0   0.00000       0.0       0.0       0.0  \n",
       "3       0.0   0.09729       0.0       0.0       0.0  \n",
       "4       0.0   0.00000       0.0       0.0       0.0  \n",
       "\n",
       "[5 rows x 26 columns]"
      ]
     },
     "execution_count": 10,
     "metadata": {},
     "output_type": "execute_result"
    }
   ],
   "source": [
    "topic_matrix = pd.DataFrame([get_lda_vector(text) for text in news['title'].values])\n",
    "topic_matrix.columns = ['topic_{}'.format(i) for i in range(25)]\n",
    "topic_matrix['doc_id'] = news['doc_id'].values\n",
    "topic_matrix = topic_matrix[['doc_id']+['topic_{}'.format(i) for i in range(25)]]\n",
    "topic_matrix.head(5)"
   ]
  },
  {
   "cell_type": "code",
   "execution_count": 11,
   "id": "6dc9d9a0",
   "metadata": {},
   "outputs": [],
   "source": [
    "doc_dict = dict(zip(topic_matrix['doc_id'].values, topic_matrix[['topic_{}'.format(i) for i in range(25)]].values))"
   ]
  },
  {
   "cell_type": "code",
   "execution_count": 12,
   "id": "c034294f",
   "metadata": {},
   "outputs": [],
   "source": [
    "def get_user_embedding(user_articles_list):\n",
    "    user_articles_list = eval(user_articles_list)\n",
    "    user_vector = np.array([doc_dict[doc_id] for doc_id in user_articles_list])\n",
    "    user_vector = np.mean(user_vector, 0)\n",
    "    return user_vector"
   ]
  },
  {
   "cell_type": "code",
   "execution_count": 13,
   "id": "16a2b39c",
   "metadata": {},
   "outputs": [
    {
     "data": {
      "text/html": [
       "<div>\n",
       "<style scoped>\n",
       "    .dataframe tbody tr th:only-of-type {\n",
       "        vertical-align: middle;\n",
       "    }\n",
       "\n",
       "    .dataframe tbody tr th {\n",
       "        vertical-align: top;\n",
       "    }\n",
       "\n",
       "    .dataframe thead th {\n",
       "        text-align: right;\n",
       "    }\n",
       "</style>\n",
       "<table border=\"1\" class=\"dataframe\">\n",
       "  <thead>\n",
       "    <tr style=\"text-align: right;\">\n",
       "      <th></th>\n",
       "      <th>uid</th>\n",
       "      <th>topic_0</th>\n",
       "      <th>topic_1</th>\n",
       "      <th>topic_2</th>\n",
       "      <th>topic_3</th>\n",
       "      <th>topic_4</th>\n",
       "      <th>topic_5</th>\n",
       "      <th>topic_6</th>\n",
       "      <th>topic_7</th>\n",
       "      <th>topic_8</th>\n",
       "      <th>...</th>\n",
       "      <th>topic_15</th>\n",
       "      <th>topic_16</th>\n",
       "      <th>topic_17</th>\n",
       "      <th>topic_18</th>\n",
       "      <th>topic_19</th>\n",
       "      <th>topic_20</th>\n",
       "      <th>topic_21</th>\n",
       "      <th>topic_22</th>\n",
       "      <th>topic_23</th>\n",
       "      <th>topic_24</th>\n",
       "    </tr>\n",
       "  </thead>\n",
       "  <tbody>\n",
       "    <tr>\n",
       "      <th>0</th>\n",
       "      <td>u105138</td>\n",
       "      <td>0.0</td>\n",
       "      <td>0.004518</td>\n",
       "      <td>0.066070</td>\n",
       "      <td>0.029519</td>\n",
       "      <td>0.003678</td>\n",
       "      <td>0.0</td>\n",
       "      <td>0.051755</td>\n",
       "      <td>0.034190</td>\n",
       "      <td>0.000000</td>\n",
       "      <td>...</td>\n",
       "      <td>0.005672</td>\n",
       "      <td>0.133824</td>\n",
       "      <td>0.0</td>\n",
       "      <td>0.055275</td>\n",
       "      <td>0.013913</td>\n",
       "      <td>0.164821</td>\n",
       "      <td>0.088510</td>\n",
       "      <td>0.042236</td>\n",
       "      <td>0.000000</td>\n",
       "      <td>0.023768</td>\n",
       "    </tr>\n",
       "    <tr>\n",
       "      <th>1</th>\n",
       "      <td>u108690</td>\n",
       "      <td>0.0</td>\n",
       "      <td>0.057849</td>\n",
       "      <td>0.061715</td>\n",
       "      <td>0.011212</td>\n",
       "      <td>0.007467</td>\n",
       "      <td>0.0</td>\n",
       "      <td>0.029935</td>\n",
       "      <td>0.032712</td>\n",
       "      <td>0.000000</td>\n",
       "      <td>...</td>\n",
       "      <td>0.022146</td>\n",
       "      <td>0.145202</td>\n",
       "      <td>0.0</td>\n",
       "      <td>0.005692</td>\n",
       "      <td>0.080201</td>\n",
       "      <td>0.094988</td>\n",
       "      <td>0.071358</td>\n",
       "      <td>0.038795</td>\n",
       "      <td>0.033027</td>\n",
       "      <td>0.004759</td>\n",
       "    </tr>\n",
       "    <tr>\n",
       "      <th>2</th>\n",
       "      <td>u108339</td>\n",
       "      <td>0.0</td>\n",
       "      <td>0.043439</td>\n",
       "      <td>0.069624</td>\n",
       "      <td>0.000000</td>\n",
       "      <td>0.004557</td>\n",
       "      <td>0.0</td>\n",
       "      <td>0.050667</td>\n",
       "      <td>0.030596</td>\n",
       "      <td>0.006149</td>\n",
       "      <td>...</td>\n",
       "      <td>0.024338</td>\n",
       "      <td>0.056349</td>\n",
       "      <td>0.0</td>\n",
       "      <td>0.010414</td>\n",
       "      <td>0.039812</td>\n",
       "      <td>0.158112</td>\n",
       "      <td>0.107339</td>\n",
       "      <td>0.019243</td>\n",
       "      <td>0.044504</td>\n",
       "      <td>0.081482</td>\n",
       "    </tr>\n",
       "  </tbody>\n",
       "</table>\n",
       "<p>3 rows × 26 columns</p>\n",
       "</div>"
      ],
      "text/plain": [
       "       uid  topic_0   topic_1   topic_2   topic_3   topic_4  topic_5  \\\n",
       "0  u105138      0.0  0.004518  0.066070  0.029519  0.003678      0.0   \n",
       "1  u108690      0.0  0.057849  0.061715  0.011212  0.007467      0.0   \n",
       "2  u108339      0.0  0.043439  0.069624  0.000000  0.004557      0.0   \n",
       "\n",
       "    topic_6   topic_7   topic_8  ...  topic_15  topic_16  topic_17  topic_18  \\\n",
       "0  0.051755  0.034190  0.000000  ...  0.005672  0.133824       0.0  0.055275   \n",
       "1  0.029935  0.032712  0.000000  ...  0.022146  0.145202       0.0  0.005692   \n",
       "2  0.050667  0.030596  0.006149  ...  0.024338  0.056349       0.0  0.010414   \n",
       "\n",
       "   topic_19  topic_20  topic_21  topic_22  topic_23  topic_24  \n",
       "0  0.013913  0.164821  0.088510  0.042236  0.000000  0.023768  \n",
       "1  0.080201  0.094988  0.071358  0.038795  0.033027  0.004759  \n",
       "2  0.039812  0.158112  0.107339  0.019243  0.044504  0.081482  \n",
       "\n",
       "[3 rows x 26 columns]"
      ]
     },
     "execution_count": 13,
     "metadata": {},
     "output_type": "execute_result"
    }
   ],
   "source": [
    "user_embeddings = pd.DataFrame([i for i in users['articles'].apply(lambda x: get_user_embedding(x), 1)])\n",
    "user_embeddings.columns = ['topic_{}'.format(i) for i in range(25)]\n",
    "user_embeddings['uid'] = users['uid'].values\n",
    "user_embeddings = user_embeddings[['uid']+['topic_{}'.format(i) for i in range(25)]]\n",
    "user_embeddings.head(3)"
   ]
  },
  {
   "cell_type": "code",
   "execution_count": 14,
   "id": "66717770",
   "metadata": {},
   "outputs": [],
   "source": [
    "target = pd.read_csv(\"users_churn.csv\")\n",
    "\n",
    "X = pd.merge(user_embeddings, target, 'left')"
   ]
  },
  {
   "cell_type": "code",
   "execution_count": 15,
   "id": "9c7f723d",
   "metadata": {},
   "outputs": [],
   "source": [
    "#разделим данные на train/test\n",
    "X_train, X_test, y_train, y_test = train_test_split(X[['topic_{}'.format(i) for i in range(25)]], \n",
    "                                                    X['churn'], random_state=0)"
   ]
  },
  {
   "cell_type": "code",
   "execution_count": 16,
   "id": "31334bff",
   "metadata": {},
   "outputs": [
    {
     "data": {
      "text/plain": [
       "LogisticRegression()"
      ]
     },
     "execution_count": 16,
     "metadata": {},
     "output_type": "execute_result"
    }
   ],
   "source": [
    "logreg = LogisticRegression()\n",
    "#обучим \n",
    "logreg.fit(X_train, y_train)"
   ]
  },
  {
   "cell_type": "code",
   "execution_count": 17,
   "id": "2ca20f4f",
   "metadata": {},
   "outputs": [],
   "source": [
    "#наши прогнозы для тестовой выборки\n",
    "preds = logreg.predict_proba(X_test)[:, 1]"
   ]
  },
  {
   "cell_type": "code",
   "execution_count": 18,
   "id": "285dff4b",
   "metadata": {},
   "outputs": [
    {
     "name": "stdout",
     "output_type": "stream",
     "text": [
      "Best Threshold=0.297593, F-Score=0.744, Precision=0.729, Recall=0.759\n"
     ]
    }
   ],
   "source": [
    "precision, recall, thresholds = precision_recall_curve(y_test, preds)\n",
    "fscore = (2 * precision * recall) / (precision + recall)\n",
    "# locate the index of the largest f score\n",
    "ix = np.argmax(fscore)\n",
    "print('Best Threshold=%f, F-Score=%.3f, Precision=%.3f, Recall=%.3f' % (thresholds[ix], \n",
    "                                                                        fscore[ix],\n",
    "                                                                        precision[ix],\n",
    "                                                                        recall[ix]))"
   ]
  },
  {
   "cell_type": "markdown",
   "id": "a84f38d2",
   "metadata": {},
   "source": [
    "##### Сохраним метрики исходной модели."
   ]
  },
  {
   "cell_type": "code",
   "execution_count": 19,
   "id": "03a38e48",
   "metadata": {},
   "outputs": [],
   "source": [
    "theshold_0 = thresholds[ix]\n",
    "fscore_0 = fscore[ix]\n",
    "precision_0 = precision[ix]\n",
    "recall_0 = recall[ix]\n",
    "roc_auc_score_0 = roc_auc_score(y_test, preds)"
   ]
  },
  {
   "cell_type": "markdown",
   "id": "b204c2d9",
   "metadata": {},
   "source": [
    "##### Внесём изменения в функцию \"get_user_embedding\" согласно заданию: вычислять не среднее значение, а медианное для вектора признаков пользователя."
   ]
  },
  {
   "cell_type": "code",
   "execution_count": 20,
   "id": "a2c97ca2",
   "metadata": {},
   "outputs": [],
   "source": [
    "def get_user_embedding(user_articles_list):\n",
    "    user_articles_list = eval(user_articles_list)\n",
    "    user_vector = np.array([doc_dict[doc_id] for doc_id in user_articles_list])\n",
    "#     ИЗМЕНЕНИЯ\n",
    "#     user_vector = np.mean(user_vector, 0)\n",
    "    user_vector = np.median(user_vector, 0)\n",
    "    return user_vector"
   ]
  },
  {
   "cell_type": "markdown",
   "id": "ca09348b",
   "metadata": {},
   "source": [
    "##### Применим остальные преобразования и обучим новую модель."
   ]
  },
  {
   "cell_type": "code",
   "execution_count": 21,
   "id": "b14e5309",
   "metadata": {},
   "outputs": [
    {
     "data": {
      "text/html": [
       "<div>\n",
       "<style scoped>\n",
       "    .dataframe tbody tr th:only-of-type {\n",
       "        vertical-align: middle;\n",
       "    }\n",
       "\n",
       "    .dataframe tbody tr th {\n",
       "        vertical-align: top;\n",
       "    }\n",
       "\n",
       "    .dataframe thead th {\n",
       "        text-align: right;\n",
       "    }\n",
       "</style>\n",
       "<table border=\"1\" class=\"dataframe\">\n",
       "  <thead>\n",
       "    <tr style=\"text-align: right;\">\n",
       "      <th></th>\n",
       "      <th>uid</th>\n",
       "      <th>topic_0</th>\n",
       "      <th>topic_1</th>\n",
       "      <th>topic_2</th>\n",
       "      <th>topic_3</th>\n",
       "      <th>topic_4</th>\n",
       "      <th>topic_5</th>\n",
       "      <th>topic_6</th>\n",
       "      <th>topic_7</th>\n",
       "      <th>topic_8</th>\n",
       "      <th>...</th>\n",
       "      <th>topic_15</th>\n",
       "      <th>topic_16</th>\n",
       "      <th>topic_17</th>\n",
       "      <th>topic_18</th>\n",
       "      <th>topic_19</th>\n",
       "      <th>topic_20</th>\n",
       "      <th>topic_21</th>\n",
       "      <th>topic_22</th>\n",
       "      <th>topic_23</th>\n",
       "      <th>topic_24</th>\n",
       "    </tr>\n",
       "  </thead>\n",
       "  <tbody>\n",
       "    <tr>\n",
       "      <th>0</th>\n",
       "      <td>u105138</td>\n",
       "      <td>0.0</td>\n",
       "      <td>0.000000</td>\n",
       "      <td>0.031535</td>\n",
       "      <td>0.0</td>\n",
       "      <td>0.0</td>\n",
       "      <td>0.0</td>\n",
       "      <td>0.026533</td>\n",
       "      <td>0.000000</td>\n",
       "      <td>0.0</td>\n",
       "      <td>...</td>\n",
       "      <td>0.000000</td>\n",
       "      <td>0.021057</td>\n",
       "      <td>0.0</td>\n",
       "      <td>0.0</td>\n",
       "      <td>0.000000</td>\n",
       "      <td>0.000000</td>\n",
       "      <td>0.046076</td>\n",
       "      <td>0.018146</td>\n",
       "      <td>0.000000</td>\n",
       "      <td>0.000000</td>\n",
       "    </tr>\n",
       "    <tr>\n",
       "      <th>1</th>\n",
       "      <td>u108690</td>\n",
       "      <td>0.0</td>\n",
       "      <td>0.053319</td>\n",
       "      <td>0.073458</td>\n",
       "      <td>0.0</td>\n",
       "      <td>0.0</td>\n",
       "      <td>0.0</td>\n",
       "      <td>0.000000</td>\n",
       "      <td>0.020248</td>\n",
       "      <td>0.0</td>\n",
       "      <td>...</td>\n",
       "      <td>0.014887</td>\n",
       "      <td>0.102062</td>\n",
       "      <td>0.0</td>\n",
       "      <td>0.0</td>\n",
       "      <td>0.055372</td>\n",
       "      <td>0.048481</td>\n",
       "      <td>0.063623</td>\n",
       "      <td>0.000000</td>\n",
       "      <td>0.024006</td>\n",
       "      <td>0.000000</td>\n",
       "    </tr>\n",
       "    <tr>\n",
       "      <th>2</th>\n",
       "      <td>u108339</td>\n",
       "      <td>0.0</td>\n",
       "      <td>0.040743</td>\n",
       "      <td>0.036114</td>\n",
       "      <td>0.0</td>\n",
       "      <td>0.0</td>\n",
       "      <td>0.0</td>\n",
       "      <td>0.038296</td>\n",
       "      <td>0.032316</td>\n",
       "      <td>0.0</td>\n",
       "      <td>...</td>\n",
       "      <td>0.019603</td>\n",
       "      <td>0.015462</td>\n",
       "      <td>0.0</td>\n",
       "      <td>0.0</td>\n",
       "      <td>0.031613</td>\n",
       "      <td>0.146312</td>\n",
       "      <td>0.122366</td>\n",
       "      <td>0.009974</td>\n",
       "      <td>0.000000</td>\n",
       "      <td>0.081229</td>\n",
       "    </tr>\n",
       "  </tbody>\n",
       "</table>\n",
       "<p>3 rows × 26 columns</p>\n",
       "</div>"
      ],
      "text/plain": [
       "       uid  topic_0   topic_1   topic_2  topic_3  topic_4  topic_5   topic_6  \\\n",
       "0  u105138      0.0  0.000000  0.031535      0.0      0.0      0.0  0.026533   \n",
       "1  u108690      0.0  0.053319  0.073458      0.0      0.0      0.0  0.000000   \n",
       "2  u108339      0.0  0.040743  0.036114      0.0      0.0      0.0  0.038296   \n",
       "\n",
       "    topic_7  topic_8  ...  topic_15  topic_16  topic_17  topic_18  topic_19  \\\n",
       "0  0.000000      0.0  ...  0.000000  0.021057       0.0       0.0  0.000000   \n",
       "1  0.020248      0.0  ...  0.014887  0.102062       0.0       0.0  0.055372   \n",
       "2  0.032316      0.0  ...  0.019603  0.015462       0.0       0.0  0.031613   \n",
       "\n",
       "   topic_20  topic_21  topic_22  topic_23  topic_24  \n",
       "0  0.000000  0.046076  0.018146  0.000000  0.000000  \n",
       "1  0.048481  0.063623  0.000000  0.024006  0.000000  \n",
       "2  0.146312  0.122366  0.009974  0.000000  0.081229  \n",
       "\n",
       "[3 rows x 26 columns]"
      ]
     },
     "execution_count": 21,
     "metadata": {},
     "output_type": "execute_result"
    }
   ],
   "source": [
    "user_embeddings = pd.DataFrame([i for i in users['articles'].apply(lambda x: get_user_embedding(x), 1)])\n",
    "user_embeddings.columns = ['topic_{}'.format(i) for i in range(25)]\n",
    "user_embeddings['uid'] = users['uid'].values\n",
    "user_embeddings = user_embeddings[['uid']+['topic_{}'.format(i) for i in range(25)]]\n",
    "user_embeddings.head(3)"
   ]
  },
  {
   "cell_type": "code",
   "execution_count": 22,
   "id": "651bb4c8",
   "metadata": {},
   "outputs": [],
   "source": [
    "X = pd.merge(user_embeddings, target, 'left')"
   ]
  },
  {
   "cell_type": "code",
   "execution_count": 23,
   "id": "238277cc",
   "metadata": {},
   "outputs": [],
   "source": [
    "#разделим данные на train/test\n",
    "X_train, X_test, y_train, y_test = train_test_split(X[['topic_{}'.format(i) for i in range(25)]], \n",
    "                                                    X['churn'], random_state=0)"
   ]
  },
  {
   "cell_type": "code",
   "execution_count": 24,
   "id": "ed9fd642",
   "metadata": {},
   "outputs": [
    {
     "data": {
      "text/plain": [
       "LogisticRegression()"
      ]
     },
     "execution_count": 24,
     "metadata": {},
     "output_type": "execute_result"
    }
   ],
   "source": [
    "logreg = LogisticRegression()\n",
    "#обучим \n",
    "logreg.fit(X_train, y_train)"
   ]
  },
  {
   "cell_type": "markdown",
   "id": "9f3e09d6",
   "metadata": {},
   "source": [
    "##### Выполним прогнозирование."
   ]
  },
  {
   "cell_type": "code",
   "execution_count": 25,
   "id": "0b330a29",
   "metadata": {},
   "outputs": [],
   "source": [
    "#наши прогнозы для тестовой выборки\n",
    "preds = logreg.predict_proba(X_test)[:, 1]"
   ]
  },
  {
   "cell_type": "code",
   "execution_count": 26,
   "id": "07b7e8e1",
   "metadata": {},
   "outputs": [
    {
     "name": "stdout",
     "output_type": "stream",
     "text": [
      "Best Threshold=0.272451, F-Score=0.795, Precision=0.744, Recall=0.853\n"
     ]
    }
   ],
   "source": [
    "precision, recall, thresholds = precision_recall_curve(y_test, preds)\n",
    "fscore = (2 * precision * recall) / (precision + recall)\n",
    "# locate the index of the largest f score\n",
    "ix = np.argmax(fscore)\n",
    "print('Best Threshold=%f, F-Score=%.3f, Precision=%.3f, Recall=%.3f' % (thresholds[ix], \n",
    "                                                                        fscore[ix],\n",
    "                                                                        precision[ix],\n",
    "                                                                        recall[ix]))"
   ]
  },
  {
   "cell_type": "markdown",
   "id": "96c583f6",
   "metadata": {},
   "source": [
    "##### Сравним метрики новой и изначальной моделей."
   ]
  },
  {
   "cell_type": "code",
   "execution_count": 27,
   "id": "fcc6f88e",
   "metadata": {},
   "outputs": [],
   "source": [
    "theshold_1 = thresholds[ix]\n",
    "fscore_1 = fscore[ix]\n",
    "precision_1 = precision[ix]\n",
    "recall_1 = recall[ix]\n",
    "roc_auc_score_1 = roc_auc_score(y_test, preds)"
   ]
  },
  {
   "cell_type": "code",
   "execution_count": 28,
   "id": "d07e4327",
   "metadata": {},
   "outputs": [
    {
     "name": "stdout",
     "output_type": "stream",
     "text": [
      "Base Mean Model:\n",
      "\tBest Threshold = 0.298\n",
      "\tF-Score = 0.744\n",
      "\tPrecision = 0.729\n",
      "\tRecall = 0.759\n",
      "\tROC AUC = 0.967\n",
      "\n",
      "New Median Model:\n",
      "\tBest Threshold = 0.272\n",
      "\tF-Score = 0.795\n",
      "\tPrecision = 0.744\n",
      "\tRecall = 0.853\n",
      "\tROC AUC = 0.976\n"
     ]
    }
   ],
   "source": [
    "print(f'Base Mean Model:' \\\n",
    "     f'\\n\\tBest Threshold = {np.round(theshold_0, 3)}' \\\n",
    "     f'\\n\\tF-Score = {np.round(fscore_0, 3)}' \\\n",
    "     f'\\n\\tPrecision = {np.round(precision_0, 3)}' \\\n",
    "     f'\\n\\tRecall = {np.round(recall_0, 3)}' \\\n",
    "     f'\\n\\tROC AUC = {np.round(roc_auc_score_0, 3)}' \\\n",
    "     f'\\n'\n",
    "     f'\\nNew Median Model:' \\\n",
    "     f'\\n\\tBest Threshold = {np.round(theshold_1, 3)}' \\\n",
    "     f'\\n\\tF-Score = {np.round(fscore_1, 3)}' \\\n",
    "     f'\\n\\tPrecision = {np.round(precision_1, 3)}' \\\n",
    "     f'\\n\\tRecall = {np.round(recall_1, 3)}'\n",
    "     f'\\n\\tROC AUC = {np.round(roc_auc_score_1, 3)}')"
   ]
  },
  {
   "cell_type": "markdown",
   "id": "cd1e9397",
   "metadata": {},
   "source": [
    "##### Порог выбора класса изменился. Точность прогнозирования улучшилась в ущерб Полноте. Метрика F-Score незначительно ухудшилась."
   ]
  },
  {
   "cell_type": "markdown",
   "id": "ba7c72a4",
   "metadata": {},
   "source": [
    "## 3. Повторить п.2, но используя уже не медиану, а max"
   ]
  },
  {
   "cell_type": "markdown",
   "id": "d7bc9235",
   "metadata": {},
   "source": [
    "##### Внесём изменения в функцию \"get_user_embedding\" согласно заданию: вычислять не среднее значение, а максимальное для вектора признаков пользователя."
   ]
  },
  {
   "cell_type": "code",
   "execution_count": 29,
   "id": "1a3e8ff1",
   "metadata": {},
   "outputs": [],
   "source": [
    "def get_user_embedding(user_articles_list):\n",
    "    user_articles_list = eval(user_articles_list)\n",
    "    user_vector = np.array([doc_dict[doc_id] for doc_id in user_articles_list])\n",
    "#     ИЗМЕНЕНИЯ\n",
    "#     user_vector = np.mean(user_vector, 0)\n",
    "    user_vector = np.max(user_vector, 0)\n",
    "    return user_vector"
   ]
  },
  {
   "cell_type": "markdown",
   "id": "451354cb",
   "metadata": {},
   "source": [
    "##### Применим остальные преобразования и обучим новую модель."
   ]
  },
  {
   "cell_type": "code",
   "execution_count": 30,
   "id": "71b965d5",
   "metadata": {},
   "outputs": [
    {
     "data": {
      "text/html": [
       "<div>\n",
       "<style scoped>\n",
       "    .dataframe tbody tr th:only-of-type {\n",
       "        vertical-align: middle;\n",
       "    }\n",
       "\n",
       "    .dataframe tbody tr th {\n",
       "        vertical-align: top;\n",
       "    }\n",
       "\n",
       "    .dataframe thead th {\n",
       "        text-align: right;\n",
       "    }\n",
       "</style>\n",
       "<table border=\"1\" class=\"dataframe\">\n",
       "  <thead>\n",
       "    <tr style=\"text-align: right;\">\n",
       "      <th></th>\n",
       "      <th>uid</th>\n",
       "      <th>topic_0</th>\n",
       "      <th>topic_1</th>\n",
       "      <th>topic_2</th>\n",
       "      <th>topic_3</th>\n",
       "      <th>topic_4</th>\n",
       "      <th>topic_5</th>\n",
       "      <th>topic_6</th>\n",
       "      <th>topic_7</th>\n",
       "      <th>topic_8</th>\n",
       "      <th>...</th>\n",
       "      <th>topic_15</th>\n",
       "      <th>topic_16</th>\n",
       "      <th>topic_17</th>\n",
       "      <th>topic_18</th>\n",
       "      <th>topic_19</th>\n",
       "      <th>topic_20</th>\n",
       "      <th>topic_21</th>\n",
       "      <th>topic_22</th>\n",
       "      <th>topic_23</th>\n",
       "      <th>topic_24</th>\n",
       "    </tr>\n",
       "  </thead>\n",
       "  <tbody>\n",
       "    <tr>\n",
       "      <th>0</th>\n",
       "      <td>u105138</td>\n",
       "      <td>0.0</td>\n",
       "      <td>0.027107</td>\n",
       "      <td>0.232136</td>\n",
       "      <td>0.098201</td>\n",
       "      <td>0.022071</td>\n",
       "      <td>0.0</td>\n",
       "      <td>0.196888</td>\n",
       "      <td>0.182661</td>\n",
       "      <td>0.000000</td>\n",
       "      <td>...</td>\n",
       "      <td>0.034032</td>\n",
       "      <td>0.394648</td>\n",
       "      <td>0.0</td>\n",
       "      <td>0.331650</td>\n",
       "      <td>0.072692</td>\n",
       "      <td>0.758645</td>\n",
       "      <td>0.227219</td>\n",
       "      <td>0.110803</td>\n",
       "      <td>0.000000</td>\n",
       "      <td>0.088531</td>\n",
       "    </tr>\n",
       "    <tr>\n",
       "      <th>1</th>\n",
       "      <td>u108690</td>\n",
       "      <td>0.0</td>\n",
       "      <td>0.120409</td>\n",
       "      <td>0.132234</td>\n",
       "      <td>0.050176</td>\n",
       "      <td>0.044802</td>\n",
       "      <td>0.0</td>\n",
       "      <td>0.103502</td>\n",
       "      <td>0.093545</td>\n",
       "      <td>0.000000</td>\n",
       "      <td>...</td>\n",
       "      <td>0.055222</td>\n",
       "      <td>0.371946</td>\n",
       "      <td>0.0</td>\n",
       "      <td>0.034154</td>\n",
       "      <td>0.212331</td>\n",
       "      <td>0.330294</td>\n",
       "      <td>0.174794</td>\n",
       "      <td>0.150093</td>\n",
       "      <td>0.098181</td>\n",
       "      <td>0.015090</td>\n",
       "    </tr>\n",
       "    <tr>\n",
       "      <th>2</th>\n",
       "      <td>u108339</td>\n",
       "      <td>0.0</td>\n",
       "      <td>0.109939</td>\n",
       "      <td>0.194357</td>\n",
       "      <td>0.000000</td>\n",
       "      <td>0.027341</td>\n",
       "      <td>0.0</td>\n",
       "      <td>0.142424</td>\n",
       "      <td>0.060171</td>\n",
       "      <td>0.025646</td>\n",
       "      <td>...</td>\n",
       "      <td>0.060767</td>\n",
       "      <td>0.242333</td>\n",
       "      <td>0.0</td>\n",
       "      <td>0.062487</td>\n",
       "      <td>0.101118</td>\n",
       "      <td>0.335134</td>\n",
       "      <td>0.214531</td>\n",
       "      <td>0.048433</td>\n",
       "      <td>0.189861</td>\n",
       "      <td>0.175773</td>\n",
       "    </tr>\n",
       "  </tbody>\n",
       "</table>\n",
       "<p>3 rows × 26 columns</p>\n",
       "</div>"
      ],
      "text/plain": [
       "       uid  topic_0   topic_1   topic_2   topic_3   topic_4  topic_5  \\\n",
       "0  u105138      0.0  0.027107  0.232136  0.098201  0.022071      0.0   \n",
       "1  u108690      0.0  0.120409  0.132234  0.050176  0.044802      0.0   \n",
       "2  u108339      0.0  0.109939  0.194357  0.000000  0.027341      0.0   \n",
       "\n",
       "    topic_6   topic_7   topic_8  ...  topic_15  topic_16  topic_17  topic_18  \\\n",
       "0  0.196888  0.182661  0.000000  ...  0.034032  0.394648       0.0  0.331650   \n",
       "1  0.103502  0.093545  0.000000  ...  0.055222  0.371946       0.0  0.034154   \n",
       "2  0.142424  0.060171  0.025646  ...  0.060767  0.242333       0.0  0.062487   \n",
       "\n",
       "   topic_19  topic_20  topic_21  topic_22  topic_23  topic_24  \n",
       "0  0.072692  0.758645  0.227219  0.110803  0.000000  0.088531  \n",
       "1  0.212331  0.330294  0.174794  0.150093  0.098181  0.015090  \n",
       "2  0.101118  0.335134  0.214531  0.048433  0.189861  0.175773  \n",
       "\n",
       "[3 rows x 26 columns]"
      ]
     },
     "execution_count": 30,
     "metadata": {},
     "output_type": "execute_result"
    }
   ],
   "source": [
    "user_embeddings = pd.DataFrame([i for i in users['articles'].apply(lambda x: get_user_embedding(x), 1)])\n",
    "user_embeddings.columns = ['topic_{}'.format(i) for i in range(25)]\n",
    "user_embeddings['uid'] = users['uid'].values\n",
    "user_embeddings = user_embeddings[['uid']+['topic_{}'.format(i) for i in range(25)]]\n",
    "user_embeddings.head(3)"
   ]
  },
  {
   "cell_type": "code",
   "execution_count": 31,
   "id": "bdbb3cc7",
   "metadata": {},
   "outputs": [],
   "source": [
    "X = pd.merge(user_embeddings, target, 'left')"
   ]
  },
  {
   "cell_type": "code",
   "execution_count": 32,
   "id": "80c6ff8d",
   "metadata": {},
   "outputs": [],
   "source": [
    "#разделим данные на train/test\n",
    "X_train, X_test, y_train, y_test = train_test_split(X[['topic_{}'.format(i) for i in range(25)]], \n",
    "                                                    X['churn'], random_state=0)"
   ]
  },
  {
   "cell_type": "code",
   "execution_count": 33,
   "id": "24160c64",
   "metadata": {
    "scrolled": true
   },
   "outputs": [
    {
     "data": {
      "text/plain": [
       "LogisticRegression()"
      ]
     },
     "execution_count": 33,
     "metadata": {},
     "output_type": "execute_result"
    }
   ],
   "source": [
    "logreg = LogisticRegression()\n",
    "#обучим \n",
    "logreg.fit(X_train, y_train)"
   ]
  },
  {
   "cell_type": "markdown",
   "id": "2ecd871b",
   "metadata": {},
   "source": [
    "##### Выполним прогнозирование."
   ]
  },
  {
   "cell_type": "code",
   "execution_count": 34,
   "id": "2bf4ed5c",
   "metadata": {},
   "outputs": [],
   "source": [
    "#наши прогнозы для тестовой выборки\n",
    "preds = logreg.predict_proba(X_test)[:, 1]"
   ]
  },
  {
   "cell_type": "code",
   "execution_count": 35,
   "id": "b805984e",
   "metadata": {},
   "outputs": [
    {
     "name": "stdout",
     "output_type": "stream",
     "text": [
      "Best Threshold=0.366854, F-Score=0.820, Precision=0.812, Recall=0.829\n"
     ]
    }
   ],
   "source": [
    "precision, recall, thresholds = precision_recall_curve(y_test, preds)\n",
    "fscore = (2 * precision * recall) / (precision + recall)\n",
    "# locate the index of the largest f score\n",
    "ix = np.argmax(fscore)\n",
    "print('Best Threshold=%f, F-Score=%.3f, Precision=%.3f, Recall=%.3f' % (thresholds[ix], \n",
    "                                                                        fscore[ix],\n",
    "                                                                        precision[ix],\n",
    "                                                                        recall[ix]))"
   ]
  },
  {
   "cell_type": "markdown",
   "id": "93ac607c",
   "metadata": {},
   "source": [
    "##### Сравним метрики новой и изначальной моделей."
   ]
  },
  {
   "cell_type": "code",
   "execution_count": 36,
   "id": "54ab624c",
   "metadata": {},
   "outputs": [],
   "source": [
    "theshold_2 = thresholds[ix]\n",
    "fscore_2 = fscore[ix]\n",
    "precision_2 = precision[ix]\n",
    "recall_2 = recall[ix]\n",
    "roc_auc_score_2 = roc_auc_score(y_test, preds)"
   ]
  },
  {
   "cell_type": "code",
   "execution_count": 37,
   "id": "0b25bf71",
   "metadata": {
    "scrolled": true
   },
   "outputs": [
    {
     "name": "stdout",
     "output_type": "stream",
     "text": [
      "Base Mean Model:\n",
      "\tBest Threshold = 0.298\n",
      "\tF-Score = 0.744\n",
      "\tPrecision = 0.729\n",
      "\tRecall = 0.759\n",
      "\tROC AUC = 0.967\n",
      "\n",
      "New Max Model:\n",
      "\tBest Threshold = 0.367\n",
      "\tF-Score = 0.82\n",
      "\tPrecision = 0.812\n",
      "\tRecall = 0.829\n",
      "\tROC AUC = 0.98\n"
     ]
    }
   ],
   "source": [
    "print(f'Base Mean Model:' \\\n",
    "     f'\\n\\tBest Threshold = {np.round(theshold_0, 3)}' \\\n",
    "     f'\\n\\tF-Score = {np.round(fscore_0, 3)}' \\\n",
    "     f'\\n\\tPrecision = {np.round(precision_0, 3)}' \\\n",
    "     f'\\n\\tRecall = {np.round(recall_0, 3)}' \\\n",
    "     f'\\n\\tROC AUC = {np.round(roc_auc_score_0, 3)}' \\\n",
    "     f'\\n'\n",
    "     f'\\nNew Max Model:' \\\n",
    "     f'\\n\\tBest Threshold = {np.round(theshold_2, 3)}' \\\n",
    "     f'\\n\\tF-Score = {np.round(fscore_2, 3)}' \\\n",
    "     f'\\n\\tPrecision = {np.round(precision_2, 3)}' \\\n",
    "     f'\\n\\tRecall = {np.round(recall_2, 3)}'\n",
    "     f'\\n\\tROC AUC = {np.round(roc_auc_score_2, 3)}')"
   ]
  },
  {
   "cell_type": "markdown",
   "id": "3d3e22a4",
   "metadata": {},
   "source": [
    "##### Порог выбора класса изменился. Все метрики улучшились."
   ]
  },
  {
   "cell_type": "markdown",
   "id": "bad54072",
   "metadata": {},
   "source": [
    "## 4. (опциональное, если очень хочется) Воспользовавшись полученными знаниями из п.1, повторить пункт 2, но уже взвешивая новости по tfidf (подсказка: нужно получить веса-коэффициенты для каждого документа. Не все документы одинаково информативны и несут какой-то положительный сигнал). Подсказка 2 - нужен именно idf, как вес."
   ]
  },
  {
   "cell_type": "markdown",
   "id": "3090857f",
   "metadata": {},
   "source": [
    "##### Скопируем оригинальный набор данных, чтобы выполнять преобразования на копии."
   ]
  },
  {
   "cell_type": "code",
   "execution_count": 38,
   "id": "a31990d2",
   "metadata": {},
   "outputs": [
    {
     "data": {
      "text/html": [
       "<div>\n",
       "<style scoped>\n",
       "    .dataframe tbody tr th:only-of-type {\n",
       "        vertical-align: middle;\n",
       "    }\n",
       "\n",
       "    .dataframe tbody tr th {\n",
       "        vertical-align: top;\n",
       "    }\n",
       "\n",
       "    .dataframe thead th {\n",
       "        text-align: right;\n",
       "    }\n",
       "</style>\n",
       "<table border=\"1\" class=\"dataframe\">\n",
       "  <thead>\n",
       "    <tr style=\"text-align: right;\">\n",
       "      <th></th>\n",
       "      <th>doc_id</th>\n",
       "      <th>title</th>\n",
       "    </tr>\n",
       "  </thead>\n",
       "  <tbody>\n",
       "    <tr>\n",
       "      <th>0</th>\n",
       "      <td>6</td>\n",
       "      <td>[заместитель, председатель, правительство, рф,...</td>\n",
       "    </tr>\n",
       "    <tr>\n",
       "      <th>1</th>\n",
       "      <td>4896</td>\n",
       "      <td>[матч, финал, кубок, россия, футбол, приостано...</td>\n",
       "    </tr>\n",
       "    <tr>\n",
       "      <th>2</th>\n",
       "      <td>4897</td>\n",
       "      <td>[форвард, авангард, томаш, заборский, прокомме...</td>\n",
       "    </tr>\n",
       "    <tr>\n",
       "      <th>3</th>\n",
       "      <td>4898</td>\n",
       "      <td>[главный, тренер, кубань, юрий, красножанин, п...</td>\n",
       "    </tr>\n",
       "    <tr>\n",
       "      <th>4</th>\n",
       "      <td>4899</td>\n",
       "      <td>[решение, попечительский, совет, владивостокск...</td>\n",
       "    </tr>\n",
       "  </tbody>\n",
       "</table>\n",
       "</div>"
      ],
      "text/plain": [
       "   doc_id                                              title\n",
       "0       6  [заместитель, председатель, правительство, рф,...\n",
       "1    4896  [матч, финал, кубок, россия, футбол, приостано...\n",
       "2    4897  [форвард, авангард, томаш, заборский, прокомме...\n",
       "3    4898  [главный, тренер, кубань, юрий, красножанин, п...\n",
       "4    4899  [решение, попечительский, совет, владивостокск..."
      ]
     },
     "execution_count": 38,
     "metadata": {},
     "output_type": "execute_result"
    }
   ],
   "source": [
    "news_2 = news.copy()\n",
    "news_2.head()"
   ]
  },
  {
   "cell_type": "markdown",
   "id": "c4a6cdfc",
   "metadata": {},
   "source": [
    "##### Столбец \"title\" представим в виде строк."
   ]
  },
  {
   "cell_type": "code",
   "execution_count": 39,
   "id": "d9cc41bb",
   "metadata": {
    "scrolled": true
   },
   "outputs": [
    {
     "data": {
      "text/html": [
       "<div>\n",
       "<style scoped>\n",
       "    .dataframe tbody tr th:only-of-type {\n",
       "        vertical-align: middle;\n",
       "    }\n",
       "\n",
       "    .dataframe tbody tr th {\n",
       "        vertical-align: top;\n",
       "    }\n",
       "\n",
       "    .dataframe thead th {\n",
       "        text-align: right;\n",
       "    }\n",
       "</style>\n",
       "<table border=\"1\" class=\"dataframe\">\n",
       "  <thead>\n",
       "    <tr style=\"text-align: right;\">\n",
       "      <th></th>\n",
       "      <th>doc_id</th>\n",
       "      <th>title</th>\n",
       "      <th>title_str</th>\n",
       "    </tr>\n",
       "  </thead>\n",
       "  <tbody>\n",
       "    <tr>\n",
       "      <th>0</th>\n",
       "      <td>6</td>\n",
       "      <td>[заместитель, председатель, правительство, рф,...</td>\n",
       "      <td>заместитель председатель правительство рф серг...</td>\n",
       "    </tr>\n",
       "    <tr>\n",
       "      <th>1</th>\n",
       "      <td>4896</td>\n",
       "      <td>[матч, финал, кубок, россия, футбол, приостано...</td>\n",
       "      <td>матч финал кубок россия футбол приостановить с...</td>\n",
       "    </tr>\n",
       "    <tr>\n",
       "      <th>2</th>\n",
       "      <td>4897</td>\n",
       "      <td>[форвард, авангард, томаш, заборский, прокомме...</td>\n",
       "      <td>форвард авангард томаш заборский прокомментиро...</td>\n",
       "    </tr>\n",
       "    <tr>\n",
       "      <th>3</th>\n",
       "      <td>4898</td>\n",
       "      <td>[главный, тренер, кубань, юрий, красножанин, п...</td>\n",
       "      <td>главный тренер кубань юрий красножанин прокомм...</td>\n",
       "    </tr>\n",
       "    <tr>\n",
       "      <th>4</th>\n",
       "      <td>4899</td>\n",
       "      <td>[решение, попечительский, совет, владивостокск...</td>\n",
       "      <td>решение попечительский совет владивостокский с...</td>\n",
       "    </tr>\n",
       "  </tbody>\n",
       "</table>\n",
       "</div>"
      ],
      "text/plain": [
       "   doc_id                                              title  \\\n",
       "0       6  [заместитель, председатель, правительство, рф,...   \n",
       "1    4896  [матч, финал, кубок, россия, футбол, приостано...   \n",
       "2    4897  [форвард, авангард, томаш, заборский, прокомме...   \n",
       "3    4898  [главный, тренер, кубань, юрий, красножанин, п...   \n",
       "4    4899  [решение, попечительский, совет, владивостокск...   \n",
       "\n",
       "                                           title_str  \n",
       "0  заместитель председатель правительство рф серг...  \n",
       "1  матч финал кубок россия футбол приостановить с...  \n",
       "2  форвард авангард томаш заборский прокомментиро...  \n",
       "3  главный тренер кубань юрий красножанин прокомм...  \n",
       "4  решение попечительский совет владивостокский с...  "
      ]
     },
     "execution_count": 39,
     "metadata": {},
     "output_type": "execute_result"
    }
   ],
   "source": [
    "news_2['title_str'] = [' '.join(map(str, word)) for word in news_2['title']]\n",
    "news_2.head()"
   ]
  },
  {
   "cell_type": "markdown",
   "id": "5ade1aaa",
   "metadata": {},
   "source": [
    "##### Инициализируем и обучим векторизатор."
   ]
  },
  {
   "cell_type": "code",
   "execution_count": 40,
   "id": "a02083a2",
   "metadata": {},
   "outputs": [
    {
     "name": "stdout",
     "output_type": "stream",
     "text": [
      "Wall time: 4.66 s\n"
     ]
    }
   ],
   "source": [
    "%%time\n",
    "\n",
    "tf_idf = TfidfVectorizer()\n",
    "news_vectorized = tf_idf.fit_transform(news_2['title_str'])"
   ]
  },
  {
   "cell_type": "markdown",
   "id": "8e2aedae",
   "metadata": {},
   "source": [
    "##### Теперь можно получить idf для каждого слова.\n",
    "##### Однако в словаре присутствуют не все значения. Некоторые мусорные биграммы не попали, поэтому итерировать подряд не получается."
   ]
  },
  {
   "cell_type": "code",
   "execution_count": 41,
   "id": "c671e8a0",
   "metadata": {
    "scrolled": true
   },
   "outputs": [
    {
     "data": {
      "text/plain": [
       "3.5402215164441695"
      ]
     },
     "execution_count": 41,
     "metadata": {},
     "output_type": "execute_result"
    }
   ],
   "source": [
    "tf_idf.idf_[tf_idf.vocabulary_['заместитель']]"
   ]
  },
  {
   "cell_type": "markdown",
   "id": "778e4813",
   "metadata": {},
   "source": [
    "##### Также можно получить tf-idf значения для каждого слова документа."
   ]
  },
  {
   "cell_type": "code",
   "execution_count": 42,
   "id": "5890e6f6",
   "metadata": {
    "scrolled": true
   },
   "outputs": [
    {
     "data": {
      "text/plain": [
       "[0.13150991844482543,\n",
       " 0.09432359963511662,\n",
       " 0.055132338031055064,\n",
       " 0.1135083846056379,\n",
       " 0.10476209891237813]"
      ]
     },
     "execution_count": 42,
     "metadata": {},
     "output_type": "execute_result"
    }
   ],
   "source": [
    "[x for x in news_vectorized.getrow(0).toarray()[0] if x != 0][0:5]"
   ]
  },
  {
   "cell_type": "markdown",
   "id": "98461ebf",
   "metadata": {},
   "source": [
    "##### Представим все слова всех документов в виде idf слов."
   ]
  },
  {
   "cell_type": "code",
   "execution_count": 43,
   "id": "8af318f1",
   "metadata": {},
   "outputs": [
    {
     "name": "stdout",
     "output_type": "stream",
     "text": [
      "Wall time: 1.62 s\n"
     ]
    }
   ],
   "source": [
    "%%time\n",
    "\n",
    "title = news['title']\n",
    "\n",
    "dict_words_idf = dict(zip(tf_idf.get_feature_names_out(), tf_idf.idf_))\n",
    "\n",
    "# title_idf = title.apply(lambda x: [tf_idf.idf_[tf_idf.vocabulary_[word]] if word in tf_idf.vocabulary_.keys() else 0 for word in x])\n",
    "title_idf = title.apply(lambda x: [dict_words_idf[word] if word in dict_words_idf.keys() else 0 for word in x])"
   ]
  },
  {
   "cell_type": "markdown",
   "id": "a4d56898",
   "metadata": {},
   "source": [
    "##### Получили idf всех слов для каждого документа."
   ]
  },
  {
   "cell_type": "code",
   "execution_count": 44,
   "id": "4e4f9cb6",
   "metadata": {},
   "outputs": [
    {
     "data": {
      "text/plain": [
       "0    [3.5402215164441695, 3.488505577705544, 2.8771...\n",
       "1    [3.883764251528679, 4.882860887087066, 5.54763...\n",
       "2    [5.635284677576553, 6.485130310042554, 7.59271...\n",
       "3    [2.8873289323008016, 4.648272289526984, 6.3914...\n",
       "4    [2.5373265673335705, 7.044746097977977, 3.2181...\n",
       "Name: title, dtype: object"
      ]
     },
     "execution_count": 44,
     "metadata": {},
     "output_type": "execute_result"
    }
   ],
   "source": [
    "title_idf.head()"
   ]
  },
  {
   "cell_type": "markdown",
   "id": "00aa9b1d",
   "metadata": {},
   "source": [
    "##### Далее необходимо вычислить idf вес для каждого документа.\n",
    "##### Используем среднее всех весов слов для вычисления idf веса документа, чтобы в равной мере учитывалось влияние каждого слова в документе. "
   ]
  },
  {
   "cell_type": "code",
   "execution_count": 45,
   "id": "a4603dce",
   "metadata": {},
   "outputs": [
    {
     "name": "stdout",
     "output_type": "stream",
     "text": [
      "Wall time: 461 ms\n"
     ]
    },
    {
     "data": {
      "text/plain": [
       "0    4.586159\n",
       "1    4.765937\n",
       "2    4.673049\n",
       "3    4.526728\n",
       "4    4.985130\n",
       "Name: title, dtype: float64"
      ]
     },
     "execution_count": 45,
     "metadata": {},
     "output_type": "execute_result"
    }
   ],
   "source": [
    "%%time\n",
    "\n",
    "title_idf_mean = title_idf.apply(lambda x: np.mean(x))\n",
    "\n",
    "title_idf_mean.head()"
   ]
  },
  {
   "cell_type": "markdown",
   "id": "648c5ce6",
   "metadata": {},
   "source": [
    "##### Далее домножим значения LDA матрицу на вычисленные idf веса."
   ]
  },
  {
   "cell_type": "code",
   "execution_count": 46,
   "id": "a7a26dcc",
   "metadata": {},
   "outputs": [
    {
     "data": {
      "text/html": [
       "<div>\n",
       "<style scoped>\n",
       "    .dataframe tbody tr th:only-of-type {\n",
       "        vertical-align: middle;\n",
       "    }\n",
       "\n",
       "    .dataframe tbody tr th {\n",
       "        vertical-align: top;\n",
       "    }\n",
       "\n",
       "    .dataframe thead th {\n",
       "        text-align: right;\n",
       "    }\n",
       "</style>\n",
       "<table border=\"1\" class=\"dataframe\">\n",
       "  <thead>\n",
       "    <tr style=\"text-align: right;\">\n",
       "      <th></th>\n",
       "      <th>doc_id</th>\n",
       "      <th>topic_0</th>\n",
       "      <th>topic_1</th>\n",
       "      <th>topic_2</th>\n",
       "      <th>topic_3</th>\n",
       "      <th>topic_4</th>\n",
       "      <th>topic_5</th>\n",
       "      <th>topic_6</th>\n",
       "      <th>topic_7</th>\n",
       "      <th>topic_8</th>\n",
       "      <th>...</th>\n",
       "      <th>topic_15</th>\n",
       "      <th>topic_16</th>\n",
       "      <th>topic_17</th>\n",
       "      <th>topic_18</th>\n",
       "      <th>topic_19</th>\n",
       "      <th>topic_20</th>\n",
       "      <th>topic_21</th>\n",
       "      <th>topic_22</th>\n",
       "      <th>topic_23</th>\n",
       "      <th>topic_24</th>\n",
       "    </tr>\n",
       "  </thead>\n",
       "  <tbody>\n",
       "    <tr>\n",
       "      <th>0</th>\n",
       "      <td>6</td>\n",
       "      <td>0.0</td>\n",
       "      <td>0.710270</td>\n",
       "      <td>0.000000</td>\n",
       "      <td>0.0</td>\n",
       "      <td>0.0</td>\n",
       "      <td>0.0</td>\n",
       "      <td>0.000000</td>\n",
       "      <td>0.019563</td>\n",
       "      <td>0.0</td>\n",
       "      <td>...</td>\n",
       "      <td>0.0</td>\n",
       "      <td>0.000000</td>\n",
       "      <td>0.0</td>\n",
       "      <td>0.116719</td>\n",
       "      <td>0.0</td>\n",
       "      <td>0.0</td>\n",
       "      <td>0.00000</td>\n",
       "      <td>0.0</td>\n",
       "      <td>0.0</td>\n",
       "      <td>0.0</td>\n",
       "    </tr>\n",
       "    <tr>\n",
       "      <th>1</th>\n",
       "      <td>4896</td>\n",
       "      <td>0.0</td>\n",
       "      <td>0.000000</td>\n",
       "      <td>0.523769</td>\n",
       "      <td>0.0</td>\n",
       "      <td>0.0</td>\n",
       "      <td>0.0</td>\n",
       "      <td>0.083562</td>\n",
       "      <td>0.000000</td>\n",
       "      <td>0.0</td>\n",
       "      <td>...</td>\n",
       "      <td>0.0</td>\n",
       "      <td>0.000000</td>\n",
       "      <td>0.0</td>\n",
       "      <td>0.000000</td>\n",
       "      <td>0.0</td>\n",
       "      <td>0.0</td>\n",
       "      <td>0.00000</td>\n",
       "      <td>0.0</td>\n",
       "      <td>0.0</td>\n",
       "      <td>0.0</td>\n",
       "    </tr>\n",
       "    <tr>\n",
       "      <th>2</th>\n",
       "      <td>4897</td>\n",
       "      <td>0.0</td>\n",
       "      <td>0.000000</td>\n",
       "      <td>0.000000</td>\n",
       "      <td>0.0</td>\n",
       "      <td>0.0</td>\n",
       "      <td>0.0</td>\n",
       "      <td>0.000000</td>\n",
       "      <td>0.000000</td>\n",
       "      <td>0.0</td>\n",
       "      <td>...</td>\n",
       "      <td>0.0</td>\n",
       "      <td>0.091903</td>\n",
       "      <td>0.0</td>\n",
       "      <td>0.000000</td>\n",
       "      <td>0.0</td>\n",
       "      <td>0.0</td>\n",
       "      <td>0.00000</td>\n",
       "      <td>0.0</td>\n",
       "      <td>0.0</td>\n",
       "      <td>0.0</td>\n",
       "    </tr>\n",
       "    <tr>\n",
       "      <th>3</th>\n",
       "      <td>4898</td>\n",
       "      <td>0.0</td>\n",
       "      <td>0.028886</td>\n",
       "      <td>0.540329</td>\n",
       "      <td>0.0</td>\n",
       "      <td>0.0</td>\n",
       "      <td>0.0</td>\n",
       "      <td>0.000000</td>\n",
       "      <td>0.000000</td>\n",
       "      <td>0.0</td>\n",
       "      <td>...</td>\n",
       "      <td>0.0</td>\n",
       "      <td>0.000000</td>\n",
       "      <td>0.0</td>\n",
       "      <td>0.000000</td>\n",
       "      <td>0.0</td>\n",
       "      <td>0.0</td>\n",
       "      <td>0.09729</td>\n",
       "      <td>0.0</td>\n",
       "      <td>0.0</td>\n",
       "      <td>0.0</td>\n",
       "    </tr>\n",
       "    <tr>\n",
       "      <th>4</th>\n",
       "      <td>4899</td>\n",
       "      <td>0.0</td>\n",
       "      <td>0.822350</td>\n",
       "      <td>0.000000</td>\n",
       "      <td>0.0</td>\n",
       "      <td>0.0</td>\n",
       "      <td>0.0</td>\n",
       "      <td>0.000000</td>\n",
       "      <td>0.000000</td>\n",
       "      <td>0.0</td>\n",
       "      <td>...</td>\n",
       "      <td>0.0</td>\n",
       "      <td>0.000000</td>\n",
       "      <td>0.0</td>\n",
       "      <td>0.000000</td>\n",
       "      <td>0.0</td>\n",
       "      <td>0.0</td>\n",
       "      <td>0.00000</td>\n",
       "      <td>0.0</td>\n",
       "      <td>0.0</td>\n",
       "      <td>0.0</td>\n",
       "    </tr>\n",
       "  </tbody>\n",
       "</table>\n",
       "<p>5 rows × 26 columns</p>\n",
       "</div>"
      ],
      "text/plain": [
       "   doc_id  topic_0   topic_1   topic_2  topic_3  topic_4  topic_5   topic_6  \\\n",
       "0       6      0.0  0.710270  0.000000      0.0      0.0      0.0  0.000000   \n",
       "1    4896      0.0  0.000000  0.523769      0.0      0.0      0.0  0.083562   \n",
       "2    4897      0.0  0.000000  0.000000      0.0      0.0      0.0  0.000000   \n",
       "3    4898      0.0  0.028886  0.540329      0.0      0.0      0.0  0.000000   \n",
       "4    4899      0.0  0.822350  0.000000      0.0      0.0      0.0  0.000000   \n",
       "\n",
       "    topic_7  topic_8  ...  topic_15  topic_16  topic_17  topic_18  topic_19  \\\n",
       "0  0.019563      0.0  ...       0.0  0.000000       0.0  0.116719       0.0   \n",
       "1  0.000000      0.0  ...       0.0  0.000000       0.0  0.000000       0.0   \n",
       "2  0.000000      0.0  ...       0.0  0.091903       0.0  0.000000       0.0   \n",
       "3  0.000000      0.0  ...       0.0  0.000000       0.0  0.000000       0.0   \n",
       "4  0.000000      0.0  ...       0.0  0.000000       0.0  0.000000       0.0   \n",
       "\n",
       "   topic_20  topic_21  topic_22  topic_23  topic_24  \n",
       "0       0.0   0.00000       0.0       0.0       0.0  \n",
       "1       0.0   0.00000       0.0       0.0       0.0  \n",
       "2       0.0   0.00000       0.0       0.0       0.0  \n",
       "3       0.0   0.09729       0.0       0.0       0.0  \n",
       "4       0.0   0.00000       0.0       0.0       0.0  \n",
       "\n",
       "[5 rows x 26 columns]"
      ]
     },
     "execution_count": 46,
     "metadata": {},
     "output_type": "execute_result"
    }
   ],
   "source": [
    "topic_matrix.head(5)"
   ]
  },
  {
   "cell_type": "code",
   "execution_count": 47,
   "id": "65a3d7ca",
   "metadata": {},
   "outputs": [
    {
     "name": "stdout",
     "output_type": "stream",
     "text": [
      "Wall time: 1.98 ms\n"
     ]
    },
    {
     "data": {
      "text/html": [
       "<div>\n",
       "<style scoped>\n",
       "    .dataframe tbody tr th:only-of-type {\n",
       "        vertical-align: middle;\n",
       "    }\n",
       "\n",
       "    .dataframe tbody tr th {\n",
       "        vertical-align: top;\n",
       "    }\n",
       "\n",
       "    .dataframe thead th {\n",
       "        text-align: right;\n",
       "    }\n",
       "</style>\n",
       "<table border=\"1\" class=\"dataframe\">\n",
       "  <thead>\n",
       "    <tr style=\"text-align: right;\">\n",
       "      <th></th>\n",
       "      <th>doc_id</th>\n",
       "      <th>topic_0</th>\n",
       "      <th>topic_1</th>\n",
       "      <th>topic_2</th>\n",
       "      <th>topic_3</th>\n",
       "      <th>topic_4</th>\n",
       "      <th>topic_5</th>\n",
       "      <th>topic_6</th>\n",
       "      <th>topic_7</th>\n",
       "      <th>topic_8</th>\n",
       "      <th>...</th>\n",
       "      <th>topic_16</th>\n",
       "      <th>topic_17</th>\n",
       "      <th>topic_18</th>\n",
       "      <th>topic_19</th>\n",
       "      <th>topic_20</th>\n",
       "      <th>topic_21</th>\n",
       "      <th>topic_22</th>\n",
       "      <th>topic_23</th>\n",
       "      <th>topic_24</th>\n",
       "      <th>title_idf_mean</th>\n",
       "    </tr>\n",
       "  </thead>\n",
       "  <tbody>\n",
       "    <tr>\n",
       "      <th>0</th>\n",
       "      <td>6</td>\n",
       "      <td>0.0</td>\n",
       "      <td>0.710270</td>\n",
       "      <td>0.000000</td>\n",
       "      <td>0.0</td>\n",
       "      <td>0.0</td>\n",
       "      <td>0.0</td>\n",
       "      <td>0.000000</td>\n",
       "      <td>0.019563</td>\n",
       "      <td>0.0</td>\n",
       "      <td>...</td>\n",
       "      <td>0.000000</td>\n",
       "      <td>0.0</td>\n",
       "      <td>0.116719</td>\n",
       "      <td>0.0</td>\n",
       "      <td>0.0</td>\n",
       "      <td>0.00000</td>\n",
       "      <td>0.0</td>\n",
       "      <td>0.0</td>\n",
       "      <td>0.0</td>\n",
       "      <td>4.586159</td>\n",
       "    </tr>\n",
       "    <tr>\n",
       "      <th>1</th>\n",
       "      <td>4896</td>\n",
       "      <td>0.0</td>\n",
       "      <td>0.000000</td>\n",
       "      <td>0.523769</td>\n",
       "      <td>0.0</td>\n",
       "      <td>0.0</td>\n",
       "      <td>0.0</td>\n",
       "      <td>0.083562</td>\n",
       "      <td>0.000000</td>\n",
       "      <td>0.0</td>\n",
       "      <td>...</td>\n",
       "      <td>0.000000</td>\n",
       "      <td>0.0</td>\n",
       "      <td>0.000000</td>\n",
       "      <td>0.0</td>\n",
       "      <td>0.0</td>\n",
       "      <td>0.00000</td>\n",
       "      <td>0.0</td>\n",
       "      <td>0.0</td>\n",
       "      <td>0.0</td>\n",
       "      <td>4.765937</td>\n",
       "    </tr>\n",
       "    <tr>\n",
       "      <th>2</th>\n",
       "      <td>4897</td>\n",
       "      <td>0.0</td>\n",
       "      <td>0.000000</td>\n",
       "      <td>0.000000</td>\n",
       "      <td>0.0</td>\n",
       "      <td>0.0</td>\n",
       "      <td>0.0</td>\n",
       "      <td>0.000000</td>\n",
       "      <td>0.000000</td>\n",
       "      <td>0.0</td>\n",
       "      <td>...</td>\n",
       "      <td>0.091903</td>\n",
       "      <td>0.0</td>\n",
       "      <td>0.000000</td>\n",
       "      <td>0.0</td>\n",
       "      <td>0.0</td>\n",
       "      <td>0.00000</td>\n",
       "      <td>0.0</td>\n",
       "      <td>0.0</td>\n",
       "      <td>0.0</td>\n",
       "      <td>4.673049</td>\n",
       "    </tr>\n",
       "    <tr>\n",
       "      <th>3</th>\n",
       "      <td>4898</td>\n",
       "      <td>0.0</td>\n",
       "      <td>0.028886</td>\n",
       "      <td>0.540329</td>\n",
       "      <td>0.0</td>\n",
       "      <td>0.0</td>\n",
       "      <td>0.0</td>\n",
       "      <td>0.000000</td>\n",
       "      <td>0.000000</td>\n",
       "      <td>0.0</td>\n",
       "      <td>...</td>\n",
       "      <td>0.000000</td>\n",
       "      <td>0.0</td>\n",
       "      <td>0.000000</td>\n",
       "      <td>0.0</td>\n",
       "      <td>0.0</td>\n",
       "      <td>0.09729</td>\n",
       "      <td>0.0</td>\n",
       "      <td>0.0</td>\n",
       "      <td>0.0</td>\n",
       "      <td>4.526728</td>\n",
       "    </tr>\n",
       "    <tr>\n",
       "      <th>4</th>\n",
       "      <td>4899</td>\n",
       "      <td>0.0</td>\n",
       "      <td>0.822350</td>\n",
       "      <td>0.000000</td>\n",
       "      <td>0.0</td>\n",
       "      <td>0.0</td>\n",
       "      <td>0.0</td>\n",
       "      <td>0.000000</td>\n",
       "      <td>0.000000</td>\n",
       "      <td>0.0</td>\n",
       "      <td>...</td>\n",
       "      <td>0.000000</td>\n",
       "      <td>0.0</td>\n",
       "      <td>0.000000</td>\n",
       "      <td>0.0</td>\n",
       "      <td>0.0</td>\n",
       "      <td>0.00000</td>\n",
       "      <td>0.0</td>\n",
       "      <td>0.0</td>\n",
       "      <td>0.0</td>\n",
       "      <td>4.985130</td>\n",
       "    </tr>\n",
       "  </tbody>\n",
       "</table>\n",
       "<p>5 rows × 27 columns</p>\n",
       "</div>"
      ],
      "text/plain": [
       "   doc_id  topic_0   topic_1   topic_2  topic_3  topic_4  topic_5   topic_6  \\\n",
       "0       6      0.0  0.710270  0.000000      0.0      0.0      0.0  0.000000   \n",
       "1    4896      0.0  0.000000  0.523769      0.0      0.0      0.0  0.083562   \n",
       "2    4897      0.0  0.000000  0.000000      0.0      0.0      0.0  0.000000   \n",
       "3    4898      0.0  0.028886  0.540329      0.0      0.0      0.0  0.000000   \n",
       "4    4899      0.0  0.822350  0.000000      0.0      0.0      0.0  0.000000   \n",
       "\n",
       "    topic_7  topic_8  ...  topic_16  topic_17  topic_18  topic_19  topic_20  \\\n",
       "0  0.019563      0.0  ...  0.000000       0.0  0.116719       0.0       0.0   \n",
       "1  0.000000      0.0  ...  0.000000       0.0  0.000000       0.0       0.0   \n",
       "2  0.000000      0.0  ...  0.091903       0.0  0.000000       0.0       0.0   \n",
       "3  0.000000      0.0  ...  0.000000       0.0  0.000000       0.0       0.0   \n",
       "4  0.000000      0.0  ...  0.000000       0.0  0.000000       0.0       0.0   \n",
       "\n",
       "   topic_21  topic_22  topic_23  topic_24  title_idf_mean  \n",
       "0   0.00000       0.0       0.0       0.0        4.586159  \n",
       "1   0.00000       0.0       0.0       0.0        4.765937  \n",
       "2   0.00000       0.0       0.0       0.0        4.673049  \n",
       "3   0.09729       0.0       0.0       0.0        4.526728  \n",
       "4   0.00000       0.0       0.0       0.0        4.985130  \n",
       "\n",
       "[5 rows x 27 columns]"
      ]
     },
     "execution_count": 47,
     "metadata": {},
     "output_type": "execute_result"
    }
   ],
   "source": [
    "%%time\n",
    "\n",
    "topic_matrix_idf = topic_matrix.copy()\n",
    "\n",
    "topic_matrix_idf['title_idf_mean'] = title_idf_mean\n",
    "\n",
    "topic_matrix_idf.head(5)"
   ]
  },
  {
   "cell_type": "code",
   "execution_count": 48,
   "id": "a496fd73",
   "metadata": {},
   "outputs": [
    {
     "name": "stdout",
     "output_type": "stream",
     "text": [
      "Wall time: 11 ms\n"
     ]
    },
    {
     "data": {
      "text/html": [
       "<div>\n",
       "<style scoped>\n",
       "    .dataframe tbody tr th:only-of-type {\n",
       "        vertical-align: middle;\n",
       "    }\n",
       "\n",
       "    .dataframe tbody tr th {\n",
       "        vertical-align: top;\n",
       "    }\n",
       "\n",
       "    .dataframe thead th {\n",
       "        text-align: right;\n",
       "    }\n",
       "</style>\n",
       "<table border=\"1\" class=\"dataframe\">\n",
       "  <thead>\n",
       "    <tr style=\"text-align: right;\">\n",
       "      <th></th>\n",
       "      <th>doc_id</th>\n",
       "      <th>topic_0</th>\n",
       "      <th>topic_1</th>\n",
       "      <th>topic_2</th>\n",
       "      <th>topic_3</th>\n",
       "      <th>topic_4</th>\n",
       "      <th>topic_5</th>\n",
       "      <th>topic_6</th>\n",
       "      <th>topic_7</th>\n",
       "      <th>topic_8</th>\n",
       "      <th>...</th>\n",
       "      <th>topic_15</th>\n",
       "      <th>topic_16</th>\n",
       "      <th>topic_17</th>\n",
       "      <th>topic_18</th>\n",
       "      <th>topic_19</th>\n",
       "      <th>topic_20</th>\n",
       "      <th>topic_21</th>\n",
       "      <th>topic_22</th>\n",
       "      <th>topic_23</th>\n",
       "      <th>topic_24</th>\n",
       "    </tr>\n",
       "  </thead>\n",
       "  <tbody>\n",
       "    <tr>\n",
       "      <th>0</th>\n",
       "      <td>6</td>\n",
       "      <td>0.0</td>\n",
       "      <td>3.257410</td>\n",
       "      <td>0.000000</td>\n",
       "      <td>0.0</td>\n",
       "      <td>0.0</td>\n",
       "      <td>0.0</td>\n",
       "      <td>0.000000</td>\n",
       "      <td>0.089721</td>\n",
       "      <td>0.0</td>\n",
       "      <td>...</td>\n",
       "      <td>0.0</td>\n",
       "      <td>0.000000</td>\n",
       "      <td>0.0</td>\n",
       "      <td>0.535293</td>\n",
       "      <td>0.0</td>\n",
       "      <td>0.0</td>\n",
       "      <td>0.000000</td>\n",
       "      <td>0.0</td>\n",
       "      <td>0.0</td>\n",
       "      <td>0.0</td>\n",
       "    </tr>\n",
       "    <tr>\n",
       "      <th>1</th>\n",
       "      <td>4896</td>\n",
       "      <td>0.0</td>\n",
       "      <td>0.000000</td>\n",
       "      <td>2.496252</td>\n",
       "      <td>0.0</td>\n",
       "      <td>0.0</td>\n",
       "      <td>0.0</td>\n",
       "      <td>0.398251</td>\n",
       "      <td>0.000000</td>\n",
       "      <td>0.0</td>\n",
       "      <td>...</td>\n",
       "      <td>0.0</td>\n",
       "      <td>0.000000</td>\n",
       "      <td>0.0</td>\n",
       "      <td>0.000000</td>\n",
       "      <td>0.0</td>\n",
       "      <td>0.0</td>\n",
       "      <td>0.000000</td>\n",
       "      <td>0.0</td>\n",
       "      <td>0.0</td>\n",
       "      <td>0.0</td>\n",
       "    </tr>\n",
       "    <tr>\n",
       "      <th>2</th>\n",
       "      <td>4897</td>\n",
       "      <td>0.0</td>\n",
       "      <td>0.000000</td>\n",
       "      <td>0.000000</td>\n",
       "      <td>0.0</td>\n",
       "      <td>0.0</td>\n",
       "      <td>0.0</td>\n",
       "      <td>0.000000</td>\n",
       "      <td>0.000000</td>\n",
       "      <td>0.0</td>\n",
       "      <td>...</td>\n",
       "      <td>0.0</td>\n",
       "      <td>0.429469</td>\n",
       "      <td>0.0</td>\n",
       "      <td>0.000000</td>\n",
       "      <td>0.0</td>\n",
       "      <td>0.0</td>\n",
       "      <td>0.000000</td>\n",
       "      <td>0.0</td>\n",
       "      <td>0.0</td>\n",
       "      <td>0.0</td>\n",
       "    </tr>\n",
       "    <tr>\n",
       "      <th>3</th>\n",
       "      <td>4898</td>\n",
       "      <td>0.0</td>\n",
       "      <td>0.130761</td>\n",
       "      <td>2.445922</td>\n",
       "      <td>0.0</td>\n",
       "      <td>0.0</td>\n",
       "      <td>0.0</td>\n",
       "      <td>0.000000</td>\n",
       "      <td>0.000000</td>\n",
       "      <td>0.0</td>\n",
       "      <td>...</td>\n",
       "      <td>0.0</td>\n",
       "      <td>0.000000</td>\n",
       "      <td>0.0</td>\n",
       "      <td>0.000000</td>\n",
       "      <td>0.0</td>\n",
       "      <td>0.0</td>\n",
       "      <td>0.440406</td>\n",
       "      <td>0.0</td>\n",
       "      <td>0.0</td>\n",
       "      <td>0.0</td>\n",
       "    </tr>\n",
       "    <tr>\n",
       "      <th>4</th>\n",
       "      <td>4899</td>\n",
       "      <td>0.0</td>\n",
       "      <td>4.099521</td>\n",
       "      <td>0.000000</td>\n",
       "      <td>0.0</td>\n",
       "      <td>0.0</td>\n",
       "      <td>0.0</td>\n",
       "      <td>0.000000</td>\n",
       "      <td>0.000000</td>\n",
       "      <td>0.0</td>\n",
       "      <td>...</td>\n",
       "      <td>0.0</td>\n",
       "      <td>0.000000</td>\n",
       "      <td>0.0</td>\n",
       "      <td>0.000000</td>\n",
       "      <td>0.0</td>\n",
       "      <td>0.0</td>\n",
       "      <td>0.000000</td>\n",
       "      <td>0.0</td>\n",
       "      <td>0.0</td>\n",
       "      <td>0.0</td>\n",
       "    </tr>\n",
       "  </tbody>\n",
       "</table>\n",
       "<p>5 rows × 26 columns</p>\n",
       "</div>"
      ],
      "text/plain": [
       "   doc_id  topic_0   topic_1   topic_2  topic_3  topic_4  topic_5   topic_6  \\\n",
       "0       6      0.0  3.257410  0.000000      0.0      0.0      0.0  0.000000   \n",
       "1    4896      0.0  0.000000  2.496252      0.0      0.0      0.0  0.398251   \n",
       "2    4897      0.0  0.000000  0.000000      0.0      0.0      0.0  0.000000   \n",
       "3    4898      0.0  0.130761  2.445922      0.0      0.0      0.0  0.000000   \n",
       "4    4899      0.0  4.099521  0.000000      0.0      0.0      0.0  0.000000   \n",
       "\n",
       "    topic_7  topic_8  ...  topic_15  topic_16  topic_17  topic_18  topic_19  \\\n",
       "0  0.089721      0.0  ...       0.0  0.000000       0.0  0.535293       0.0   \n",
       "1  0.000000      0.0  ...       0.0  0.000000       0.0  0.000000       0.0   \n",
       "2  0.000000      0.0  ...       0.0  0.429469       0.0  0.000000       0.0   \n",
       "3  0.000000      0.0  ...       0.0  0.000000       0.0  0.000000       0.0   \n",
       "4  0.000000      0.0  ...       0.0  0.000000       0.0  0.000000       0.0   \n",
       "\n",
       "   topic_20  topic_21  topic_22  topic_23  topic_24  \n",
       "0       0.0  0.000000       0.0       0.0       0.0  \n",
       "1       0.0  0.000000       0.0       0.0       0.0  \n",
       "2       0.0  0.000000       0.0       0.0       0.0  \n",
       "3       0.0  0.440406       0.0       0.0       0.0  \n",
       "4       0.0  0.000000       0.0       0.0       0.0  \n",
       "\n",
       "[5 rows x 26 columns]"
      ]
     },
     "execution_count": 48,
     "metadata": {},
     "output_type": "execute_result"
    }
   ],
   "source": [
    "%%time\n",
    "\n",
    "for i in range(0, 25):\n",
    "    topic_matrix_idf[f'topic_{i}'] = topic_matrix_idf[f'topic_{i}'] * topic_matrix_idf['title_idf_mean']\n",
    "\n",
    "topic_matrix_idf = topic_matrix_idf.drop(columns=(['title_idf_mean']))\n",
    "\n",
    "topic_matrix_idf.head(5)"
   ]
  },
  {
   "cell_type": "markdown",
   "id": "1bdc65d4",
   "metadata": {},
   "source": [
    "##### Теперь набор данных подготовлен с применением весов idf документов.\n",
    "##### Далее аналогично выполняем оставшиеся действия как в п.2."
   ]
  },
  {
   "cell_type": "code",
   "execution_count": 49,
   "id": "a417b219",
   "metadata": {},
   "outputs": [],
   "source": [
    "doc_dict = dict(zip(topic_matrix_idf['doc_id'].values, topic_matrix_idf[['topic_{}'.format(i) for i in range(25)]].values))"
   ]
  },
  {
   "cell_type": "code",
   "execution_count": 50,
   "id": "4244d3fc",
   "metadata": {},
   "outputs": [],
   "source": [
    "def get_user_embedding(user_articles_list):\n",
    "    user_articles_list = eval(user_articles_list)\n",
    "    user_vector = np.array([doc_dict[doc_id] for doc_id in user_articles_list])\n",
    "#     ИЗМЕНЕНИЯ\n",
    "#     user_vector = np.mean(user_vector, 0)\n",
    "    user_vector = np.median(user_vector, 0)\n",
    "    return user_vector"
   ]
  },
  {
   "cell_type": "code",
   "execution_count": 51,
   "id": "cf8066fa",
   "metadata": {},
   "outputs": [
    {
     "data": {
      "text/html": [
       "<div>\n",
       "<style scoped>\n",
       "    .dataframe tbody tr th:only-of-type {\n",
       "        vertical-align: middle;\n",
       "    }\n",
       "\n",
       "    .dataframe tbody tr th {\n",
       "        vertical-align: top;\n",
       "    }\n",
       "\n",
       "    .dataframe thead th {\n",
       "        text-align: right;\n",
       "    }\n",
       "</style>\n",
       "<table border=\"1\" class=\"dataframe\">\n",
       "  <thead>\n",
       "    <tr style=\"text-align: right;\">\n",
       "      <th></th>\n",
       "      <th>uid</th>\n",
       "      <th>topic_0</th>\n",
       "      <th>topic_1</th>\n",
       "      <th>topic_2</th>\n",
       "      <th>topic_3</th>\n",
       "      <th>topic_4</th>\n",
       "      <th>topic_5</th>\n",
       "      <th>topic_6</th>\n",
       "      <th>topic_7</th>\n",
       "      <th>topic_8</th>\n",
       "      <th>...</th>\n",
       "      <th>topic_15</th>\n",
       "      <th>topic_16</th>\n",
       "      <th>topic_17</th>\n",
       "      <th>topic_18</th>\n",
       "      <th>topic_19</th>\n",
       "      <th>topic_20</th>\n",
       "      <th>topic_21</th>\n",
       "      <th>topic_22</th>\n",
       "      <th>topic_23</th>\n",
       "      <th>topic_24</th>\n",
       "    </tr>\n",
       "  </thead>\n",
       "  <tbody>\n",
       "    <tr>\n",
       "      <th>0</th>\n",
       "      <td>u105138</td>\n",
       "      <td>0.0</td>\n",
       "      <td>0.000000</td>\n",
       "      <td>0.167749</td>\n",
       "      <td>0.0</td>\n",
       "      <td>0.0</td>\n",
       "      <td>0.0</td>\n",
       "      <td>0.135060</td>\n",
       "      <td>0.000000</td>\n",
       "      <td>0.0</td>\n",
       "      <td>...</td>\n",
       "      <td>0.000000</td>\n",
       "      <td>0.093899</td>\n",
       "      <td>0.0</td>\n",
       "      <td>0.0</td>\n",
       "      <td>0.00000</td>\n",
       "      <td>0.000000</td>\n",
       "      <td>0.205466</td>\n",
       "      <td>0.082371</td>\n",
       "      <td>0.000000</td>\n",
       "      <td>0.000000</td>\n",
       "    </tr>\n",
       "    <tr>\n",
       "      <th>1</th>\n",
       "      <td>u108690</td>\n",
       "      <td>0.0</td>\n",
       "      <td>0.231554</td>\n",
       "      <td>0.326605</td>\n",
       "      <td>0.0</td>\n",
       "      <td>0.0</td>\n",
       "      <td>0.0</td>\n",
       "      <td>0.000000</td>\n",
       "      <td>0.092317</td>\n",
       "      <td>0.0</td>\n",
       "      <td>...</td>\n",
       "      <td>0.068814</td>\n",
       "      <td>0.445967</td>\n",
       "      <td>0.0</td>\n",
       "      <td>0.0</td>\n",
       "      <td>0.24759</td>\n",
       "      <td>0.211849</td>\n",
       "      <td>0.294684</td>\n",
       "      <td>0.000000</td>\n",
       "      <td>0.109769</td>\n",
       "      <td>0.000000</td>\n",
       "    </tr>\n",
       "    <tr>\n",
       "      <th>2</th>\n",
       "      <td>u108339</td>\n",
       "      <td>0.0</td>\n",
       "      <td>0.176696</td>\n",
       "      <td>0.154430</td>\n",
       "      <td>0.0</td>\n",
       "      <td>0.0</td>\n",
       "      <td>0.0</td>\n",
       "      <td>0.164454</td>\n",
       "      <td>0.144241</td>\n",
       "      <td>0.0</td>\n",
       "      <td>...</td>\n",
       "      <td>0.090894</td>\n",
       "      <td>0.067056</td>\n",
       "      <td>0.0</td>\n",
       "      <td>0.0</td>\n",
       "      <td>0.14379</td>\n",
       "      <td>0.646114</td>\n",
       "      <td>0.534345</td>\n",
       "      <td>0.042220</td>\n",
       "      <td>0.000000</td>\n",
       "      <td>0.375828</td>\n",
       "    </tr>\n",
       "  </tbody>\n",
       "</table>\n",
       "<p>3 rows × 26 columns</p>\n",
       "</div>"
      ],
      "text/plain": [
       "       uid  topic_0   topic_1   topic_2  topic_3  topic_4  topic_5   topic_6  \\\n",
       "0  u105138      0.0  0.000000  0.167749      0.0      0.0      0.0  0.135060   \n",
       "1  u108690      0.0  0.231554  0.326605      0.0      0.0      0.0  0.000000   \n",
       "2  u108339      0.0  0.176696  0.154430      0.0      0.0      0.0  0.164454   \n",
       "\n",
       "    topic_7  topic_8  ...  topic_15  topic_16  topic_17  topic_18  topic_19  \\\n",
       "0  0.000000      0.0  ...  0.000000  0.093899       0.0       0.0   0.00000   \n",
       "1  0.092317      0.0  ...  0.068814  0.445967       0.0       0.0   0.24759   \n",
       "2  0.144241      0.0  ...  0.090894  0.067056       0.0       0.0   0.14379   \n",
       "\n",
       "   topic_20  topic_21  topic_22  topic_23  topic_24  \n",
       "0  0.000000  0.205466  0.082371  0.000000  0.000000  \n",
       "1  0.211849  0.294684  0.000000  0.109769  0.000000  \n",
       "2  0.646114  0.534345  0.042220  0.000000  0.375828  \n",
       "\n",
       "[3 rows x 26 columns]"
      ]
     },
     "execution_count": 51,
     "metadata": {},
     "output_type": "execute_result"
    }
   ],
   "source": [
    "user_embeddings = pd.DataFrame([i for i in users['articles'].apply(lambda x: get_user_embedding(x), 1)])\n",
    "user_embeddings.columns = ['topic_{}'.format(i) for i in range(25)]\n",
    "user_embeddings['uid'] = users['uid'].values\n",
    "user_embeddings = user_embeddings[['uid']+['topic_{}'.format(i) for i in range(25)]]\n",
    "user_embeddings.head(3)"
   ]
  },
  {
   "cell_type": "code",
   "execution_count": 52,
   "id": "3719114d",
   "metadata": {},
   "outputs": [],
   "source": [
    "X = pd.merge(user_embeddings, target, 'left')"
   ]
  },
  {
   "cell_type": "code",
   "execution_count": 53,
   "id": "2ba328c7",
   "metadata": {},
   "outputs": [],
   "source": [
    "#разделим данные на train/test\n",
    "X_train, X_test, y_train, y_test = train_test_split(X[['topic_{}'.format(i) for i in range(25)]], \n",
    "                                                    X['churn'], random_state=0)"
   ]
  },
  {
   "cell_type": "code",
   "execution_count": 54,
   "id": "47bb0eac",
   "metadata": {},
   "outputs": [
    {
     "data": {
      "text/plain": [
       "LogisticRegression()"
      ]
     },
     "execution_count": 54,
     "metadata": {},
     "output_type": "execute_result"
    }
   ],
   "source": [
    "logreg = LogisticRegression()\n",
    "#обучим \n",
    "logreg.fit(X_train, y_train)"
   ]
  },
  {
   "cell_type": "markdown",
   "id": "65bf831e",
   "metadata": {},
   "source": [
    "##### Выполним прогнозирование."
   ]
  },
  {
   "cell_type": "code",
   "execution_count": 55,
   "id": "0348056f",
   "metadata": {},
   "outputs": [],
   "source": [
    "#наши прогнозы для тестовой выборки\n",
    "preds = logreg.predict_proba(X_test)[:, 1]"
   ]
  },
  {
   "cell_type": "code",
   "execution_count": 56,
   "id": "42b3afc1",
   "metadata": {},
   "outputs": [
    {
     "name": "stdout",
     "output_type": "stream",
     "text": [
      "Best Threshold=0.325538, F-Score=0.835, Precision=0.796, Recall=0.878\n"
     ]
    }
   ],
   "source": [
    "precision, recall, thresholds = precision_recall_curve(y_test, preds)\n",
    "fscore = (2 * precision * recall) / (precision + recall)\n",
    "# locate the index of the largest f score\n",
    "ix = np.argmax(fscore)\n",
    "print('Best Threshold=%f, F-Score=%.3f, Precision=%.3f, Recall=%.3f' % (thresholds[ix], \n",
    "                                                                        fscore[ix],\n",
    "                                                                        precision[ix],\n",
    "                                                                        recall[ix]))"
   ]
  },
  {
   "cell_type": "markdown",
   "id": "63daf636",
   "metadata": {},
   "source": [
    "##### Сравним метрики новой и изначальной моделей."
   ]
  },
  {
   "cell_type": "code",
   "execution_count": 57,
   "id": "4e049201",
   "metadata": {},
   "outputs": [],
   "source": [
    "theshold_3 = thresholds[ix]\n",
    "fscore_3 = fscore[ix]\n",
    "precision_3 = precision[ix]\n",
    "recall_3 = recall[ix]\n",
    "roc_auc_score_3 = roc_auc_score(y_test, preds)"
   ]
  },
  {
   "cell_type": "code",
   "execution_count": 58,
   "id": "ba2d2f31",
   "metadata": {
    "scrolled": true
   },
   "outputs": [
    {
     "name": "stdout",
     "output_type": "stream",
     "text": [
      "Base Mean Model:\n",
      "\tBest Threshold = 0.298\n",
      "\tF-Score = 0.744\n",
      "\tPrecision = 0.729\n",
      "\tRecall = 0.759\n",
      "\tROC AUC = 0.967\n",
      "\n",
      "New Max Model:\n",
      "\tBest Threshold = 0.326\n",
      "\tF-Score = 0.835\n",
      "\tPrecision = 0.796\n",
      "\tRecall = 0.878\n",
      "\tROC AUC = 0.985\n"
     ]
    }
   ],
   "source": [
    "print(f'Base Mean Model:' \\\n",
    "     f'\\n\\tBest Threshold = {np.round(theshold_0, 3)}' \\\n",
    "     f'\\n\\tF-Score = {np.round(fscore_0, 3)}' \\\n",
    "     f'\\n\\tPrecision = {np.round(precision_0, 3)}' \\\n",
    "     f'\\n\\tRecall = {np.round(recall_0, 3)}' \\\n",
    "     f'\\n\\tROC AUC = {np.round(roc_auc_score_0, 3)}' \\\n",
    "     f'\\n'\n",
    "     f'\\nNew Max Model:' \\\n",
    "     f'\\n\\tBest Threshold = {np.round(theshold_3, 3)}' \\\n",
    "     f'\\n\\tF-Score = {np.round(fscore_3, 3)}' \\\n",
    "     f'\\n\\tPrecision = {np.round(precision_3, 3)}' \\\n",
    "     f'\\n\\tRecall = {np.round(recall_3, 3)}'\n",
    "     f'\\n\\tROC AUC = {np.round(roc_auc_score_3, 3)}')"
   ]
  },
  {
   "cell_type": "markdown",
   "id": "139a03d0",
   "metadata": {},
   "source": [
    "##### Порог выбора класса изменился. Все метрики улучшились."
   ]
  },
  {
   "cell_type": "markdown",
   "id": "a888fe59",
   "metadata": {},
   "source": [
    "## 5. Сформировать на выходе единую таблицу, сравнивающую качество 3 разных метода получения эмбедингов пользователей: mean, median, max, idf_mean по метрикам roc_auc, precision, recall, f_score"
   ]
  },
  {
   "cell_type": "code",
   "execution_count": 59,
   "id": "f1e403e9",
   "metadata": {},
   "outputs": [
    {
     "data": {
      "text/html": [
       "<div>\n",
       "<style scoped>\n",
       "    .dataframe tbody tr th:only-of-type {\n",
       "        vertical-align: middle;\n",
       "    }\n",
       "\n",
       "    .dataframe tbody tr th {\n",
       "        vertical-align: top;\n",
       "    }\n",
       "\n",
       "    .dataframe thead th {\n",
       "        text-align: right;\n",
       "    }\n",
       "</style>\n",
       "<table border=\"1\" class=\"dataframe\">\n",
       "  <thead>\n",
       "    <tr style=\"text-align: right;\">\n",
       "      <th></th>\n",
       "      <th>Base Mean Model</th>\n",
       "      <th>Median Model</th>\n",
       "      <th>Max Model</th>\n",
       "      <th>IDF Median Model</th>\n",
       "    </tr>\n",
       "  </thead>\n",
       "  <tbody>\n",
       "    <tr>\n",
       "      <th>Best Threshold</th>\n",
       "      <td>0.298</td>\n",
       "      <td>0.272</td>\n",
       "      <td>0.367</td>\n",
       "      <td>0.326</td>\n",
       "    </tr>\n",
       "    <tr>\n",
       "      <th>F-Score</th>\n",
       "      <td>0.744</td>\n",
       "      <td>0.795</td>\n",
       "      <td>0.820</td>\n",
       "      <td>0.835</td>\n",
       "    </tr>\n",
       "    <tr>\n",
       "      <th>Precision</th>\n",
       "      <td>0.729</td>\n",
       "      <td>0.744</td>\n",
       "      <td>0.812</td>\n",
       "      <td>0.796</td>\n",
       "    </tr>\n",
       "    <tr>\n",
       "      <th>Recall</th>\n",
       "      <td>0.759</td>\n",
       "      <td>0.853</td>\n",
       "      <td>0.829</td>\n",
       "      <td>0.878</td>\n",
       "    </tr>\n",
       "    <tr>\n",
       "      <th>ROC AUC</th>\n",
       "      <td>0.967</td>\n",
       "      <td>0.976</td>\n",
       "      <td>0.980</td>\n",
       "      <td>0.985</td>\n",
       "    </tr>\n",
       "  </tbody>\n",
       "</table>\n",
       "</div>"
      ],
      "text/plain": [
       "                Base Mean Model  Median Model  Max Model  IDF Median Model\n",
       "Best Threshold            0.298         0.272      0.367             0.326\n",
       "F-Score                   0.744         0.795      0.820             0.835\n",
       "Precision                 0.729         0.744      0.812             0.796\n",
       "Recall                    0.759         0.853      0.829             0.878\n",
       "ROC AUC                   0.967         0.976      0.980             0.985"
      ]
     },
     "execution_count": 59,
     "metadata": {},
     "output_type": "execute_result"
    }
   ],
   "source": [
    "columns = ['Base Mean Model',\n",
    "          'Median Model',\n",
    "          'Max Model',\n",
    "          'IDF Median Model']\n",
    "\n",
    "indices = ['Best Threshold',\n",
    "          'F-Score',\n",
    "          'Precision',\n",
    "          'Recall',\n",
    "          'ROC AUC']\n",
    "\n",
    "data = [[np.round(theshold_0, 3), np.round(theshold_1, 3), np.round(theshold_2, 3), np.round(theshold_3, 3)],\n",
    "       [np.round(fscore_0, 3), np.round(fscore_1, 3), np.round(fscore_2, 3), np.round(fscore_3, 3)],\n",
    "       [np.round(precision_0, 3), np.round(precision_1, 3), np.round(precision_2, 3), np.round(precision_3, 3)],\n",
    "       [np.round(recall_0, 3), np.round(recall_1, 3), np.round(recall_2, 3), np.round(recall_3, 3)],\n",
    "       [np.round(roc_auc_score_0, 3), np.round(roc_auc_score_1, 3), np.round(roc_auc_score_2, 3), np.round(roc_auc_score_3, 3)]]\n",
    "\n",
    "df_metrics = pd.DataFrame(data=data, index=indices, columns=columns)\n",
    "\n",
    "df_metrics"
   ]
  },
  {
   "cell_type": "markdown",
   "id": "bbbe4677",
   "metadata": {},
   "source": [
    "## 6. Сделать самостоятельные выводы и предположения о том, почему тот или ной способ оказался эффективнее остальных"
   ]
  },
  {
   "cell_type": "markdown",
   "id": "3f618012",
   "metadata": {},
   "source": [
    "#### Base Mean Model - базовая модель, использует средние значения векторов вероятностей статей для формирования признаков читателей.\n",
    "В сравнении с модифицированными моделями, данная базовая модель показала наихудшие метрики качества прогнозирования. Очевидно, что использование усреднения векторов не является подходящим подходом для решения данной задачи.\n",
    "\n",
    "#### Median Model - модель, использующая медианные значения векторов вместо средних.\n",
    "Согласно метрикам качества, данный подход продемонстрировал лучшую эффективность, чем базовая усредняющая модель. Медианные значения лучше отражают интересы читателя при большом количестве прочитанных статей. Так например, пользователь мог редко читать статьи опредеённых категорий. В данном случае медиана значений векторов статей будет более объективно отражать интересы читателя.\n",
    "\n",
    "#### Max Model - данная модель использует максимальные значения векторов.\n",
    "Данный подход позволяет зафиксировать интересы читателя, если он когда-либо интересовался определёнными темами. Эффективность оказалась лучше двух предыдущих методов.\n",
    "\n",
    "#### IDF Median Model - модель является усовершенствованной версией медианной модели засчёт применения idf весов документов.\n",
    "Наилучшие результаты показала модель, учитывающая качества статей. В данном подходе вектора статей домножаются на веса, которые отражают уникальность слов в статье. Таким образом, наибольшие веса получили статьи в которых используются наиболее редкие слова, что позволяет лучше определить тематику статьи и соответственно, интересы читателя в дальнейшем."
   ]
  },
  {
   "cell_type": "code",
   "execution_count": null,
   "id": "ce38b83c",
   "metadata": {},
   "outputs": [],
   "source": []
  }
 ],
 "metadata": {
  "kernelspec": {
   "display_name": "Python 3 (ipykernel)",
   "language": "python",
   "name": "python3"
  },
  "language_info": {
   "codemirror_mode": {
    "name": "ipython",
    "version": 3
   },
   "file_extension": ".py",
   "mimetype": "text/x-python",
   "name": "python",
   "nbconvert_exporter": "python",
   "pygments_lexer": "ipython3",
   "version": "3.9.4"
  }
 },
 "nbformat": 4,
 "nbformat_minor": 5
}
