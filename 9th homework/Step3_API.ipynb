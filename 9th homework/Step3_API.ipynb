{
 "cells": [
  {
   "cell_type": "markdown",
   "id": "9e1a8a5f-a5d2-4b67-86e6-c01516ae033d",
   "metadata": {},
   "source": [
    "# Step3_API"
   ]
  },
  {
   "cell_type": "markdown",
   "id": "47a8a1e5-efdb-49f2-bfa7-438a560c857f",
   "metadata": {},
   "source": [
    "### Import Section"
   ]
  },
  {
   "cell_type": "code",
   "execution_count": 1,
   "id": "d27f5db0-8676-4a26-83ec-9026f35bc3b2",
   "metadata": {},
   "outputs": [],
   "source": [
    "import numpy as np\n",
    "import pandas as pd\n",
    "\n",
    "from sklearn.model_selection import train_test_split\n",
    "\n",
    "import json\n",
    "from urllib import request"
   ]
  },
  {
   "cell_type": "markdown",
   "id": "e46e5735-7334-4240-b7e9-47d0b51a1e0a",
   "metadata": {},
   "source": [
    "### Global Settings Section"
   ]
  },
  {
   "cell_type": "code",
   "execution_count": 2,
   "id": "396844e0-11d5-44a8-a47d-0259c6558169",
   "metadata": {},
   "outputs": [],
   "source": [
    "random_state_global = 0\n",
    "\n",
    "model_url = r'http://127.0.0.1:5000//predict'"
   ]
  },
  {
   "cell_type": "markdown",
   "id": "4153a7cf-6b78-4676-86ab-450677d70e4a",
   "metadata": {},
   "source": [
    "### Path Section"
   ]
  },
  {
   "cell_type": "code",
   "execution_count": 3,
   "id": "e23572dc-5aa0-437b-b852-c3124c43c595",
   "metadata": {},
   "outputs": [],
   "source": [
    "PATH_DATA = r'train.csv'"
   ]
  },
  {
   "cell_type": "markdown",
   "id": "df6adfb4-cb13-448a-9490-eb357b527181",
   "metadata": {},
   "source": [
    "## API Testing"
   ]
  },
  {
   "cell_type": "code",
   "execution_count": 4,
   "id": "f05c0e1a-27b2-49b4-a4ea-89e7bbc43c14",
   "metadata": {},
   "outputs": [],
   "source": [
    "def get_prediction(url, comment_text):\n",
    "    json_data = json.dumps({'comment_text': comment_text})\n",
    "    json_bytes = json_data.encode('utf-8')\n",
    "\n",
    "    request_prediction = request.Request(url)\n",
    "    request_prediction.add_header('Content-Type', 'application/json; charset=utf-8')\n",
    "    request_prediction.add_header('Content-Length', len(json_bytes))\n",
    "\n",
    "    response = request.urlopen(request_prediction, json_bytes)\n",
    "    # return json.load(response.read())['prediction']\n",
    "    return json.load(response)"
   ]
  },
  {
   "cell_type": "code",
   "execution_count": 5,
   "id": "40f31919-c7a3-46bc-959f-909715cca6bd",
   "metadata": {},
   "outputs": [],
   "source": [
    "df_data = pd.read_csv(PATH_DATA)"
   ]
  },
  {
   "cell_type": "code",
   "execution_count": 6,
   "id": "f61ae06d-0b69-466f-b064-fb793faf222d",
   "metadata": {},
   "outputs": [
    {
     "data": {
      "text/html": [
       "<div>\n",
       "<style scoped>\n",
       "    .dataframe tbody tr th:only-of-type {\n",
       "        vertical-align: middle;\n",
       "    }\n",
       "\n",
       "    .dataframe tbody tr th {\n",
       "        vertical-align: top;\n",
       "    }\n",
       "\n",
       "    .dataframe thead th {\n",
       "        text-align: right;\n",
       "    }\n",
       "</style>\n",
       "<table border=\"1\" class=\"dataframe\">\n",
       "  <thead>\n",
       "    <tr style=\"text-align: right;\">\n",
       "      <th></th>\n",
       "      <th>id</th>\n",
       "      <th>comment_text</th>\n",
       "      <th>toxic</th>\n",
       "      <th>severe_toxic</th>\n",
       "      <th>obscene</th>\n",
       "      <th>threat</th>\n",
       "      <th>insult</th>\n",
       "      <th>identity_hate</th>\n",
       "    </tr>\n",
       "  </thead>\n",
       "  <tbody>\n",
       "    <tr>\n",
       "      <th>0</th>\n",
       "      <td>0000997932d777bf</td>\n",
       "      <td>Explanation\\nWhy the edits made under my usern...</td>\n",
       "      <td>0</td>\n",
       "      <td>0</td>\n",
       "      <td>0</td>\n",
       "      <td>0</td>\n",
       "      <td>0</td>\n",
       "      <td>0</td>\n",
       "    </tr>\n",
       "    <tr>\n",
       "      <th>1</th>\n",
       "      <td>000103f0d9cfb60f</td>\n",
       "      <td>D'aww! He matches this background colour I'm s...</td>\n",
       "      <td>0</td>\n",
       "      <td>0</td>\n",
       "      <td>0</td>\n",
       "      <td>0</td>\n",
       "      <td>0</td>\n",
       "      <td>0</td>\n",
       "    </tr>\n",
       "    <tr>\n",
       "      <th>2</th>\n",
       "      <td>000113f07ec002fd</td>\n",
       "      <td>Hey man, I'm really not trying to edit war. It...</td>\n",
       "      <td>0</td>\n",
       "      <td>0</td>\n",
       "      <td>0</td>\n",
       "      <td>0</td>\n",
       "      <td>0</td>\n",
       "      <td>0</td>\n",
       "    </tr>\n",
       "    <tr>\n",
       "      <th>3</th>\n",
       "      <td>0001b41b1c6bb37e</td>\n",
       "      <td>\"\\nMore\\nI can't make any real suggestions on ...</td>\n",
       "      <td>0</td>\n",
       "      <td>0</td>\n",
       "      <td>0</td>\n",
       "      <td>0</td>\n",
       "      <td>0</td>\n",
       "      <td>0</td>\n",
       "    </tr>\n",
       "    <tr>\n",
       "      <th>4</th>\n",
       "      <td>0001d958c54c6e35</td>\n",
       "      <td>You, sir, are my hero. Any chance you remember...</td>\n",
       "      <td>0</td>\n",
       "      <td>0</td>\n",
       "      <td>0</td>\n",
       "      <td>0</td>\n",
       "      <td>0</td>\n",
       "      <td>0</td>\n",
       "    </tr>\n",
       "  </tbody>\n",
       "</table>\n",
       "</div>"
      ],
      "text/plain": [
       "                 id                                       comment_text  toxic  \\\n",
       "0  0000997932d777bf  Explanation\\nWhy the edits made under my usern...      0   \n",
       "1  000103f0d9cfb60f  D'aww! He matches this background colour I'm s...      0   \n",
       "2  000113f07ec002fd  Hey man, I'm really not trying to edit war. It...      0   \n",
       "3  0001b41b1c6bb37e  \"\\nMore\\nI can't make any real suggestions on ...      0   \n",
       "4  0001d958c54c6e35  You, sir, are my hero. Any chance you remember...      0   \n",
       "\n",
       "   severe_toxic  obscene  threat  insult  identity_hate  \n",
       "0             0        0       0       0              0  \n",
       "1             0        0       0       0              0  \n",
       "2             0        0       0       0              0  \n",
       "3             0        0       0       0              0  \n",
       "4             0        0       0       0              0  "
      ]
     },
     "execution_count": 6,
     "metadata": {},
     "output_type": "execute_result"
    }
   ],
   "source": [
    "df_data.head()"
   ]
  },
  {
   "cell_type": "code",
   "execution_count": 7,
   "id": "8a83a66a-56a8-4934-bf35-67555fd68904",
   "metadata": {},
   "outputs": [],
   "source": [
    "X = df_data[['comment_text']]\n",
    "y = df_data[['toxic', 'severe_toxic', 'obscene', 'threat', 'insult', 'identity_hate']].max(axis=1)\n",
    "\n",
    "X_train, X_test, y_train, y_test = train_test_split(X, y, test_size=0.3, random_state=random_state_global, shuffle=y)"
   ]
  },
  {
   "cell_type": "code",
   "execution_count": 8,
   "id": "ae5d249f-f6fd-4b45-b244-8293562087ce",
   "metadata": {
    "tags": []
   },
   "outputs": [
    {
     "data": {
      "text/html": [
       "<div>\n",
       "<style scoped>\n",
       "    .dataframe tbody tr th:only-of-type {\n",
       "        vertical-align: middle;\n",
       "    }\n",
       "\n",
       "    .dataframe tbody tr th {\n",
       "        vertical-align: top;\n",
       "    }\n",
       "\n",
       "    .dataframe thead th {\n",
       "        text-align: right;\n",
       "    }\n",
       "</style>\n",
       "<table border=\"1\" class=\"dataframe\">\n",
       "  <thead>\n",
       "    <tr style=\"text-align: right;\">\n",
       "      <th></th>\n",
       "      <th>comment_text</th>\n",
       "    </tr>\n",
       "  </thead>\n",
       "  <tbody>\n",
       "    <tr>\n",
       "      <th>74251</th>\n",
       "      <td>\"\\nI haven't paraphrased you at all, Gary.  Yo...</td>\n",
       "    </tr>\n",
       "    <tr>\n",
       "      <th>131406</th>\n",
       "      <td>I BLOCKED REVERS! I BLOCKED REVERS! I BLOCKED ...</td>\n",
       "    </tr>\n",
       "    <tr>\n",
       "      <th>120969</th>\n",
       "      <td>I'm sorry. I'd like to unreservedly retract my...</td>\n",
       "    </tr>\n",
       "    <tr>\n",
       "      <th>121827</th>\n",
       "      <td>I don't know if this is exactly like the Press...</td>\n",
       "    </tr>\n",
       "    <tr>\n",
       "      <th>4771</th>\n",
       "      <td>Thank you all, we'll all improve the Wikipedia...</td>\n",
       "    </tr>\n",
       "  </tbody>\n",
       "</table>\n",
       "</div>"
      ],
      "text/plain": [
       "                                             comment_text\n",
       "74251   \"\\nI haven't paraphrased you at all, Gary.  Yo...\n",
       "131406  I BLOCKED REVERS! I BLOCKED REVERS! I BLOCKED ...\n",
       "120969  I'm sorry. I'd like to unreservedly retract my...\n",
       "121827  I don't know if this is exactly like the Press...\n",
       "4771    Thank you all, we'll all improve the Wikipedia..."
      ]
     },
     "execution_count": 8,
     "metadata": {},
     "output_type": "execute_result"
    }
   ],
   "source": [
    "X_test.head()"
   ]
  },
  {
   "cell_type": "code",
   "execution_count": 9,
   "id": "e82fb1b6-9a50-4da5-bd27-59eb8d67de3f",
   "metadata": {
    "tags": []
   },
   "outputs": [
    {
     "data": {
      "text/plain": [
       "74251     0\n",
       "131406    1\n",
       "120969    1\n",
       "121827    0\n",
       "4771      0\n",
       "dtype: int64"
      ]
     },
     "execution_count": 9,
     "metadata": {},
     "output_type": "execute_result"
    }
   ],
   "source": [
    "y_test.head()"
   ]
  },
  {
   "cell_type": "code",
   "execution_count": 10,
   "id": "e4c8db3a-aa75-4a7d-a3df-5bd6ec8c033f",
   "metadata": {},
   "outputs": [
    {
     "data": {
      "text/plain": [
       "131406    1\n",
       "120969    1\n",
       "79167     1\n",
       "103484    1\n",
       "24428     1\n",
       "dtype: int64"
      ]
     },
     "execution_count": 10,
     "metadata": {},
     "output_type": "execute_result"
    }
   ],
   "source": [
    "y_test[y_test == 1].head()"
   ]
  },
  {
   "cell_type": "code",
   "execution_count": 11,
   "id": "7f7a7b03-e728-4220-9d79-34cfe5c2449b",
   "metadata": {},
   "outputs": [
    {
     "data": {
      "text/plain": [
       "'I BLOCKED REVERS! I BLOCKED REVERS! I BLOCKED REVERS! I BLOCKED REVERS! I BLOCKED REVERS! I BLOCKED REVERS! I BLOCKED REVERS! I BLOCKED REVERS! I BLOCKED REVERS! I BLOCKED REVERS! I BLOCKED REVERS! I BLOCKED REVERS! I BLOCKED REVERS! I BLOCKED REVERS! I BLOCKED REVERS! I BLOCKED REVERS! I BLOCKED REVERS! I BLOCKED REVERS! I BLOCKED REVERS! I BLOCKED REVERS! I BLOCKED REVERS! I BLOCKED REVERS! I BLOCKED REVERS! I BLOCKED REVERS! I BLOCKED REVERS! I BLOCKED REVERS! I BLOCKED REVERS! I BLOCKED REVERS! I BLOCKED REVERS! I BLOCKED REVERS! I BLOCKED REVERS! I BLOCKED REVERS! I BLOCKED REVERS! I BLOCKED REVERS! I BLOCKED REVERS!'"
      ]
     },
     "execution_count": 11,
     "metadata": {},
     "output_type": "execute_result"
    }
   ],
   "source": [
    "X_test.loc[131406, 'comment_text']"
   ]
  },
  {
   "cell_type": "code",
   "execution_count": 12,
   "id": "96170e6e-40a1-454c-9070-5753ad42b038",
   "metadata": {},
   "outputs": [
    {
     "data": {
      "text/plain": [
       "'{\"success\": \"True\", \"prediction\": \"0\"}'"
      ]
     },
     "execution_count": 12,
     "metadata": {},
     "output_type": "execute_result"
    }
   ],
   "source": [
    "get_prediction(model_url, X_test.loc[131406, 'comment_text'])"
   ]
  },
  {
   "cell_type": "code",
   "execution_count": 13,
   "id": "32e24def-17c8-4602-bd5f-65de3d046893",
   "metadata": {},
   "outputs": [
    {
     "data": {
      "text/plain": [
       "'{\"success\": \"True\", \"prediction\": \"0\"}'"
      ]
     },
     "execution_count": 13,
     "metadata": {},
     "output_type": "execute_result"
    }
   ],
   "source": [
    "get_prediction(model_url, X_test.loc[120969, 'comment_text'])"
   ]
  },
  {
   "cell_type": "code",
   "execution_count": 14,
   "id": "e669f2f5-3c35-4dd7-ae06-48696c54e9ee",
   "metadata": {},
   "outputs": [
    {
     "data": {
      "text/plain": [
       "'{\"success\": \"True\", \"prediction\": \"1\"}'"
      ]
     },
     "execution_count": 14,
     "metadata": {},
     "output_type": "execute_result"
    }
   ],
   "source": [
    "get_prediction(model_url, X_test.loc[79167, 'comment_text'])"
   ]
  },
  {
   "cell_type": "code",
   "execution_count": 15,
   "id": "4d0b67ae-640b-44dc-8905-e7a5f119817a",
   "metadata": {},
   "outputs": [
    {
     "data": {
      "text/plain": [
       "'{\"success\": \"True\", \"prediction\": \"1\"}'"
      ]
     },
     "execution_count": 15,
     "metadata": {},
     "output_type": "execute_result"
    }
   ],
   "source": [
    "get_prediction(model_url, X_test.loc[103484, 'comment_text'])"
   ]
  },
  {
   "cell_type": "code",
   "execution_count": 16,
   "id": "d8c416d8-5262-42b6-8fef-a436136a7194",
   "metadata": {},
   "outputs": [
    {
     "data": {
      "text/plain": [
       "'{\"success\": \"True\", \"prediction\": \"0\"}'"
      ]
     },
     "execution_count": 16,
     "metadata": {},
     "output_type": "execute_result"
    }
   ],
   "source": [
    "get_prediction(model_url, X_test.loc[24428, 'comment_text'])"
   ]
  },
  {
   "cell_type": "code",
   "execution_count": null,
   "id": "693b7c44-24fd-4204-bc5d-ca1c3a3850ba",
   "metadata": {},
   "outputs": [],
   "source": []
  }
 ],
 "metadata": {
  "kernelspec": {
   "display_name": "Python 3 (ipykernel)",
   "language": "python",
   "name": "python3"
  },
  "language_info": {
   "codemirror_mode": {
    "name": "ipython",
    "version": 3
   },
   "file_extension": ".py",
   "mimetype": "text/x-python",
   "name": "python",
   "nbconvert_exporter": "python",
   "pygments_lexer": "ipython3",
   "version": "3.9.4"
  }
 },
 "nbformat": 4,
 "nbformat_minor": 5
}
