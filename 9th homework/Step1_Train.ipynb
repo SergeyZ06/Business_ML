{
 "cells": [
  {
   "cell_type": "markdown",
   "id": "442890ab",
   "metadata": {},
   "source": [
    "# Step1_Train"
   ]
  },
  {
   "cell_type": "markdown",
   "id": "3558853e",
   "metadata": {},
   "source": [
    "### Import Section"
   ]
  },
  {
   "cell_type": "code",
   "execution_count": 1,
   "id": "136c4fd8",
   "metadata": {},
   "outputs": [],
   "source": [
    "import numpy as np\n",
    "import pandas as pd\n",
    "\n",
    "\n",
    "from sklearn.model_selection import train_test_split\n",
    "\n",
    "from sklearn.base import BaseEstimator\n",
    "\n",
    "from sklearn.pipeline import Pipeline\n",
    "\n",
    "from sklearn.feature_extraction.text import TfidfVectorizer\n",
    "\n",
    "from sklearn.linear_model import SGDClassifier\n",
    "\n",
    "import dill"
   ]
  },
  {
   "cell_type": "markdown",
   "id": "5c17d689",
   "metadata": {},
   "source": [
    "### Global Settings Section"
   ]
  },
  {
   "cell_type": "code",
   "execution_count": 2,
   "id": "5cb29f88",
   "metadata": {},
   "outputs": [],
   "source": [
    "random_state_global = 0"
   ]
  },
  {
   "cell_type": "markdown",
   "id": "05e31e1b",
   "metadata": {},
   "source": [
    "### Path Section"
   ]
  },
  {
   "cell_type": "code",
   "execution_count": 3,
   "id": "1f43e9ef",
   "metadata": {},
   "outputs": [],
   "source": [
    "PATH_DATA = r'train.csv'\n",
    "PATH_MODEL = r'model.dill'"
   ]
  },
  {
   "cell_type": "markdown",
   "id": "8252fae1",
   "metadata": {},
   "source": [
    "## Model Building"
   ]
  },
  {
   "cell_type": "code",
   "execution_count": 4,
   "id": "cdb08095",
   "metadata": {},
   "outputs": [],
   "source": [
    "df_data = pd.read_csv(PATH_DATA)"
   ]
  },
  {
   "cell_type": "code",
   "execution_count": 5,
   "id": "9ad42ae0",
   "metadata": {},
   "outputs": [
    {
     "data": {
      "text/html": [
       "<div>\n",
       "<style scoped>\n",
       "    .dataframe tbody tr th:only-of-type {\n",
       "        vertical-align: middle;\n",
       "    }\n",
       "\n",
       "    .dataframe tbody tr th {\n",
       "        vertical-align: top;\n",
       "    }\n",
       "\n",
       "    .dataframe thead th {\n",
       "        text-align: right;\n",
       "    }\n",
       "</style>\n",
       "<table border=\"1\" class=\"dataframe\">\n",
       "  <thead>\n",
       "    <tr style=\"text-align: right;\">\n",
       "      <th></th>\n",
       "      <th>id</th>\n",
       "      <th>comment_text</th>\n",
       "      <th>toxic</th>\n",
       "      <th>severe_toxic</th>\n",
       "      <th>obscene</th>\n",
       "      <th>threat</th>\n",
       "      <th>insult</th>\n",
       "      <th>identity_hate</th>\n",
       "    </tr>\n",
       "  </thead>\n",
       "  <tbody>\n",
       "    <tr>\n",
       "      <th>0</th>\n",
       "      <td>0000997932d777bf</td>\n",
       "      <td>Explanation\\nWhy the edits made under my usern...</td>\n",
       "      <td>0</td>\n",
       "      <td>0</td>\n",
       "      <td>0</td>\n",
       "      <td>0</td>\n",
       "      <td>0</td>\n",
       "      <td>0</td>\n",
       "    </tr>\n",
       "    <tr>\n",
       "      <th>1</th>\n",
       "      <td>000103f0d9cfb60f</td>\n",
       "      <td>D'aww! He matches this background colour I'm s...</td>\n",
       "      <td>0</td>\n",
       "      <td>0</td>\n",
       "      <td>0</td>\n",
       "      <td>0</td>\n",
       "      <td>0</td>\n",
       "      <td>0</td>\n",
       "    </tr>\n",
       "    <tr>\n",
       "      <th>2</th>\n",
       "      <td>000113f07ec002fd</td>\n",
       "      <td>Hey man, I'm really not trying to edit war. It...</td>\n",
       "      <td>0</td>\n",
       "      <td>0</td>\n",
       "      <td>0</td>\n",
       "      <td>0</td>\n",
       "      <td>0</td>\n",
       "      <td>0</td>\n",
       "    </tr>\n",
       "    <tr>\n",
       "      <th>3</th>\n",
       "      <td>0001b41b1c6bb37e</td>\n",
       "      <td>\"\\nMore\\nI can't make any real suggestions on ...</td>\n",
       "      <td>0</td>\n",
       "      <td>0</td>\n",
       "      <td>0</td>\n",
       "      <td>0</td>\n",
       "      <td>0</td>\n",
       "      <td>0</td>\n",
       "    </tr>\n",
       "    <tr>\n",
       "      <th>4</th>\n",
       "      <td>0001d958c54c6e35</td>\n",
       "      <td>You, sir, are my hero. Any chance you remember...</td>\n",
       "      <td>0</td>\n",
       "      <td>0</td>\n",
       "      <td>0</td>\n",
       "      <td>0</td>\n",
       "      <td>0</td>\n",
       "      <td>0</td>\n",
       "    </tr>\n",
       "  </tbody>\n",
       "</table>\n",
       "</div>"
      ],
      "text/plain": [
       "                 id                                       comment_text  toxic  \\\n",
       "0  0000997932d777bf  Explanation\\nWhy the edits made under my usern...      0   \n",
       "1  000103f0d9cfb60f  D'aww! He matches this background colour I'm s...      0   \n",
       "2  000113f07ec002fd  Hey man, I'm really not trying to edit war. It...      0   \n",
       "3  0001b41b1c6bb37e  \"\\nMore\\nI can't make any real suggestions on ...      0   \n",
       "4  0001d958c54c6e35  You, sir, are my hero. Any chance you remember...      0   \n",
       "\n",
       "   severe_toxic  obscene  threat  insult  identity_hate  \n",
       "0             0        0       0       0              0  \n",
       "1             0        0       0       0              0  \n",
       "2             0        0       0       0              0  \n",
       "3             0        0       0       0              0  \n",
       "4             0        0       0       0              0  "
      ]
     },
     "execution_count": 5,
     "metadata": {},
     "output_type": "execute_result"
    }
   ],
   "source": [
    "df_data.head()"
   ]
  },
  {
   "cell_type": "code",
   "execution_count": 6,
   "id": "2d898d34",
   "metadata": {},
   "outputs": [],
   "source": [
    "X = df_data[['comment_text']]\n",
    "y = df_data[['toxic', 'severe_toxic', 'obscene', 'threat', 'insult', 'identity_hate']].max(axis=1)\n",
    "\n",
    "X_train, X_test, y_train, y_test = train_test_split(X, y, test_size=0.3, random_state=random_state_global, shuffle=y)"
   ]
  },
  {
   "cell_type": "code",
   "execution_count": 7,
   "id": "9f10705c",
   "metadata": {},
   "outputs": [],
   "source": [
    "class FeatureSelector(BaseEstimator):\n",
    "    def __init__(self, list_features):\n",
    "        self.list_features = list_features\n",
    "    \n",
    "    def fit(self, X, y=None):\n",
    "        return self\n",
    "    \n",
    "    def transform(self, X, y=None):\n",
    "        return X[self.list_features]"
   ]
  },
  {
   "cell_type": "code",
   "execution_count": 8,
   "id": "fa5923b4",
   "metadata": {},
   "outputs": [],
   "source": [
    "pipeline_model = Pipeline([\n",
    "    ('feature_selector', FeatureSelector('comment_text')),\n",
    "    ('vectorizer', TfidfVectorizer(strip_accents='unicode', stop_words='english', max_features=5000)),\n",
    "    ('classifier', SGDClassifier(random_state=random_state_global))\n",
    "])"
   ]
  },
  {
   "cell_type": "code",
   "execution_count": 9,
   "id": "113e9b07",
   "metadata": {},
   "outputs": [
    {
     "data": {
      "text/plain": [
       "{'model': Pipeline(steps=[('feature_selector',\n",
       "                  FeatureSelector(list_features='comment_text')),\n",
       "                 ('vectorizer',\n",
       "                  TfidfVectorizer(max_features=5000, stop_words='english',\n",
       "                                  strip_accents='unicode')),\n",
       "                 ('classifier', SGDClassifier(random_state=0))]),\n",
       " 'var': '1.00'}"
      ]
     },
     "execution_count": 9,
     "metadata": {},
     "output_type": "execute_result"
    }
   ],
   "source": [
    "dict_model = {\n",
    "    'model': pipeline_model,\n",
    "    'var': '1.00'\n",
    "}\n",
    "\n",
    "dict_model"
   ]
  },
  {
   "cell_type": "code",
   "execution_count": 10,
   "id": "a0516838",
   "metadata": {},
   "outputs": [
    {
     "name": "stdout",
     "output_type": "stream",
     "text": [
      "Wall time: 4.16 s\n"
     ]
    },
    {
     "data": {
      "text/plain": [
       "Pipeline(steps=[('feature_selector',\n",
       "                 FeatureSelector(list_features='comment_text')),\n",
       "                ('vectorizer',\n",
       "                 TfidfVectorizer(max_features=5000, stop_words='english',\n",
       "                                 strip_accents='unicode')),\n",
       "                ('classifier', SGDClassifier(random_state=0))])"
      ]
     },
     "execution_count": 10,
     "metadata": {},
     "output_type": "execute_result"
    }
   ],
   "source": [
    "%%time\n",
    "\n",
    "dict_model['model'].fit(X_train, y_train)"
   ]
  },
  {
   "cell_type": "code",
   "execution_count": 11,
   "id": "e6b8a544",
   "metadata": {},
   "outputs": [],
   "source": [
    "with open(PATH_MODEL, mode='wb') as file:\n",
    "    dill.dump(obj=dict_model, file=file)"
   ]
  },
  {
   "cell_type": "code",
   "execution_count": null,
   "id": "b60542ef-d6de-468c-aa44-2c10450e735c",
   "metadata": {},
   "outputs": [],
   "source": []
  }
 ],
 "metadata": {
  "kernelspec": {
   "display_name": "Python 3 (ipykernel)",
   "language": "python",
   "name": "python3"
  },
  "language_info": {
   "codemirror_mode": {
    "name": "ipython",
    "version": 3
   },
   "file_extension": ".py",
   "mimetype": "text/x-python",
   "name": "python",
   "nbconvert_exporter": "python",
   "pygments_lexer": "ipython3",
   "version": "3.9.4"
  }
 },
 "nbformat": 4,
 "nbformat_minor": 5
}
