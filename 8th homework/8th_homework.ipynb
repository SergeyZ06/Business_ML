{
 "cells": [
  {
   "cell_type": "markdown",
   "id": "f5252641",
   "metadata": {},
   "source": [
    "# 8th_homework"
   ]
  },
  {
   "cell_type": "markdown",
   "id": "2659e231",
   "metadata": {},
   "source": [
    "### Import Section"
   ]
  },
  {
   "cell_type": "code",
   "execution_count": 1,
   "id": "730a1b4d",
   "metadata": {},
   "outputs": [
    {
     "name": "stderr",
     "output_type": "stream",
     "text": [
      "c:\\users\\zsv\\appdata\\local\\programs\\python\\python39\\lib\\site-packages\\statsmodels\\compat\\pandas.py:65: FutureWarning: pandas.Int64Index is deprecated and will be removed from pandas in a future version. Use pandas.Index with the appropriate dtype instead.\n",
      "  from pandas import Int64Index as NumericIndex\n"
     ]
    }
   ],
   "source": [
    "import numpy as np\n",
    "import pandas as pd\n",
    "\n",
    "from statsmodels.stats.weightstats import ztest\n",
    "from statsmodels.stats.weightstats import ttest_ind\n",
    "\n",
    "from scipy.stats import mannwhitneyu"
   ]
  },
  {
   "cell_type": "markdown",
   "id": "f6d269b7",
   "metadata": {},
   "source": [
    "### Global Settings Section"
   ]
  },
  {
   "cell_type": "code",
   "execution_count": 2,
   "id": "e917adfb",
   "metadata": {},
   "outputs": [],
   "source": [
    "random_state_global = 0"
   ]
  },
  {
   "cell_type": "markdown",
   "id": "e92d3123",
   "metadata": {},
   "source": [
    "## Theoretical Part"
   ]
  },
  {
   "cell_type": "markdown",
   "id": "2fc3b1e8",
   "metadata": {},
   "source": [
    "#### 1. Если мы рассчитали 95% доверительный интервал для среднего значения, то какие из следующих утверждений являются верными?\n",
    "\n",
    "Выберите несколько вариантов и попытайтесь объяснить свой выбор:\n",
    "\n",
    "1) Если многократно повторять эксперимент, то 95 % выборочных средних значений будут принадлежать рассчитанному нами доверительному интервалу.\n",
    "\n",
    "2) Мы можем быть на 95% уверены, что среднее значение в генеральной совокупности принадлежит рассчитанному доверительному интервалу.\n",
    "\n",
    "3) Если многократно повторять эксперимент, для каждой выборки рассчитывать свой доверительный интервал, то в 95 % случаев истинное среднее будет находиться внутри доверительного интервала.\n",
    "\n",
    "4) Среднее значение в генеральной совокупности точно превышает нижнюю границу 95% доверительного интервала.\n",
    "\n",
    "5) Среднее значение в генеральной совокупности точно принадлежит рассчитанному доверительному интервалу."
   ]
  },
  {
   "cell_type": "markdown",
   "id": "51113b7a",
   "metadata": {},
   "source": [
    "##### Вариант 3 выглядит правильным, так как 95% доверительный интервал - это 95% от всех построенных интервалов захватят истинное математическое ожидание генеральной совокупности. Аналогичным образом вариант 1 также кажется правильным."
   ]
  },
  {
   "cell_type": "markdown",
   "id": "86a21af6",
   "metadata": {},
   "source": [
    "#### 2. Если мы увеличиваем объем выборки в два раза (при условии, что показатель стандартного отклонения остается неизменным), то 95% доверительный интервал\n",
    "\n",
    "Выберите один вариант из списка\n",
    "\n",
    "1) стал более узким\n",
    "\n",
    "2) возможны оба варианта\n",
    "\n",
    "3) стал более широким"
   ]
  },
  {
   "cell_type": "markdown",
   "id": "9b0920db",
   "metadata": {},
   "source": [
    "##### Вариант 1, доверительный интервал станет более узким, так как при его построении используется величина Standard Error, которая обратно пропорциональна объёму выборки."
   ]
  },
  {
   "cell_type": "markdown",
   "id": "54171e55",
   "metadata": {},
   "source": [
    "#### 3. В центре 95% доверительного интервала, рассчитанного по выборочным значениям, находится:\n",
    "\n",
    "Выберите один вариант из списка\n",
    "\n",
    "1) Значение стандартной ошибки среднего\n",
    "\n",
    "2) Выборочное среднее значение\n",
    "\n",
    "3) Среднее значение генеральной совокупности"
   ]
  },
  {
   "cell_type": "markdown",
   "id": "6759a1f6",
   "metadata": {},
   "source": [
    "##### Вариант 2, выборочное среднее значние, так как это значение будет использоваться при построении интервала +- SE * критерий."
   ]
  },
  {
   "cell_type": "markdown",
   "id": "e0f30ab8",
   "metadata": {},
   "source": [
    "#### 4. Часто на практике нулевая гипотеза отклоняется, и различия считаются статистически достоверными, если p < 0,05. Однако часто в статистике используется более жесткий критерий достоверности различий, например, при условии, что p < 0,01. Значение p-уровня значимости, которое выбирается, в качестве порога обозначается буквой α (альфа). Например, если исследователь решил, что α = 0,05, то и нулевая гипотеза будет отклоняться при условии, что p < 0,05. \n",
    "\n",
    "#### Если в определенной ситуации весьма рискованно отклонить нулевую гипотезу, когда она на самом деле верна, то лучше использовать показатель α равный \n",
    "\n",
    "Выберите один вариант из списка\n",
    "\n",
    "1) 0,1\n",
    "\n",
    "2) 0,001\n",
    "\n",
    "3) 0,05\n",
    "\n",
    "4) 0,5"
   ]
  },
  {
   "cell_type": "markdown",
   "id": "e72350e8",
   "metadata": {},
   "source": [
    "##### Вариант 2, 0,001. Данное значение крайне мало по сравнению с общепринятым уровнем статистической значимости 0,05. Однако данное значение отражает вероятность совершения ошибки 1 рода, ошибочное отвержение нулевой гипотезы, поэтому в данном случае его необходимо минимизировать."
   ]
  },
  {
   "cell_type": "markdown",
   "id": "99d034b2",
   "metadata": {},
   "source": [
    "#### 5. Данные некоторого исследования сообщают нам, что средний рост детей в 14 лет составляет 166 сантиметров. Однако это лишь выборочная оценка, и исследователи рассчитали 95% доверительный интервал, который составил [160, 172]. Укажите верные утверждения:\n",
    "\n",
    "Выберите несколько вариантов и попытайтесь объяснить свой выбор:\n",
    "\n",
    "1) У нас достаточно оснований отклонить нулевую гипотезу, что среднее в генеральной совокупности равняется 173\n",
    "\n",
    "2) Вероятность того, что истинное среднее значение больше 172, составляет 0,01\n",
    "\n",
    "3) У нас достаточно оснований отклонить нулевую гипотезу, что среднее в генеральной совокупности равняется 158.\n",
    "\n",
    "4) Доверительный интервал не может иметь такие границы, т. к. выборочное стандартное отклонение равняется 10, следовательно \n",
    "доверительный интервал должен быть значительно шире."
   ]
  },
  {
   "cell_type": "markdown",
   "id": "ed76de69",
   "metadata": {},
   "source": [
    "##### Утверждение 1 верно, мы можем с 95% уверенностью утверждать, что мат. ожидание генеральной совокупности отлично от 173.\n",
    "\n",
    "##### Утверждение 2 ложно, вероятность будет 0.025.\n",
    "\n",
    "##### Утверждение 3 верно, аналогично первому утверждению.\n",
    "\n",
    "##### Утверждение 4 ложно, так как доверительный интервал зависит не только от выборочного станжартного отклонения, но и от объёма выборки."
   ]
  },
  {
   "cell_type": "markdown",
   "id": "7fefe62b",
   "metadata": {},
   "source": [
    "#### 6. Предположим, нулевой гипотезой вашего исследования являлось предположение, что конверсия в генеральной совокупности равняется 0.4. Вы получили p = 0,12 и не смогли отклонить нулевую гипотезу. Однако позже выяснилось, что конверсия в генеральной совокупности действиетльно равна 0.4. Как можно оценить результаты?\n",
    "\n",
    "Какой вариант корректный по вашему мнению и почему?\n",
    "\n",
    "1) Вы не совершали ни ошибку первого рода, ни ошибку второго рода.\n",
    "\n",
    "2) Вы совершили ошибку первого рода\n",
    "\n",
    "3) Вы совершили ошибку второго рода"
   ]
  },
  {
   "cell_type": "markdown",
   "id": "c9064ec4",
   "metadata": {},
   "source": [
    "##### Вариант 1 верный, так как мы приняли нулевую гипотезу и позже выяснилось, что предполагаемая конверсия оказалась равна действительной."
   ]
  },
  {
   "cell_type": "markdown",
   "id": "3968231a",
   "metadata": {},
   "source": [
    "## Practical Part"
   ]
  },
  {
   "cell_type": "code",
   "execution_count": 3,
   "id": "d0e4252f",
   "metadata": {},
   "outputs": [],
   "source": [
    "df_data =pd.read_csv('ab_datas.csv')"
   ]
  },
  {
   "cell_type": "code",
   "execution_count": 4,
   "id": "60c2aacf",
   "metadata": {},
   "outputs": [
    {
     "data": {
      "text/html": [
       "<div>\n",
       "<style scoped>\n",
       "    .dataframe tbody tr th:only-of-type {\n",
       "        vertical-align: middle;\n",
       "    }\n",
       "\n",
       "    .dataframe tbody tr th {\n",
       "        vertical-align: top;\n",
       "    }\n",
       "\n",
       "    .dataframe thead th {\n",
       "        text-align: right;\n",
       "    }\n",
       "</style>\n",
       "<table border=\"1\" class=\"dataframe\">\n",
       "  <thead>\n",
       "    <tr style=\"text-align: right;\">\n",
       "      <th></th>\n",
       "      <th>user_id</th>\n",
       "      <th>timestamp</th>\n",
       "      <th>group</th>\n",
       "      <th>landing_page</th>\n",
       "      <th>converted</th>\n",
       "      <th>revenue</th>\n",
       "    </tr>\n",
       "  </thead>\n",
       "  <tbody>\n",
       "    <tr>\n",
       "      <th>0</th>\n",
       "      <td>851104</td>\n",
       "      <td>2017-01-21 22:11:48.556739</td>\n",
       "      <td>control</td>\n",
       "      <td>old_page</td>\n",
       "      <td>0</td>\n",
       "      <td>0</td>\n",
       "    </tr>\n",
       "    <tr>\n",
       "      <th>1</th>\n",
       "      <td>804228</td>\n",
       "      <td>2017-01-12 08:01:45.159739</td>\n",
       "      <td>control</td>\n",
       "      <td>old_page</td>\n",
       "      <td>0</td>\n",
       "      <td>0</td>\n",
       "    </tr>\n",
       "    <tr>\n",
       "      <th>2</th>\n",
       "      <td>661590</td>\n",
       "      <td>2017-01-11 16:55:06.154213</td>\n",
       "      <td>treatment</td>\n",
       "      <td>new_page</td>\n",
       "      <td>0</td>\n",
       "      <td>100</td>\n",
       "    </tr>\n",
       "    <tr>\n",
       "      <th>3</th>\n",
       "      <td>853541</td>\n",
       "      <td>2017-01-08 18:28:03.143765</td>\n",
       "      <td>treatment</td>\n",
       "      <td>new_page</td>\n",
       "      <td>0</td>\n",
       "      <td>0</td>\n",
       "    </tr>\n",
       "    <tr>\n",
       "      <th>4</th>\n",
       "      <td>864975</td>\n",
       "      <td>2017-01-21 01:52:26.210827</td>\n",
       "      <td>control</td>\n",
       "      <td>old_page</td>\n",
       "      <td>1</td>\n",
       "      <td>250</td>\n",
       "    </tr>\n",
       "  </tbody>\n",
       "</table>\n",
       "</div>"
      ],
      "text/plain": [
       "   user_id                   timestamp      group landing_page  converted  \\\n",
       "0   851104  2017-01-21 22:11:48.556739    control     old_page          0   \n",
       "1   804228  2017-01-12 08:01:45.159739    control     old_page          0   \n",
       "2   661590  2017-01-11 16:55:06.154213  treatment     new_page          0   \n",
       "3   853541  2017-01-08 18:28:03.143765  treatment     new_page          0   \n",
       "4   864975  2017-01-21 01:52:26.210827    control     old_page          1   \n",
       "\n",
       "   revenue  \n",
       "0        0  \n",
       "1        0  \n",
       "2      100  \n",
       "3        0  \n",
       "4      250  "
      ]
     },
     "execution_count": 4,
     "metadata": {},
     "output_type": "execute_result"
    }
   ],
   "source": [
    "df_data.head()"
   ]
  },
  {
   "cell_type": "code",
   "execution_count": 5,
   "id": "c9af0e7b",
   "metadata": {},
   "outputs": [
    {
     "name": "stdout",
     "output_type": "stream",
     "text": [
      "<class 'pandas.core.frame.DataFrame'>\n",
      "RangeIndex: 294478 entries, 0 to 294477\n",
      "Data columns (total 6 columns):\n",
      " #   Column        Non-Null Count   Dtype \n",
      "---  ------        --------------   ----- \n",
      " 0   user_id       294478 non-null  int64 \n",
      " 1   timestamp     294478 non-null  object\n",
      " 2   group         294478 non-null  object\n",
      " 3   landing_page  294478 non-null  object\n",
      " 4   converted     294478 non-null  int64 \n",
      " 5   revenue       294478 non-null  int64 \n",
      "dtypes: int64(3), object(3)\n",
      "memory usage: 13.5+ MB\n"
     ]
    }
   ],
   "source": [
    "df_data.info()"
   ]
  },
  {
   "cell_type": "code",
   "execution_count": 6,
   "id": "ce7ef0ff",
   "metadata": {},
   "outputs": [
    {
     "data": {
      "text/plain": [
       "user_id         0\n",
       "timestamp       0\n",
       "group           0\n",
       "landing_page    0\n",
       "converted       0\n",
       "revenue         0\n",
       "dtype: int64"
      ]
     },
     "execution_count": 6,
     "metadata": {},
     "output_type": "execute_result"
    }
   ],
   "source": [
    "df_data.isna().sum()"
   ]
  },
  {
   "cell_type": "code",
   "execution_count": 7,
   "id": "f224d31c",
   "metadata": {},
   "outputs": [
    {
     "data": {
      "text/html": [
       "<div>\n",
       "<style scoped>\n",
       "    .dataframe tbody tr th:only-of-type {\n",
       "        vertical-align: middle;\n",
       "    }\n",
       "\n",
       "    .dataframe tbody tr th {\n",
       "        vertical-align: top;\n",
       "    }\n",
       "\n",
       "    .dataframe thead th {\n",
       "        text-align: right;\n",
       "    }\n",
       "</style>\n",
       "<table border=\"1\" class=\"dataframe\">\n",
       "  <thead>\n",
       "    <tr style=\"text-align: right;\">\n",
       "      <th></th>\n",
       "      <th>user_id</th>\n",
       "      <th>converted</th>\n",
       "      <th>revenue</th>\n",
       "    </tr>\n",
       "  </thead>\n",
       "  <tbody>\n",
       "    <tr>\n",
       "      <th>count</th>\n",
       "      <td>294478.000000</td>\n",
       "      <td>294478.000000</td>\n",
       "      <td>294478.000000</td>\n",
       "    </tr>\n",
       "    <tr>\n",
       "      <th>mean</th>\n",
       "      <td>787974.124733</td>\n",
       "      <td>0.119659</td>\n",
       "      <td>101.967719</td>\n",
       "    </tr>\n",
       "    <tr>\n",
       "      <th>std</th>\n",
       "      <td>91210.823776</td>\n",
       "      <td>0.324563</td>\n",
       "      <td>103.602744</td>\n",
       "    </tr>\n",
       "    <tr>\n",
       "      <th>min</th>\n",
       "      <td>630000.000000</td>\n",
       "      <td>0.000000</td>\n",
       "      <td>0.000000</td>\n",
       "    </tr>\n",
       "    <tr>\n",
       "      <th>25%</th>\n",
       "      <td>709032.250000</td>\n",
       "      <td>0.000000</td>\n",
       "      <td>0.000000</td>\n",
       "    </tr>\n",
       "    <tr>\n",
       "      <th>50%</th>\n",
       "      <td>787933.500000</td>\n",
       "      <td>0.000000</td>\n",
       "      <td>100.000000</td>\n",
       "    </tr>\n",
       "    <tr>\n",
       "      <th>75%</th>\n",
       "      <td>866911.750000</td>\n",
       "      <td>0.000000</td>\n",
       "      <td>250.000000</td>\n",
       "    </tr>\n",
       "    <tr>\n",
       "      <th>max</th>\n",
       "      <td>945999.000000</td>\n",
       "      <td>1.000000</td>\n",
       "      <td>250.000000</td>\n",
       "    </tr>\n",
       "  </tbody>\n",
       "</table>\n",
       "</div>"
      ],
      "text/plain": [
       "             user_id      converted        revenue\n",
       "count  294478.000000  294478.000000  294478.000000\n",
       "mean   787974.124733       0.119659     101.967719\n",
       "std     91210.823776       0.324563     103.602744\n",
       "min    630000.000000       0.000000       0.000000\n",
       "25%    709032.250000       0.000000       0.000000\n",
       "50%    787933.500000       0.000000     100.000000\n",
       "75%    866911.750000       0.000000     250.000000\n",
       "max    945999.000000       1.000000     250.000000"
      ]
     },
     "execution_count": 7,
     "metadata": {},
     "output_type": "execute_result"
    }
   ],
   "source": [
    "df_data.describe()"
   ]
  },
  {
   "cell_type": "code",
   "execution_count": 8,
   "id": "ba1adc2d",
   "metadata": {},
   "outputs": [
    {
     "data": {
      "text/plain": [
       "0      123000\n",
       "250     85863\n",
       "100     85615\n",
       "Name: revenue, dtype: int64"
      ]
     },
     "execution_count": 8,
     "metadata": {},
     "output_type": "execute_result"
    }
   ],
   "source": [
    "df_data['revenue'].value_counts()"
   ]
  },
  {
   "cell_type": "code",
   "execution_count": 9,
   "id": "56c7454e",
   "metadata": {},
   "outputs": [
    {
     "data": {
      "text/plain": [
       "old_page    147239\n",
       "new_page    147239\n",
       "Name: landing_page, dtype: int64"
      ]
     },
     "execution_count": 9,
     "metadata": {},
     "output_type": "execute_result"
    }
   ],
   "source": [
    "df_data['landing_page'].value_counts()"
   ]
  },
  {
   "cell_type": "markdown",
   "id": "eac912f4",
   "metadata": {},
   "source": [
    "**Выводы:**\n",
    "\n",
    "Данные не содержат пропусков и аномалий, предобработка не требуется.\n",
    "\n",
    "Далее будем рассматривать только исследуемый признак \"revenue\" с разбиением на две группы по признаку \"landing_page\". Признак \"landing_page\" важнее чем \"group\", так как отражает фактическое разбиение клиентов на две группы. Также данный признак разделяет клиентов на две равные группы."
   ]
  },
  {
   "cell_type": "code",
   "execution_count": 10,
   "id": "806337bc",
   "metadata": {},
   "outputs": [],
   "source": [
    "revenue_a = df_data.loc[df_data['landing_page'] == 'old_page', ['revenue']].copy()\n",
    "revenue_b = df_data.loc[df_data['landing_page'] == 'new_page', ['revenue']].copy()\n",
    "\n",
    "del df_data"
   ]
  },
  {
   "cell_type": "code",
   "execution_count": 11,
   "id": "4ba9f2bd",
   "metadata": {},
   "outputs": [
    {
     "data": {
      "text/html": [
       "<div>\n",
       "<style scoped>\n",
       "    .dataframe tbody tr th:only-of-type {\n",
       "        vertical-align: middle;\n",
       "    }\n",
       "\n",
       "    .dataframe tbody tr th {\n",
       "        vertical-align: top;\n",
       "    }\n",
       "\n",
       "    .dataframe thead th {\n",
       "        text-align: right;\n",
       "    }\n",
       "</style>\n",
       "<table border=\"1\" class=\"dataframe\">\n",
       "  <thead>\n",
       "    <tr style=\"text-align: right;\">\n",
       "      <th></th>\n",
       "      <th>revenue</th>\n",
       "    </tr>\n",
       "  </thead>\n",
       "  <tbody>\n",
       "    <tr>\n",
       "      <th>count</th>\n",
       "      <td>147239.000000</td>\n",
       "    </tr>\n",
       "    <tr>\n",
       "      <th>mean</th>\n",
       "      <td>87.855459</td>\n",
       "    </tr>\n",
       "    <tr>\n",
       "      <th>std</th>\n",
       "      <td>102.506361</td>\n",
       "    </tr>\n",
       "    <tr>\n",
       "      <th>min</th>\n",
       "      <td>0.000000</td>\n",
       "    </tr>\n",
       "    <tr>\n",
       "      <th>25%</th>\n",
       "      <td>0.000000</td>\n",
       "    </tr>\n",
       "    <tr>\n",
       "      <th>50%</th>\n",
       "      <td>100.000000</td>\n",
       "    </tr>\n",
       "    <tr>\n",
       "      <th>75%</th>\n",
       "      <td>250.000000</td>\n",
       "    </tr>\n",
       "    <tr>\n",
       "      <th>max</th>\n",
       "      <td>250.000000</td>\n",
       "    </tr>\n",
       "  </tbody>\n",
       "</table>\n",
       "</div>"
      ],
      "text/plain": [
       "             revenue\n",
       "count  147239.000000\n",
       "mean       87.855459\n",
       "std       102.506361\n",
       "min         0.000000\n",
       "25%         0.000000\n",
       "50%       100.000000\n",
       "75%       250.000000\n",
       "max       250.000000"
      ]
     },
     "execution_count": 11,
     "metadata": {},
     "output_type": "execute_result"
    }
   ],
   "source": [
    "revenue_a.describe()"
   ]
  },
  {
   "cell_type": "code",
   "execution_count": 12,
   "id": "996dcd72",
   "metadata": {},
   "outputs": [
    {
     "data": {
      "text/html": [
       "<div>\n",
       "<style scoped>\n",
       "    .dataframe tbody tr th:only-of-type {\n",
       "        vertical-align: middle;\n",
       "    }\n",
       "\n",
       "    .dataframe tbody tr th {\n",
       "        vertical-align: top;\n",
       "    }\n",
       "\n",
       "    .dataframe thead th {\n",
       "        text-align: right;\n",
       "    }\n",
       "</style>\n",
       "<table border=\"1\" class=\"dataframe\">\n",
       "  <thead>\n",
       "    <tr style=\"text-align: right;\">\n",
       "      <th></th>\n",
       "      <th>revenue</th>\n",
       "    </tr>\n",
       "  </thead>\n",
       "  <tbody>\n",
       "    <tr>\n",
       "      <th>count</th>\n",
       "      <td>147239.000000</td>\n",
       "    </tr>\n",
       "    <tr>\n",
       "      <th>mean</th>\n",
       "      <td>116.079979</td>\n",
       "    </tr>\n",
       "    <tr>\n",
       "      <th>std</th>\n",
       "      <td>102.767999</td>\n",
       "    </tr>\n",
       "    <tr>\n",
       "      <th>min</th>\n",
       "      <td>0.000000</td>\n",
       "    </tr>\n",
       "    <tr>\n",
       "      <th>25%</th>\n",
       "      <td>0.000000</td>\n",
       "    </tr>\n",
       "    <tr>\n",
       "      <th>50%</th>\n",
       "      <td>100.000000</td>\n",
       "    </tr>\n",
       "    <tr>\n",
       "      <th>75%</th>\n",
       "      <td>250.000000</td>\n",
       "    </tr>\n",
       "    <tr>\n",
       "      <th>max</th>\n",
       "      <td>250.000000</td>\n",
       "    </tr>\n",
       "  </tbody>\n",
       "</table>\n",
       "</div>"
      ],
      "text/plain": [
       "             revenue\n",
       "count  147239.000000\n",
       "mean      116.079979\n",
       "std       102.767999\n",
       "min         0.000000\n",
       "25%         0.000000\n",
       "50%       100.000000\n",
       "75%       250.000000\n",
       "max       250.000000"
      ]
     },
     "execution_count": 12,
     "metadata": {},
     "output_type": "execute_result"
    }
   ],
   "source": [
    "revenue_b.describe()"
   ]
  },
  {
   "cell_type": "markdown",
   "id": "f3c13a81",
   "metadata": {},
   "source": [
    "Основные статистики обеих выборок схожи за исключением средних арифметических. Таким образом, предварительный анализ выявил различия в двух выборках, однако необходимо провести проверки статистических гипотез для более определённого ответа.\n",
    "\n",
    "Далее сформулируем нулевую и альтернативную гипотезы, установим уровень статистической значимости альфа = 0.05.\n",
    "\n",
    "Н0: средний чек в обеих выборках не имеет статистически значимых отличий.\n",
    "\n",
    "Н1: средний чек имеет статистически значимые отличия.\n",
    "\n",
    "Сперва выполним Z-test."
   ]
  },
  {
   "cell_type": "code",
   "execution_count": 13,
   "id": "0f4195b3",
   "metadata": {},
   "outputs": [
    {
     "data": {
      "text/plain": [
       "(array([-74.61358756]), array([0.]))"
      ]
     },
     "execution_count": 13,
     "metadata": {},
     "output_type": "execute_result"
    }
   ],
   "source": [
    "ztest(revenue_a, revenue_b)"
   ]
  },
  {
   "cell_type": "markdown",
   "id": "b182f630",
   "metadata": {},
   "source": [
    "P-value получилось равным нулю, что сигнализирует о значительных отличиях выборок.\n",
    "\n",
    "Чтобы убедиться, что тест выполнен корректно, попробуем оценить суммы выборок."
   ]
  },
  {
   "cell_type": "code",
   "execution_count": 14,
   "id": "8b73d252",
   "metadata": {},
   "outputs": [
    {
     "name": "stdout",
     "output_type": "stream",
     "text": [
      "\n",
      "Сумма значений контрольной выборки:\t\t12935750\n",
      "Сумма значений экспериментальной выборки:\t17091500\n",
      "Отношение сумм значений выборок:\t\t1.321\n",
      "\n"
     ]
    }
   ],
   "source": [
    "print(f'''\n",
    "Сумма значений контрольной выборки:\\t\\t{np.sum(revenue_a)[0]}\n",
    "Сумма значений экспериментальной выборки:\\t{np.sum(revenue_b)[0]}\n",
    "Отношение сумм значений выборок:\\t\\t{(np.sum(revenue_b)[0] / np.sum(revenue_a)[0]):.4}\n",
    "''')"
   ]
  },
  {
   "cell_type": "markdown",
   "id": "2fc83881",
   "metadata": {},
   "source": [
    "Выборки действительно сильно отличаются."
   ]
  },
  {
   "cell_type": "code",
   "execution_count": 15,
   "id": "650a6d7a",
   "metadata": {},
   "outputs": [
    {
     "data": {
      "text/plain": [
       "(array([-74.61358756]), array([0.]), 294476.0)"
      ]
     },
     "execution_count": 15,
     "metadata": {},
     "output_type": "execute_result"
    }
   ],
   "source": [
    "ttest_ind(revenue_a, revenue_b)"
   ]
  },
  {
   "cell_type": "code",
   "execution_count": 16,
   "id": "f31a11fa",
   "metadata": {},
   "outputs": [
    {
     "data": {
      "text/plain": [
       "MannwhitneyuResult(statistic=array([9.08703273e+09]), pvalue=array([0.]))"
      ]
     },
     "execution_count": 16,
     "metadata": {},
     "output_type": "execute_result"
    }
   ],
   "source": [
    "mannwhitneyu(revenue_a, revenue_b)"
   ]
  },
  {
   "cell_type": "markdown",
   "id": "ef8ebec0",
   "metadata": {},
   "source": [
    "Т-тест и критерий Манна-Уитни также выявили значительные отличия, p-value = 0.\n",
    "\n",
    "Таким образом, Н0 гипотеза отвергается в пользу Н1: выборки имеют статистически значимые отличия. Рассмотрев основные статистики выборок, можно установить, что средний чек экспериментальной выборки увеличился более чем на 32%."
   ]
  },
  {
   "cell_type": "code",
   "execution_count": null,
   "id": "dac71028",
   "metadata": {},
   "outputs": [],
   "source": []
  }
 ],
 "metadata": {
  "kernelspec": {
   "display_name": "Python 3 (ipykernel)",
   "language": "python",
   "name": "python3"
  },
  "language_info": {
   "codemirror_mode": {
    "name": "ipython",
    "version": 3
   },
   "file_extension": ".py",
   "mimetype": "text/x-python",
   "name": "python",
   "nbconvert_exporter": "python",
   "pygments_lexer": "ipython3",
   "version": "3.9.5"
  }
 },
 "nbformat": 4,
 "nbformat_minor": 5
}
