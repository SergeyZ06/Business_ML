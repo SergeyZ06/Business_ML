{
 "cells": [
  {
   "cell_type": "markdown",
   "id": "4c673f34",
   "metadata": {},
   "source": [
    "# 5th_homework"
   ]
  },
  {
   "cell_type": "markdown",
   "id": "afd46813",
   "metadata": {},
   "source": [
    "### Import Section"
   ]
  },
  {
   "cell_type": "code",
   "execution_count": 1,
   "id": "628dbebf",
   "metadata": {},
   "outputs": [],
   "source": [
    "import numpy as np\n",
    "import pandas as pd\n",
    "\n",
    "from sklearn.model_selection import train_test_split\n",
    "from sklearn.model_selection import GridSearchCV\n",
    "\n",
    "from sklearn.base import BaseEstimator\n",
    "\n",
    "from sklearn.pipeline import Pipeline\n",
    "from sklearn.pipeline import FeatureUnion\n",
    "\n",
    "from sklearn.preprocessing import StandardScaler\n",
    "\n",
    "from sklearn.linear_model import LogisticRegression\n",
    "from sklearn.ensemble import GradientBoostingClassifier\n",
    "\n",
    "from sklearn.metrics import classification_report\n",
    "from sklearn.metrics import precision_recall_curve\n",
    "from sklearn.metrics import confusion_matrix\n",
    "from sklearn.metrics import ConfusionMatrixDisplay\n",
    "\n",
    "from matplotlib import pyplot as plt"
   ]
  },
  {
   "cell_type": "markdown",
   "id": "7d85bcf9",
   "metadata": {},
   "source": [
    "### Global Settings Section"
   ]
  },
  {
   "cell_type": "code",
   "execution_count": 2,
   "id": "e7ce2ea4",
   "metadata": {},
   "outputs": [],
   "source": [
    "random_state_global = 0"
   ]
  },
  {
   "cell_type": "markdown",
   "id": "ca90ca9f",
   "metadata": {},
   "source": [
    "## 1. Для нашего пайплайна (Case1) поэкспериментировать с разными моделями: 1 - бустинг, 2 - логистическая регрессия (не забудьте здесь добавить в cont_transformer стандартизацию - нормирование вещественных признаков)"
   ]
  },
  {
   "cell_type": "code",
   "execution_count": 3,
   "id": "ef0e99ef",
   "metadata": {},
   "outputs": [],
   "source": [
    "df_data = pd.read_csv('churn_data.csv')"
   ]
  },
  {
   "cell_type": "code",
   "execution_count": 4,
   "id": "c568c146",
   "metadata": {},
   "outputs": [
    {
     "data": {
      "text/html": [
       "<div>\n",
       "<style scoped>\n",
       "    .dataframe tbody tr th:only-of-type {\n",
       "        vertical-align: middle;\n",
       "    }\n",
       "\n",
       "    .dataframe tbody tr th {\n",
       "        vertical-align: top;\n",
       "    }\n",
       "\n",
       "    .dataframe thead th {\n",
       "        text-align: right;\n",
       "    }\n",
       "</style>\n",
       "<table border=\"1\" class=\"dataframe\">\n",
       "  <thead>\n",
       "    <tr style=\"text-align: right;\">\n",
       "      <th></th>\n",
       "      <th>RowNumber</th>\n",
       "      <th>CustomerId</th>\n",
       "      <th>Surname</th>\n",
       "      <th>CreditScore</th>\n",
       "      <th>Geography</th>\n",
       "      <th>Gender</th>\n",
       "      <th>Age</th>\n",
       "      <th>Tenure</th>\n",
       "      <th>Balance</th>\n",
       "      <th>NumOfProducts</th>\n",
       "      <th>HasCrCard</th>\n",
       "      <th>IsActiveMember</th>\n",
       "      <th>EstimatedSalary</th>\n",
       "      <th>Exited</th>\n",
       "    </tr>\n",
       "  </thead>\n",
       "  <tbody>\n",
       "    <tr>\n",
       "      <th>0</th>\n",
       "      <td>1</td>\n",
       "      <td>15634602</td>\n",
       "      <td>Hargrave</td>\n",
       "      <td>619</td>\n",
       "      <td>France</td>\n",
       "      <td>Female</td>\n",
       "      <td>42</td>\n",
       "      <td>2</td>\n",
       "      <td>0.00</td>\n",
       "      <td>1</td>\n",
       "      <td>1</td>\n",
       "      <td>1</td>\n",
       "      <td>101348.88</td>\n",
       "      <td>1</td>\n",
       "    </tr>\n",
       "    <tr>\n",
       "      <th>1</th>\n",
       "      <td>2</td>\n",
       "      <td>15647311</td>\n",
       "      <td>Hill</td>\n",
       "      <td>608</td>\n",
       "      <td>Spain</td>\n",
       "      <td>Female</td>\n",
       "      <td>41</td>\n",
       "      <td>1</td>\n",
       "      <td>83807.86</td>\n",
       "      <td>1</td>\n",
       "      <td>0</td>\n",
       "      <td>1</td>\n",
       "      <td>112542.58</td>\n",
       "      <td>0</td>\n",
       "    </tr>\n",
       "    <tr>\n",
       "      <th>2</th>\n",
       "      <td>3</td>\n",
       "      <td>15619304</td>\n",
       "      <td>Onio</td>\n",
       "      <td>502</td>\n",
       "      <td>France</td>\n",
       "      <td>Female</td>\n",
       "      <td>42</td>\n",
       "      <td>8</td>\n",
       "      <td>159660.80</td>\n",
       "      <td>3</td>\n",
       "      <td>1</td>\n",
       "      <td>0</td>\n",
       "      <td>113931.57</td>\n",
       "      <td>1</td>\n",
       "    </tr>\n",
       "    <tr>\n",
       "      <th>3</th>\n",
       "      <td>4</td>\n",
       "      <td>15701354</td>\n",
       "      <td>Boni</td>\n",
       "      <td>699</td>\n",
       "      <td>France</td>\n",
       "      <td>Female</td>\n",
       "      <td>39</td>\n",
       "      <td>1</td>\n",
       "      <td>0.00</td>\n",
       "      <td>2</td>\n",
       "      <td>0</td>\n",
       "      <td>0</td>\n",
       "      <td>93826.63</td>\n",
       "      <td>0</td>\n",
       "    </tr>\n",
       "    <tr>\n",
       "      <th>4</th>\n",
       "      <td>5</td>\n",
       "      <td>15737888</td>\n",
       "      <td>Mitchell</td>\n",
       "      <td>850</td>\n",
       "      <td>Spain</td>\n",
       "      <td>Female</td>\n",
       "      <td>43</td>\n",
       "      <td>2</td>\n",
       "      <td>125510.82</td>\n",
       "      <td>1</td>\n",
       "      <td>1</td>\n",
       "      <td>1</td>\n",
       "      <td>79084.10</td>\n",
       "      <td>0</td>\n",
       "    </tr>\n",
       "  </tbody>\n",
       "</table>\n",
       "</div>"
      ],
      "text/plain": [
       "   RowNumber  CustomerId   Surname  CreditScore Geography  Gender  Age  \\\n",
       "0          1    15634602  Hargrave          619    France  Female   42   \n",
       "1          2    15647311      Hill          608     Spain  Female   41   \n",
       "2          3    15619304      Onio          502    France  Female   42   \n",
       "3          4    15701354      Boni          699    France  Female   39   \n",
       "4          5    15737888  Mitchell          850     Spain  Female   43   \n",
       "\n",
       "   Tenure    Balance  NumOfProducts  HasCrCard  IsActiveMember  \\\n",
       "0       2       0.00              1          1               1   \n",
       "1       1   83807.86              1          0               1   \n",
       "2       8  159660.80              3          1               0   \n",
       "3       1       0.00              2          0               0   \n",
       "4       2  125510.82              1          1               1   \n",
       "\n",
       "   EstimatedSalary  Exited  \n",
       "0        101348.88       1  \n",
       "1        112542.58       0  \n",
       "2        113931.57       1  \n",
       "3         93826.63       0  \n",
       "4         79084.10       0  "
      ]
     },
     "execution_count": 4,
     "metadata": {},
     "output_type": "execute_result"
    }
   ],
   "source": [
    "df_data.head()"
   ]
  },
  {
   "cell_type": "code",
   "execution_count": 5,
   "id": "dfa799db",
   "metadata": {
    "scrolled": false
   },
   "outputs": [
    {
     "name": "stdout",
     "output_type": "stream",
     "text": [
      "<class 'pandas.core.frame.DataFrame'>\n",
      "RangeIndex: 10000 entries, 0 to 9999\n",
      "Data columns (total 14 columns):\n",
      " #   Column           Non-Null Count  Dtype  \n",
      "---  ------           --------------  -----  \n",
      " 0   RowNumber        10000 non-null  int64  \n",
      " 1   CustomerId       10000 non-null  int64  \n",
      " 2   Surname          10000 non-null  object \n",
      " 3   CreditScore      10000 non-null  int64  \n",
      " 4   Geography        10000 non-null  object \n",
      " 5   Gender           10000 non-null  object \n",
      " 6   Age              10000 non-null  int64  \n",
      " 7   Tenure           10000 non-null  int64  \n",
      " 8   Balance          10000 non-null  float64\n",
      " 9   NumOfProducts    10000 non-null  int64  \n",
      " 10  HasCrCard        10000 non-null  int64  \n",
      " 11  IsActiveMember   10000 non-null  int64  \n",
      " 12  EstimatedSalary  10000 non-null  float64\n",
      " 13  Exited           10000 non-null  int64  \n",
      "dtypes: float64(2), int64(9), object(3)\n",
      "memory usage: 1.1+ MB\n"
     ]
    }
   ],
   "source": [
    "df_data.info()"
   ]
  },
  {
   "cell_type": "code",
   "execution_count": 6,
   "id": "f5e59221",
   "metadata": {
    "scrolled": true
   },
   "outputs": [
    {
     "data": {
      "text/plain": [
       "0    0.7963\n",
       "1    0.2037\n",
       "Name: Exited, dtype: float64"
      ]
     },
     "execution_count": 6,
     "metadata": {},
     "output_type": "execute_result"
    }
   ],
   "source": [
    "df_data['Exited'].value_counts(normalize=True)"
   ]
  },
  {
   "cell_type": "markdown",
   "id": "c4246f6c",
   "metadata": {},
   "source": [
    "##### Наблюдается дисбаланс классов."
   ]
  },
  {
   "cell_type": "markdown",
   "id": "90001e87",
   "metadata": {},
   "source": [
    "### Preprocessing"
   ]
  },
  {
   "cell_type": "code",
   "execution_count": 7,
   "id": "86bf6ac2",
   "metadata": {},
   "outputs": [],
   "source": [
    "X_train, X_test, y_train, y_test = train_test_split(df_data.drop(columns=['Exited']), df_data['Exited'],\n",
    "                                                   random_state=random_state_global, stratify=df_data['Exited'])"
   ]
  },
  {
   "cell_type": "markdown",
   "id": "1bc6fd5c",
   "metadata": {},
   "source": [
    "##### Объявим классы для обработки признаков в pipeline."
   ]
  },
  {
   "cell_type": "code",
   "execution_count": 8,
   "id": "379c185c",
   "metadata": {},
   "outputs": [],
   "source": [
    "class CategoricalFeatureSelector(BaseEstimator):\n",
    "    def __init__(self, column):\n",
    "        self.column = column\n",
    "    \n",
    "    def fit(self, X, y=None):\n",
    "        return self\n",
    "    \n",
    "    def transform(self, X, y=None):\n",
    "        return X[self.column]\n",
    "\n",
    "\n",
    "class NumericalFeatureSelector(BaseEstimator):\n",
    "    def __init__(self, column):\n",
    "        self.column = column\n",
    "    \n",
    "    def fit(self, X, y=None):\n",
    "        return self\n",
    "    \n",
    "    def transform(self, X):\n",
    "        return X[[self.column]]\n",
    "\n",
    "\n",
    "class OneHotEncoder(BaseEstimator):\n",
    "    def __init__(self, key):\n",
    "        self.key = key\n",
    "        self.columns = None\n",
    "    \n",
    "    def fit(self, X, y=None):\n",
    "        self.columns = [column for column in pd.get_dummies(X, prefix=self.key).columns]\n",
    "        return self\n",
    "    \n",
    "    def transform(self, X):\n",
    "        X = pd.get_dummies(X, prefix=self.key)\n",
    "        for column in self.columns:\n",
    "            if column not in X.columns:\n",
    "                X[column] = 0\n",
    "        return X[self.columns]\n",
    "\n",
    "\n",
    "class FeaturesDeletion(BaseEstimator):\n",
    "    def __init__(self, columns):\n",
    "        self.columns = columns\n",
    "    \n",
    "    def fit(self, X, y=None):\n",
    "        return self\n",
    "    \n",
    "    def transform(self, X):\n",
    "        return X.drop(columns=self.columns)"
   ]
  },
  {
   "cell_type": "markdown",
   "id": "630692ef",
   "metadata": {},
   "source": [
    "##### Классифицируем признаки: избыточные, непрерывные, категориальные."
   ]
  },
  {
   "cell_type": "code",
   "execution_count": 9,
   "id": "263e07af",
   "metadata": {},
   "outputs": [],
   "source": [
    "list_features_deletion = ['RowNumber', 'CustomerId', 'Surname']\n",
    "list_features_numerical = ['CreditScore', 'Age', 'Balance', 'NumOfProducts', 'EstimatedSalary']\n",
    "list_features_categorical = ['Geography', 'Gender', 'Tenure', 'HasCrCard', 'IsActiveMember']"
   ]
  },
  {
   "cell_type": "markdown",
   "id": "136f7b3d",
   "metadata": {},
   "source": [
    "##### Реализуем pipeline для предобработки признаков."
   ]
  },
  {
   "cell_type": "code",
   "execution_count": 10,
   "id": "a2a9b11a",
   "metadata": {},
   "outputs": [],
   "source": [
    "list_pipelines_numerical_scaled = []\n",
    "\n",
    "for feature in list_features_numerical:\n",
    "    pipeline_new = Pipeline([\n",
    "        (f'selector_{feature}', NumericalFeatureSelector(column=feature)),\n",
    "        (f'scaler_{feature}', StandardScaler())\n",
    "    ])\n",
    "    list_pipelines_numerical_scaled.append((feature, pipeline_new))\n",
    "\n",
    "\n",
    "list_pipelines_numerical = []\n",
    "\n",
    "for feature in list_features_numerical:\n",
    "    pipeline_new = Pipeline([\n",
    "        (f'selector_{feature}', NumericalFeatureSelector(column=feature))\n",
    "    ])\n",
    "    list_pipelines_numerical.append((feature, pipeline_new))\n",
    "\n",
    "\n",
    "list_pipelines_categorical = []\n",
    "\n",
    "for feature in list_features_categorical:\n",
    "    pipeline_new = Pipeline([\n",
    "        (f'selector_{feature}', CategoricalFeatureSelector(column=feature)),\n",
    "        (f'ohe_{feature}', OneHotEncoder(key=feature))\n",
    "    ])\n",
    "    list_pipelines_categorical.append((feature, pipeline_new))"
   ]
  },
  {
   "cell_type": "markdown",
   "id": "fa31a384",
   "metadata": {},
   "source": [
    "### LogisticRegression"
   ]
  },
  {
   "cell_type": "code",
   "execution_count": 11,
   "id": "58f4c812",
   "metadata": {},
   "outputs": [],
   "source": [
    "pipeline_model_lr = Pipeline([\n",
    "    ('features_deletion_', FeaturesDeletion(columns=list_features_deletion)),\n",
    "    ('features_preprocessing', FeatureUnion(list_pipelines_numerical_scaled + list_pipelines_categorical, n_jobs=-1)),\n",
    "    ('classifier', LogisticRegression(random_state=random_state_global))\n",
    "])"
   ]
  },
  {
   "cell_type": "markdown",
   "id": "83670c4a",
   "metadata": {},
   "source": [
    "##### Используем кросс-валидацию для перебора и поиска лучших параметров."
   ]
  },
  {
   "cell_type": "code",
   "execution_count": 12,
   "id": "f422eefa",
   "metadata": {
    "scrolled": true
   },
   "outputs": [
    {
     "name": "stdout",
     "output_type": "stream",
     "text": [
      "Wall time: 1.9 s\n"
     ]
    },
    {
     "name": "stderr",
     "output_type": "stream",
     "text": [
      "c:\\users\\sergeyz06\\appdata\\local\\programs\\python\\python39\\lib\\site-packages\\sklearn\\model_selection\\_validation.py:372: FitFailedWarning: \n",
      "36 fits failed out of a total of 96.\n",
      "The score on these train-test partitions for these parameters will be set to nan.\n",
      "If these failures are not expected, you can try to debug them by setting error_score='raise'.\n",
      "\n",
      "Below are more details about the failures:\n",
      "--------------------------------------------------------------------------------\n",
      "12 fits failed with the following error:\n",
      "Traceback (most recent call last):\n",
      "  File \"c:\\users\\sergeyz06\\appdata\\local\\programs\\python\\python39\\lib\\site-packages\\sklearn\\model_selection\\_validation.py\", line 681, in _fit_and_score\n",
      "    estimator.fit(X_train, y_train, **fit_params)\n",
      "  File \"c:\\users\\sergeyz06\\appdata\\local\\programs\\python\\python39\\lib\\site-packages\\sklearn\\pipeline.py\", line 394, in fit\n",
      "    self._final_estimator.fit(Xt, y, **fit_params_last_step)\n",
      "  File \"c:\\users\\sergeyz06\\appdata\\local\\programs\\python\\python39\\lib\\site-packages\\sklearn\\linear_model\\_logistic.py\", line 1461, in fit\n",
      "    solver = _check_solver(self.solver, self.penalty, self.dual)\n",
      "  File \"c:\\users\\sergeyz06\\appdata\\local\\programs\\python\\python39\\lib\\site-packages\\sklearn\\linear_model\\_logistic.py\", line 447, in _check_solver\n",
      "    raise ValueError(\n",
      "ValueError: Solver lbfgs supports only 'l2' or 'none' penalties, got l1 penalty.\n",
      "\n",
      "--------------------------------------------------------------------------------\n",
      "12 fits failed with the following error:\n",
      "Traceback (most recent call last):\n",
      "  File \"c:\\users\\sergeyz06\\appdata\\local\\programs\\python\\python39\\lib\\site-packages\\sklearn\\model_selection\\_validation.py\", line 681, in _fit_and_score\n",
      "    estimator.fit(X_train, y_train, **fit_params)\n",
      "  File \"c:\\users\\sergeyz06\\appdata\\local\\programs\\python\\python39\\lib\\site-packages\\sklearn\\pipeline.py\", line 394, in fit\n",
      "    self._final_estimator.fit(Xt, y, **fit_params_last_step)\n",
      "  File \"c:\\users\\sergeyz06\\appdata\\local\\programs\\python\\python39\\lib\\site-packages\\sklearn\\linear_model\\_logistic.py\", line 1461, in fit\n",
      "    solver = _check_solver(self.solver, self.penalty, self.dual)\n",
      "  File \"c:\\users\\sergeyz06\\appdata\\local\\programs\\python\\python39\\lib\\site-packages\\sklearn\\linear_model\\_logistic.py\", line 447, in _check_solver\n",
      "    raise ValueError(\n",
      "ValueError: Solver lbfgs supports only 'l2' or 'none' penalties, got elasticnet penalty.\n",
      "\n",
      "--------------------------------------------------------------------------------\n",
      "12 fits failed with the following error:\n",
      "Traceback (most recent call last):\n",
      "  File \"c:\\users\\sergeyz06\\appdata\\local\\programs\\python\\python39\\lib\\site-packages\\sklearn\\model_selection\\_validation.py\", line 681, in _fit_and_score\n",
      "    estimator.fit(X_train, y_train, **fit_params)\n",
      "  File \"c:\\users\\sergeyz06\\appdata\\local\\programs\\python\\python39\\lib\\site-packages\\sklearn\\pipeline.py\", line 394, in fit\n",
      "    self._final_estimator.fit(Xt, y, **fit_params_last_step)\n",
      "  File \"c:\\users\\sergeyz06\\appdata\\local\\programs\\python\\python39\\lib\\site-packages\\sklearn\\linear_model\\_logistic.py\", line 1471, in fit\n",
      "    raise ValueError(\n",
      "ValueError: l1_ratio must be between 0 and 1; got (l1_ratio=None)\n",
      "\n",
      "  warnings.warn(some_fits_failed_message, FitFailedWarning)\n",
      "c:\\users\\sergeyz06\\appdata\\local\\programs\\python\\python39\\lib\\site-packages\\sklearn\\model_selection\\_search.py:969: UserWarning: One or more of the test scores are non-finite: [       nan 0.31742798 0.31857457 0.31857457        nan        nan\n",
      " 0.31891497 0.31891497        nan 0.4926559  0.49256487 0.49256487\n",
      "        nan        nan 0.49315648 0.49315648        nan 0.4895056\n",
      " 0.48898788 0.48884227        nan        nan 0.48870463 0.48870463\n",
      "        nan 0.4053907  0.4102378  0.40959621        nan        nan\n",
      " 0.41212745 0.41212745]\n",
      "  warnings.warn(\n"
     ]
    },
    {
     "data": {
      "text/plain": [
       "GridSearchCV(cv=3,\n",
       "             estimator=Pipeline(steps=[('features_deletion_',\n",
       "                                        FeaturesDeletion(columns=['RowNumber',\n",
       "                                                                  'CustomerId',\n",
       "                                                                  'Surname'])),\n",
       "                                       ('features_preprocessing',\n",
       "                                        FeatureUnion(n_jobs=-1,\n",
       "                                                     transformer_list=[('CreditScore',\n",
       "                                                                        Pipeline(steps=[('selector_CreditScore',\n",
       "                                                                                         NumericalFeatureSelector(column='CreditScore')),\n",
       "                                                                                        ('scaler_CreditScore',\n",
       "                                                                                         StandardScaler())])),\n",
       "                                                                       ('Age',...\n",
       "                                                                                         CategoricalFeatureSelector(column='IsActiveMember')),\n",
       "                                                                                        ('ohe_IsActiveMember',\n",
       "                                                                                         OneHotEncoder(key='IsActiveMember'))]))])),\n",
       "                                       ('classifier',\n",
       "                                        LogisticRegression(random_state=0))]),\n",
       "             n_jobs=-1,\n",
       "             param_grid={'classifier__class_weight': [None, {0: 0.2, 1: 0.8},\n",
       "                                                      {0: 0.3, 1: 0.7},\n",
       "                                                      {0: 0.4, 1: 0.6}],\n",
       "                         'classifier__penalty': ['l1', 'l2', 'elasticnet',\n",
       "                                                 'none'],\n",
       "                         'classifier__solver': ['lbfgs', 'saga']},\n",
       "             scoring='f1')"
      ]
     },
     "execution_count": 12,
     "metadata": {},
     "output_type": "execute_result"
    }
   ],
   "source": [
    "%%time\n",
    "\n",
    "dict_params = {\n",
    "    'classifier__penalty': ['l1', 'l2', 'elasticnet', 'none'],\n",
    "    'classifier__class_weight': [None, {1: 0.8, 0: 0.2}, {1: 0.7, 0: 0.3}, {1: 0.6, 0: 0.4}],\n",
    "    'classifier__solver': ['lbfgs', 'saga']\n",
    "}\n",
    "\n",
    "grid_search_lr = GridSearchCV(estimator=pipeline_model_lr,\n",
    "                              param_grid=dict_params,\n",
    "                              scoring='f1',\n",
    "                              n_jobs=-1,\n",
    "                              cv=3)\n",
    "\n",
    "grid_search_lr.fit(X_train, y_train)"
   ]
  },
  {
   "cell_type": "code",
   "execution_count": 13,
   "id": "ca87be2f",
   "metadata": {
    "scrolled": true
   },
   "outputs": [
    {
     "data": {
      "text/plain": [
       "({'classifier__class_weight': {1: 0.8, 0: 0.2},\n",
       "  'classifier__penalty': 'none',\n",
       "  'classifier__solver': 'lbfgs'},\n",
       " 0.49315647962801085)"
      ]
     },
     "execution_count": 13,
     "metadata": {},
     "output_type": "execute_result"
    }
   ],
   "source": [
    "grid_search_lr.best_params_, grid_search_lr.best_score_"
   ]
  },
  {
   "cell_type": "markdown",
   "id": "7c0f8bdf",
   "metadata": {},
   "source": [
    "##### Постоим модель с использованием лучших параметров."
   ]
  },
  {
   "cell_type": "code",
   "execution_count": 14,
   "id": "01fb2167",
   "metadata": {},
   "outputs": [
    {
     "data": {
      "text/plain": [
       "{'class_weight': {1: 0.8, 0: 0.2}, 'penalty': 'none', 'solver': 'lbfgs'}"
      ]
     },
     "execution_count": 14,
     "metadata": {},
     "output_type": "execute_result"
    }
   ],
   "source": [
    "dict_params = grid_search_lr.best_params_\n",
    "dict_params = dict(zip([x.split('__')[1] for x in list(dict_params.keys())], dict_params.values()))\n",
    "\n",
    "dict_params"
   ]
  },
  {
   "cell_type": "code",
   "execution_count": 15,
   "id": "8d7f1f16",
   "metadata": {},
   "outputs": [],
   "source": [
    "pipeline_model_lr = Pipeline([\n",
    "    ('features_deletion_', FeaturesDeletion(columns=list_features_deletion)),\n",
    "    ('features_preprocessing', FeatureUnion(list_pipelines_numerical_scaled + list_pipelines_categorical, n_jobs=-1)),\n",
    "    ('classifier', LogisticRegression(random_state=random_state_global, **dict_params))\n",
    "])"
   ]
  },
  {
   "cell_type": "code",
   "execution_count": 16,
   "id": "e0941de2",
   "metadata": {
    "scrolled": false
   },
   "outputs": [
    {
     "name": "stdout",
     "output_type": "stream",
     "text": [
      "Wall time: 48.6 ms\n"
     ]
    },
    {
     "data": {
      "text/plain": [
       "Pipeline(steps=[('features_deletion_',\n",
       "                 FeaturesDeletion(columns=['RowNumber', 'CustomerId',\n",
       "                                           'Surname'])),\n",
       "                ('features_preprocessing',\n",
       "                 FeatureUnion(n_jobs=-1,\n",
       "                              transformer_list=[('CreditScore',\n",
       "                                                 Pipeline(steps=[('selector_CreditScore',\n",
       "                                                                  NumericalFeatureSelector(column='CreditScore')),\n",
       "                                                                 ('scaler_CreditScore',\n",
       "                                                                  StandardScaler())])),\n",
       "                                                ('Age',\n",
       "                                                 Pipeline(steps=[('selector_A...\n",
       "                                                                  CategoricalFeatureSelector(column='HasCrCard')),\n",
       "                                                                 ('ohe_HasCrCard',\n",
       "                                                                  OneHotEncoder(key='HasCrCard'))])),\n",
       "                                                ('IsActiveMember',\n",
       "                                                 Pipeline(steps=[('selector_IsActiveMember',\n",
       "                                                                  CategoricalFeatureSelector(column='IsActiveMember')),\n",
       "                                                                 ('ohe_IsActiveMember',\n",
       "                                                                  OneHotEncoder(key='IsActiveMember'))]))])),\n",
       "                ('classifier',\n",
       "                 LogisticRegression(class_weight={0: 0.2, 1: 0.8},\n",
       "                                    penalty='none', random_state=0))])"
      ]
     },
     "execution_count": 16,
     "metadata": {},
     "output_type": "execute_result"
    }
   ],
   "source": [
    "%%time\n",
    "\n",
    "pipeline_model_lr.fit(X_train, y_train)"
   ]
  },
  {
   "cell_type": "code",
   "execution_count": 17,
   "id": "e5c7e075",
   "metadata": {},
   "outputs": [
    {
     "name": "stdout",
     "output_type": "stream",
     "text": [
      "Wall time: 32.9 ms\n"
     ]
    }
   ],
   "source": [
    "%%time\n",
    "\n",
    "y_preds = pipeline_model_lr.predict_proba(X_test)[:, 1]\n",
    "y_pred = pipeline_model_lr.predict(X_test)"
   ]
  },
  {
   "cell_type": "code",
   "execution_count": 18,
   "id": "71b11d87",
   "metadata": {},
   "outputs": [
    {
     "data": {
      "text/plain": [
       "(array([0.26731647, 0.61436423, 0.13586509, 0.47909198, 0.50200159]),\n",
       " array([0, 1, 0, 0, 1], dtype=int64))"
      ]
     },
     "execution_count": 18,
     "metadata": {},
     "output_type": "execute_result"
    }
   ],
   "source": [
    "y_preds[:5], y_pred[:5]"
   ]
  },
  {
   "cell_type": "code",
   "execution_count": 19,
   "id": "18f3130b",
   "metadata": {},
   "outputs": [
    {
     "name": "stdout",
     "output_type": "stream",
     "text": [
      "              precision    recall  f1-score   support\n",
      "\n",
      "           0       0.91      0.70      0.79      1991\n",
      "           1       0.38      0.73      0.50       509\n",
      "\n",
      "    accuracy                           0.70      2500\n",
      "   macro avg       0.65      0.71      0.65      2500\n",
      "weighted avg       0.80      0.70      0.73      2500\n",
      "\n"
     ]
    }
   ],
   "source": [
    "print(classification_report(y_test, y_pred))"
   ]
  },
  {
   "cell_type": "code",
   "execution_count": 20,
   "id": "65605afc",
   "metadata": {},
   "outputs": [
    {
     "data": {
      "text/html": [
       "<div>\n",
       "<style scoped>\n",
       "    .dataframe tbody tr th:only-of-type {\n",
       "        vertical-align: middle;\n",
       "    }\n",
       "\n",
       "    .dataframe tbody tr th {\n",
       "        vertical-align: top;\n",
       "    }\n",
       "\n",
       "    .dataframe thead th {\n",
       "        text-align: right;\n",
       "    }\n",
       "</style>\n",
       "<table border=\"1\" class=\"dataframe\">\n",
       "  <thead>\n",
       "    <tr style=\"text-align: right;\">\n",
       "      <th></th>\n",
       "      <th>Threshold</th>\n",
       "      <th>Precision</th>\n",
       "      <th>Recall</th>\n",
       "      <th>F1-score</th>\n",
       "    </tr>\n",
       "  </thead>\n",
       "  <tbody>\n",
       "    <tr>\n",
       "      <th>LogisticRegression</th>\n",
       "      <td>0.545164</td>\n",
       "      <td>0.410539</td>\n",
       "      <td>0.658153</td>\n",
       "      <td>0.50566</td>\n",
       "    </tr>\n",
       "  </tbody>\n",
       "</table>\n",
       "</div>"
      ],
      "text/plain": [
       "                    Threshold  Precision    Recall  F1-score\n",
       "LogisticRegression   0.545164   0.410539  0.658153   0.50566"
      ]
     },
     "execution_count": 20,
     "metadata": {},
     "output_type": "execute_result"
    }
   ],
   "source": [
    "list_precision, list_recall, list_threshold = precision_recall_curve(y_test, y_preds)\n",
    "\n",
    "list_f1_score = 2 * (list_precision * list_recall) / (list_precision + list_recall)\n",
    "index_best = np.argmax(list_f1_score)\n",
    "\n",
    "df_metrics = pd.DataFrame(data={\n",
    "    'Threshold': list_threshold[index_best],\n",
    "    'Precision': list_precision[index_best],\n",
    "    'Recall': list_recall[index_best],\n",
    "    'F1-score': list_f1_score[index_best]\n",
    "}, index=['LogisticRegression'])\n",
    "\n",
    "df_metrics"
   ]
  },
  {
   "cell_type": "markdown",
   "id": "2e7f0488",
   "metadata": {},
   "source": [
    "### GradientBoostingClassifier"
   ]
  },
  {
   "cell_type": "code",
   "execution_count": 21,
   "id": "340bef33",
   "metadata": {},
   "outputs": [],
   "source": [
    "pipeline_model_gbc = Pipeline([\n",
    "    ('feature_deletion', FeaturesDeletion(columns=list_features_deletion)),\n",
    "    ('features_preprocessing', FeatureUnion(list_pipelines_numerical + list_pipelines_categorical, n_jobs=-1)),\n",
    "    ('classifier', GradientBoostingClassifier(random_state=random_state_global))\n",
    "])"
   ]
  },
  {
   "cell_type": "markdown",
   "id": "dfd856d5",
   "metadata": {},
   "source": [
    "##### Используем кросс-валидацию для перебора и поиска лучших параметров."
   ]
  },
  {
   "cell_type": "code",
   "execution_count": 22,
   "id": "c9206675",
   "metadata": {},
   "outputs": [
    {
     "name": "stdout",
     "output_type": "stream",
     "text": [
      "Wall time: 7.24 s\n"
     ]
    },
    {
     "data": {
      "text/plain": [
       "GridSearchCV(cv=3,\n",
       "             estimator=Pipeline(steps=[('feature_deletion',\n",
       "                                        FeaturesDeletion(columns=['RowNumber',\n",
       "                                                                  'CustomerId',\n",
       "                                                                  'Surname'])),\n",
       "                                       ('features_preprocessing',\n",
       "                                        FeatureUnion(n_jobs=-1,\n",
       "                                                     transformer_list=[('CreditScore',\n",
       "                                                                        Pipeline(steps=[('selector_CreditScore',\n",
       "                                                                                         NumericalFeatureSelector(column='CreditScore'))])),\n",
       "                                                                       ('Age',\n",
       "                                                                        Pipeline(steps=[('selector_Age',\n",
       "                                                                                         NumericalF...\n",
       "                                                                        Pipeline(steps=[('selector_IsActiveMember',\n",
       "                                                                                         CategoricalFeatureSelector(column='IsActiveMember')),\n",
       "                                                                                        ('ohe_IsActiveMember',\n",
       "                                                                                         OneHotEncoder(key='IsActiveMember'))]))])),\n",
       "                                       ('classifier',\n",
       "                                        GradientBoostingClassifier(random_state=0))]),\n",
       "             n_jobs=-1,\n",
       "             param_grid={'classifier__max_depth': [5, 10, 15],\n",
       "                         'classifier__min_samples_leaf': [5, 10, 15],\n",
       "                         'classifier__min_samples_split': [100]},\n",
       "             scoring='f1')"
      ]
     },
     "execution_count": 22,
     "metadata": {},
     "output_type": "execute_result"
    }
   ],
   "source": [
    "%%time\n",
    "\n",
    "dict_params = {\n",
    "    'classifier__min_samples_split': [100],\n",
    "    'classifier__min_samples_leaf': [5, 10, 15],\n",
    "    'classifier__max_depth': [5, 10, 15]\n",
    "}\n",
    "\n",
    "grid_search_gbc = GridSearchCV(estimator=pipeline_model_gbc,\n",
    "                               param_grid=dict_params,\n",
    "                               scoring='f1',\n",
    "                               n_jobs=-1,\n",
    "                               cv=3)\n",
    "\n",
    "grid_search_gbc.fit(X_train, y_train)"
   ]
  },
  {
   "cell_type": "code",
   "execution_count": 23,
   "id": "091a9f53",
   "metadata": {
    "scrolled": true
   },
   "outputs": [
    {
     "data": {
      "text/plain": [
       "({'classifier__max_depth': 5,\n",
       "  'classifier__min_samples_leaf': 10,\n",
       "  'classifier__min_samples_split': 100},\n",
       " 0.6055859903072155)"
      ]
     },
     "execution_count": 23,
     "metadata": {},
     "output_type": "execute_result"
    }
   ],
   "source": [
    "grid_search_gbc.best_params_, grid_search_gbc.best_score_"
   ]
  },
  {
   "cell_type": "markdown",
   "id": "f2b166f4",
   "metadata": {},
   "source": [
    "##### Постоим модель с использованием лучших параметров."
   ]
  },
  {
   "cell_type": "code",
   "execution_count": 24,
   "id": "23aac2bb",
   "metadata": {},
   "outputs": [
    {
     "data": {
      "text/plain": [
       "{'max_depth': 5, 'min_samples_leaf': 10, 'min_samples_split': 100}"
      ]
     },
     "execution_count": 24,
     "metadata": {},
     "output_type": "execute_result"
    }
   ],
   "source": [
    "dict_params = grid_search_gbc.best_params_\n",
    "dict_params = dict(zip([x.split('__')[1] for x in list(dict_params.keys())], dict_params.values()))\n",
    "\n",
    "dict_params"
   ]
  },
  {
   "cell_type": "code",
   "execution_count": 25,
   "id": "d0115124",
   "metadata": {},
   "outputs": [],
   "source": [
    "pipeline_model_gbc = Pipeline([\n",
    "    ('feature_deletion', FeaturesDeletion(columns=list_features_deletion)),\n",
    "    ('features_preprocessing', FeatureUnion(list_pipelines_numerical + list_pipelines_categorical, n_jobs=-1)),\n",
    "    ('classifier', GradientBoostingClassifier(random_state=random_state_global, **dict_params))\n",
    "])"
   ]
  },
  {
   "cell_type": "code",
   "execution_count": 26,
   "id": "f17d5015",
   "metadata": {},
   "outputs": [
    {
     "name": "stdout",
     "output_type": "stream",
     "text": [
      "Wall time: 1.2 s\n"
     ]
    },
    {
     "data": {
      "text/plain": [
       "Pipeline(steps=[('feature_deletion',\n",
       "                 FeaturesDeletion(columns=['RowNumber', 'CustomerId',\n",
       "                                           'Surname'])),\n",
       "                ('features_preprocessing',\n",
       "                 FeatureUnion(n_jobs=-1,\n",
       "                              transformer_list=[('CreditScore',\n",
       "                                                 Pipeline(steps=[('selector_CreditScore',\n",
       "                                                                  NumericalFeatureSelector(column='CreditScore'))])),\n",
       "                                                ('Age',\n",
       "                                                 Pipeline(steps=[('selector_Age',\n",
       "                                                                  NumericalFeatureSelector(column='Age')...\n",
       "                                                                  CategoricalFeatureSelector(column='HasCrCard')),\n",
       "                                                                 ('ohe_HasCrCard',\n",
       "                                                                  OneHotEncoder(key='HasCrCard'))])),\n",
       "                                                ('IsActiveMember',\n",
       "                                                 Pipeline(steps=[('selector_IsActiveMember',\n",
       "                                                                  CategoricalFeatureSelector(column='IsActiveMember')),\n",
       "                                                                 ('ohe_IsActiveMember',\n",
       "                                                                  OneHotEncoder(key='IsActiveMember'))]))])),\n",
       "                ('classifier',\n",
       "                 GradientBoostingClassifier(max_depth=5, min_samples_leaf=10,\n",
       "                                            min_samples_split=100,\n",
       "                                            random_state=0))])"
      ]
     },
     "execution_count": 26,
     "metadata": {},
     "output_type": "execute_result"
    }
   ],
   "source": [
    "%%time\n",
    "\n",
    "pipeline_model_gbc.fit(X_train, y_train)"
   ]
  },
  {
   "cell_type": "code",
   "execution_count": 27,
   "id": "f91ad970",
   "metadata": {},
   "outputs": [
    {
     "name": "stdout",
     "output_type": "stream",
     "text": [
      "Wall time: 70.8 ms\n"
     ]
    }
   ],
   "source": [
    "%%time\n",
    "\n",
    "y_preds = pipeline_model_gbc.predict_proba(X_test)[:, 1]\n",
    "y_pred = pipeline_model_gbc.predict(X_test)"
   ]
  },
  {
   "cell_type": "code",
   "execution_count": 28,
   "id": "9e5b06fb",
   "metadata": {},
   "outputs": [
    {
     "data": {
      "text/plain": [
       "(array([0.01704077, 0.07250419, 0.02251402, 0.0506439 , 0.3504711 ]),\n",
       " array([0, 0, 0, 0, 0], dtype=int64))"
      ]
     },
     "execution_count": 28,
     "metadata": {},
     "output_type": "execute_result"
    }
   ],
   "source": [
    "y_preds[:5], y_pred[:5]"
   ]
  },
  {
   "cell_type": "code",
   "execution_count": 29,
   "id": "ad3aa14d",
   "metadata": {},
   "outputs": [
    {
     "name": "stdout",
     "output_type": "stream",
     "text": [
      "              precision    recall  f1-score   support\n",
      "\n",
      "           0       0.87      0.95      0.91      1991\n",
      "           1       0.72      0.46      0.56       509\n",
      "\n",
      "    accuracy                           0.85      2500\n",
      "   macro avg       0.80      0.71      0.74      2500\n",
      "weighted avg       0.84      0.85      0.84      2500\n",
      "\n"
     ]
    }
   ],
   "source": [
    "print(classification_report(y_test, y_pred))"
   ]
  },
  {
   "cell_type": "code",
   "execution_count": 30,
   "id": "dfb61a3f",
   "metadata": {
    "scrolled": false
   },
   "outputs": [
    {
     "data": {
      "text/html": [
       "<div>\n",
       "<style scoped>\n",
       "    .dataframe tbody tr th:only-of-type {\n",
       "        vertical-align: middle;\n",
       "    }\n",
       "\n",
       "    .dataframe tbody tr th {\n",
       "        vertical-align: top;\n",
       "    }\n",
       "\n",
       "    .dataframe thead th {\n",
       "        text-align: right;\n",
       "    }\n",
       "</style>\n",
       "<table border=\"1\" class=\"dataframe\">\n",
       "  <thead>\n",
       "    <tr style=\"text-align: right;\">\n",
       "      <th></th>\n",
       "      <th>Threshold</th>\n",
       "      <th>Precision</th>\n",
       "      <th>Recall</th>\n",
       "      <th>F1-score</th>\n",
       "    </tr>\n",
       "  </thead>\n",
       "  <tbody>\n",
       "    <tr>\n",
       "      <th>LogisticRegression</th>\n",
       "      <td>0.545164</td>\n",
       "      <td>0.410539</td>\n",
       "      <td>0.658153</td>\n",
       "      <td>0.505660</td>\n",
       "    </tr>\n",
       "    <tr>\n",
       "      <th>GradientBoostingClassifier</th>\n",
       "      <td>0.275359</td>\n",
       "      <td>0.590991</td>\n",
       "      <td>0.644401</td>\n",
       "      <td>0.616541</td>\n",
       "    </tr>\n",
       "  </tbody>\n",
       "</table>\n",
       "</div>"
      ],
      "text/plain": [
       "                            Threshold  Precision    Recall  F1-score\n",
       "LogisticRegression           0.545164   0.410539  0.658153  0.505660\n",
       "GradientBoostingClassifier   0.275359   0.590991  0.644401  0.616541"
      ]
     },
     "execution_count": 30,
     "metadata": {},
     "output_type": "execute_result"
    }
   ],
   "source": [
    "list_precision, list_recall, list_threshold = precision_recall_curve(y_test, y_preds)\n",
    "\n",
    "list_f1_score = 2 * (list_precision * list_recall) / (list_precision + list_recall)\n",
    "index_best = np.argmax(list_f1_score)\n",
    "\n",
    "df_metrics.loc['GradientBoostingClassifier', :] = [\n",
    "    list_threshold[index_best],\n",
    "    list_precision[index_best],\n",
    "    list_recall[index_best],\n",
    "    list_f1_score[index_best]\n",
    "]\n",
    "\n",
    "df_metrics"
   ]
  },
  {
   "cell_type": "markdown",
   "id": "07b91293",
   "metadata": {},
   "source": [
    "## 2. Отобрать лучшую модель по метрикам (кстати, какая по вашему мнению здесь наиболее подходящая DS-метрика)"
   ]
  },
  {
   "cell_type": "markdown",
   "id": "a65b3312",
   "metadata": {},
   "source": [
    "##### Приоритет метрик данной задачи может меняться в зависимости от поставленных целей.\n",
    "##### В случае наличия достаточных средств на удержание клиентов необходимо максимизировать метрику \"Recall\". Данный подход позволит выявить максимальное количество клиентов, склонных к оттоку. Пострадает метрика \"Precision\" из-за чего часть средств будет потрачена на клиентов ложно классифицированных как склонных к оттоку. Однако в целом потеря клиентов будет минимизирована.\n",
    "##### Если средства на удержание клиентов ограничены, то необходимо максимизировать метрику \"Precision\", при неком фиксированном значении метрики \"Recall\". Это позволит с большей вероятностью выявить клиентов действительно склонных к оттоку, однако будет охвачена меньшая доля таких клиентов. Таким образом, средства на удержание клиентов будут потрачены именно на склонных к оттоку клиентов.\n",
    "\n",
    "##### Модель \"GradientBoostingClassifier\" демонстрирует значительно лучшие метрики качества \"Precision\" и \"F1-score\" и лишь немного уступает в качестве метрики \"Recall\" моделе \"LogisticRegression\". Таким образом, модель \"GradientBoostingClassifier\" более предпочтительна, так в целом более точна."
   ]
  },
  {
   "cell_type": "markdown",
   "id": "51171dc1",
   "metadata": {},
   "source": [
    "## 3. Для отобранной модели (на отложенной выборке) сделать оценку экономической эффективности при тех же вводных, как в вопросе 2 (1 доллар на привлечение, 2 доллара - с каждого правильно классифицированного (True Positive) удержанного). (подсказка) нужно посчитать FP/TP/FN/TN для выбранного оптимального порога вероятности и посчитать выручку и траты."
   ]
  },
  {
   "cell_type": "markdown",
   "id": "9fde50af",
   "metadata": {},
   "source": [
    "##### Используя лучший порог получим метки классов для каждого объекта."
   ]
  },
  {
   "cell_type": "code",
   "execution_count": 31,
   "id": "fa32f12d",
   "metadata": {
    "scrolled": true
   },
   "outputs": [
    {
     "name": "stdout",
     "output_type": "stream",
     "text": [
      "              precision    recall  f1-score   support\n",
      "\n",
      "           0       0.91      0.89      0.90      1991\n",
      "           1       0.59      0.64      0.62       509\n",
      "\n",
      "    accuracy                           0.84      2500\n",
      "   macro avg       0.75      0.76      0.76      2500\n",
      "weighted avg       0.84      0.84      0.84      2500\n",
      "\n"
     ]
    }
   ],
   "source": [
    "y_pred_best = np.where(y_preds <= df_metrics.loc['GradientBoostingClassifier', 'Threshold'], 0, 1)\n",
    "print(classification_report(y_test, y_pred_best))"
   ]
  },
  {
   "cell_type": "markdown",
   "id": "4a615814",
   "metadata": {},
   "source": [
    "##### Используя метки построим матрицу заблуждений."
   ]
  },
  {
   "cell_type": "code",
   "execution_count": 32,
   "id": "5495ad50",
   "metadata": {},
   "outputs": [
    {
     "data": {
      "text/plain": [
       "<sklearn.metrics._plot.confusion_matrix.ConfusionMatrixDisplay at 0x1d1d4e48bb0>"
      ]
     },
     "execution_count": 32,
     "metadata": {},
     "output_type": "execute_result"
    },
    {
     "data": {
      "image/png": "[encoded data removed]",
      "text/plain": [
       "<Figure size 720x720 with 2 Axes>"
      ]
     },
     "metadata": {
      "needs_background": "light"
     },
     "output_type": "display_data"
    }
   ],
   "source": [
    "fig, ax = plt.subplots(figsize=(10, 10))\n",
    "\n",
    "cm = confusion_matrix(y_test, y_pred_best)\n",
    "cmd = ConfusionMatrixDisplay(cm)\n",
    "\n",
    "cmd.plot(ax=ax)"
   ]
  },
  {
   "cell_type": "markdown",
   "id": "ea4ea87a",
   "metadata": {},
   "source": [
    "##### Модель классифировала 554 клиента (TP + FP = 327 + 227 = 554), как склонных к оттоку. На удержание данных клиентов было потрачено: 554 * 1\\\\$ = 554\\\\$.\n",
    "##### В дейсвительности только 327 клиентов (TP = 327) были склонны к оттоку, которых удалось удержать. Данные клиенты принесли прибыль: 327 * 2\\\\$ = 654\\\\$.\n",
    "##### Выгода от применения модели составила: 654\\\\$ - 554\\\\$ = 100\\\\$.\n",
    "##### При этом ушло 182 клиента (FN = 182), что привело к упущенной выгоде: 182 * 2\\\\$ = 364\\\\$."
   ]
  },
  {
   "cell_type": "markdown",
   "id": "0911246f",
   "metadata": {},
   "source": [
    "## 4. (опционально) Провести подбор гиперпараметров лучшей модели по итогам 2-3"
   ]
  },
  {
   "cell_type": "markdown",
   "id": "1fc60fd3",
   "metadata": {},
   "source": [
    "##### Подбор гиперпараметров был изначально реализован."
   ]
  },
  {
   "cell_type": "markdown",
   "id": "0d49f5e1",
   "metadata": {},
   "source": [
    "## 5. (опционально) Еще раз провести оценку экономической эффективности"
   ]
  },
  {
   "cell_type": "markdown",
   "id": "09b86b65",
   "metadata": {},
   "source": [
    "##### Теперь проведём оценку экономической эффективности лучшей модели без настройки лучших гиперпараметров."
   ]
  },
  {
   "cell_type": "code",
   "execution_count": 33,
   "id": "04dba619",
   "metadata": {},
   "outputs": [],
   "source": [
    "pipeline_model_gbc = Pipeline([\n",
    "    ('feature_deletion', FeaturesDeletion(columns=list_features_deletion)),\n",
    "    ('features_preprocessing', FeatureUnion(list_pipelines_numerical + list_pipelines_categorical, n_jobs=-1)),\n",
    "    ('classifier', GradientBoostingClassifier(random_state=random_state_global))\n",
    "])"
   ]
  },
  {
   "cell_type": "code",
   "execution_count": 34,
   "id": "0634c515",
   "metadata": {},
   "outputs": [
    {
     "name": "stdout",
     "output_type": "stream",
     "text": [
      "Wall time: 737 ms\n"
     ]
    },
    {
     "data": {
      "text/plain": [
       "Pipeline(steps=[('feature_deletion',\n",
       "                 FeaturesDeletion(columns=['RowNumber', 'CustomerId',\n",
       "                                           'Surname'])),\n",
       "                ('features_preprocessing',\n",
       "                 FeatureUnion(n_jobs=-1,\n",
       "                              transformer_list=[('CreditScore',\n",
       "                                                 Pipeline(steps=[('selector_CreditScore',\n",
       "                                                                  NumericalFeatureSelector(column='CreditScore'))])),\n",
       "                                                ('Age',\n",
       "                                                 Pipeline(steps=[('selector_Age',\n",
       "                                                                  NumericalFeatureSelector(column='Age')...\n",
       "                                                 Pipeline(steps=[('selector_HasCrCard',\n",
       "                                                                  CategoricalFeatureSelector(column='HasCrCard')),\n",
       "                                                                 ('ohe_HasCrCard',\n",
       "                                                                  OneHotEncoder(key='HasCrCard'))])),\n",
       "                                                ('IsActiveMember',\n",
       "                                                 Pipeline(steps=[('selector_IsActiveMember',\n",
       "                                                                  CategoricalFeatureSelector(column='IsActiveMember')),\n",
       "                                                                 ('ohe_IsActiveMember',\n",
       "                                                                  OneHotEncoder(key='IsActiveMember'))]))])),\n",
       "                ('classifier', GradientBoostingClassifier(random_state=0))])"
      ]
     },
     "execution_count": 34,
     "metadata": {},
     "output_type": "execute_result"
    }
   ],
   "source": [
    "%%time\n",
    "\n",
    "pipeline_model_gbc.fit(X_train, y_train)"
   ]
  },
  {
   "cell_type": "code",
   "execution_count": 35,
   "id": "15742e81",
   "metadata": {},
   "outputs": [
    {
     "name": "stdout",
     "output_type": "stream",
     "text": [
      "Wall time: 34.9 ms\n"
     ]
    }
   ],
   "source": [
    "%%time\n",
    "\n",
    "y_preds = pipeline_model_gbc.predict_proba(X_test)[:, 1]"
   ]
  },
  {
   "cell_type": "code",
   "execution_count": 36,
   "id": "2930edb5",
   "metadata": {},
   "outputs": [
    {
     "data": {
      "text/html": [
       "<div>\n",
       "<style scoped>\n",
       "    .dataframe tbody tr th:only-of-type {\n",
       "        vertical-align: middle;\n",
       "    }\n",
       "\n",
       "    .dataframe tbody tr th {\n",
       "        vertical-align: top;\n",
       "    }\n",
       "\n",
       "    .dataframe thead th {\n",
       "        text-align: right;\n",
       "    }\n",
       "</style>\n",
       "<table border=\"1\" class=\"dataframe\">\n",
       "  <thead>\n",
       "    <tr style=\"text-align: right;\">\n",
       "      <th></th>\n",
       "      <th>Threshold</th>\n",
       "      <th>Precision</th>\n",
       "      <th>Recall</th>\n",
       "      <th>F1-score</th>\n",
       "    </tr>\n",
       "  </thead>\n",
       "  <tbody>\n",
       "    <tr>\n",
       "      <th>LogisticRegression</th>\n",
       "      <td>0.545164</td>\n",
       "      <td>0.410539</td>\n",
       "      <td>0.658153</td>\n",
       "      <td>0.505660</td>\n",
       "    </tr>\n",
       "    <tr>\n",
       "      <th>GradientBoostingClassifier</th>\n",
       "      <td>0.275359</td>\n",
       "      <td>0.590991</td>\n",
       "      <td>0.644401</td>\n",
       "      <td>0.616541</td>\n",
       "    </tr>\n",
       "    <tr>\n",
       "      <th>GradientBoostingClassifier_base</th>\n",
       "      <td>0.326575</td>\n",
       "      <td>0.650215</td>\n",
       "      <td>0.595285</td>\n",
       "      <td>0.621538</td>\n",
       "    </tr>\n",
       "  </tbody>\n",
       "</table>\n",
       "</div>"
      ],
      "text/plain": [
       "                                 Threshold  Precision    Recall  F1-score\n",
       "LogisticRegression                0.545164   0.410539  0.658153  0.505660\n",
       "GradientBoostingClassifier        0.275359   0.590991  0.644401  0.616541\n",
       "GradientBoostingClassifier_base   0.326575   0.650215  0.595285  0.621538"
      ]
     },
     "execution_count": 36,
     "metadata": {},
     "output_type": "execute_result"
    }
   ],
   "source": [
    "list_precision, list_recall, list_threshold = precision_recall_curve(y_test, y_preds)\n",
    "\n",
    "list_f1_score = 2 * (list_precision * list_recall) / (list_precision + list_recall)\n",
    "index_best = np.argmax(list_f1_score)\n",
    "\n",
    "df_metrics.loc['GradientBoostingClassifier_base', :] = [\n",
    "    list_threshold[index_best],\n",
    "    list_precision[index_best],\n",
    "    list_recall[index_best],\n",
    "    list_f1_score[index_best]\n",
    "]\n",
    "\n",
    "df_metrics"
   ]
  },
  {
   "cell_type": "code",
   "execution_count": 37,
   "id": "82dd7097",
   "metadata": {},
   "outputs": [
    {
     "name": "stdout",
     "output_type": "stream",
     "text": [
      "              precision    recall  f1-score   support\n",
      "\n",
      "           0       0.90      0.92      0.91      1991\n",
      "           1       0.65      0.59      0.62       509\n",
      "\n",
      "    accuracy                           0.85      2500\n",
      "   macro avg       0.77      0.76      0.76      2500\n",
      "weighted avg       0.85      0.85      0.85      2500\n",
      "\n"
     ]
    }
   ],
   "source": [
    "y_pred_best = np.where(y_preds <= df_metrics.loc['GradientBoostingClassifier_base', 'Threshold'], 0, 1)\n",
    "print(classification_report(y_test, y_pred_best))"
   ]
  },
  {
   "cell_type": "code",
   "execution_count": 38,
   "id": "a6e02645",
   "metadata": {
    "scrolled": false
   },
   "outputs": [
    {
     "data": {
      "text/plain": [
       "<sklearn.metrics._plot.confusion_matrix.ConfusionMatrixDisplay at 0x1d1d5051f10>"
      ]
     },
     "execution_count": 38,
     "metadata": {},
     "output_type": "execute_result"
    },
    {
     "data": {
      "image/png": "[encoded data removed]",
      "text/plain": [
       "<Figure size 720x720 with 2 Axes>"
      ]
     },
     "metadata": {
      "needs_background": "light"
     },
     "output_type": "display_data"
    }
   ],
   "source": [
    "fig, ax = plt.subplots(figsize=(10, 10))\n",
    "\n",
    "cm = confusion_matrix(y_test, y_pred_best)\n",
    "cmd = ConfusionMatrixDisplay(cm)\n",
    "\n",
    "cmd.plot(ax=ax)"
   ]
  },
  {
   "cell_type": "markdown",
   "id": "1adab483",
   "metadata": {},
   "source": [
    "##### Модель классифировала 465 клиентов (TP + FP = 302 + 163 = 465), как склонных к оттоку. На удержание данных клиентов было потрачено: 465 * 1\\\\$ = 465\\\\$.\n",
    "##### В дейсвительности только 302 клиента (TP = 302) были склонны к оттоку, которых удалось удержать. Данные клиенты принесли прибыль: 302 * 2\\\\$ = 604\\\\$.\n",
    "##### Выгода от применения модели составила: 604\\\\$ - 465\\\\$ = 139\\\\$.\n",
    "##### При этом ушло 207 клиентов (FN = 207), что привело к упущенной выгоде: 207 * 2\\\\$ = 414\\\\$."
   ]
  },
  {
   "cell_type": "markdown",
   "id": "4d9d5d28",
   "metadata": {},
   "source": [
    "### Сравнение моделей"
   ]
  },
  {
   "cell_type": "markdown",
   "id": "21da89fe",
   "metadata": {},
   "source": [
    "##### Настроенная модель принесла 100\\\\$ чистой прибыли и 364\\\\$ упущенной прибыли.\n",
    "##### Базовая модель принесла 139\\\\$ чистой прибыли и 414\\\\$ упущенной прибыли.\n",
    "##### Таким образом, настроенная модель принесла на 39\\\\$ меньше чистой прибыли, но при этом смогла уменьшить упущенную прибыль на 50\\\\$, что даёт суммарный выйгрыш от её применения в 11\\\\$ в сравнении с базовой моделью."
   ]
  },
  {
   "cell_type": "code",
   "execution_count": null,
   "id": "3bec069d",
   "metadata": {},
   "outputs": [],
   "source": []
  }
 ],
 "metadata": {
  "kernelspec": {
   "display_name": "Python 3 (ipykernel)",
   "language": "python",
   "name": "python3"
  },
  "language_info": {
   "codemirror_mode": {
    "name": "ipython",
    "version": 3
   },
   "file_extension": ".py",
   "mimetype": "text/x-python",
   "name": "python",
   "nbconvert_exporter": "python",
   "pygments_lexer": "ipython3",
   "version": "3.9.4"
  }
 },
 "nbformat": 4,
 "nbformat_minor": 5
}
