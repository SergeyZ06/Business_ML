{
 "cells": [
  {
   "cell_type": "markdown",
   "id": "7bed23fc",
   "metadata": {},
   "source": [
    "# 3th_homework"
   ]
  },
  {
   "cell_type": "markdown",
   "id": "307e6d53",
   "metadata": {},
   "source": [
    "### Import Section"
   ]
  },
  {
   "cell_type": "code",
   "execution_count": 1,
   "id": "24fa0fcf",
   "metadata": {},
   "outputs": [],
   "source": [
    "import numpy as np\n",
    "import pandas as pd\n",
    "\n",
    "from sklearn.base import BaseEstimator\n",
    "from sklearn.base import TransformerMixin\n",
    "\n",
    "from sklearn.pipeline import Pipeline\n",
    "from sklearn.pipeline import FeatureUnion\n",
    "\n",
    "from sklearn.preprocessing import StandardScaler\n",
    "from sklearn.preprocessing import OneHotEncoder\n",
    "from sklearn.preprocessing import FunctionTransformer\n",
    "\n",
    "from sklearn.linear_model import LogisticRegression\n",
    "\n",
    "from sklearn.ensemble import GradientBoostingRegressor\n",
    "from sklearn.ensemble import RandomForestRegressor\n",
    "\n",
    "from sklearn.model_selection import cross_val_score\n",
    "from sklearn.model_selection import train_test_split\n",
    "\n",
    "from sklearn.metrics import precision_recall_curve"
   ]
  },
  {
   "cell_type": "markdown",
   "id": "909695bb",
   "metadata": {},
   "source": [
    "### Global Settings Section"
   ]
  },
  {
   "cell_type": "code",
   "execution_count": 2,
   "id": "cfc3f915",
   "metadata": {},
   "outputs": [],
   "source": [
    "random_state_global = 0"
   ]
  },
  {
   "cell_type": "markdown",
   "id": "a6b72698",
   "metadata": {},
   "source": [
    "## 1. обучить несколько разных моделей на наборе данных ССЗ (train_case2.csv): логрег, бустинг, лес и т.д - на ваш выбор 2-3 варианта"
   ]
  },
  {
   "cell_type": "code",
   "execution_count": 3,
   "id": "869436b2",
   "metadata": {},
   "outputs": [],
   "source": [
    "df_data = pd.read_csv('train_case2.csv', sep=';')"
   ]
  },
  {
   "cell_type": "code",
   "execution_count": 4,
   "id": "d63c6d38",
   "metadata": {},
   "outputs": [
    {
     "data": {
      "text/html": [
       "<div>\n",
       "<style scoped>\n",
       "    .dataframe tbody tr th:only-of-type {\n",
       "        vertical-align: middle;\n",
       "    }\n",
       "\n",
       "    .dataframe tbody tr th {\n",
       "        vertical-align: top;\n",
       "    }\n",
       "\n",
       "    .dataframe thead th {\n",
       "        text-align: right;\n",
       "    }\n",
       "</style>\n",
       "<table border=\"1\" class=\"dataframe\">\n",
       "  <thead>\n",
       "    <tr style=\"text-align: right;\">\n",
       "      <th></th>\n",
       "      <th>id</th>\n",
       "      <th>age</th>\n",
       "      <th>gender</th>\n",
       "      <th>height</th>\n",
       "      <th>weight</th>\n",
       "      <th>ap_hi</th>\n",
       "      <th>ap_lo</th>\n",
       "      <th>cholesterol</th>\n",
       "      <th>gluc</th>\n",
       "      <th>smoke</th>\n",
       "      <th>alco</th>\n",
       "      <th>active</th>\n",
       "      <th>cardio</th>\n",
       "    </tr>\n",
       "  </thead>\n",
       "  <tbody>\n",
       "    <tr>\n",
       "      <th>0</th>\n",
       "      <td>0</td>\n",
       "      <td>18393</td>\n",
       "      <td>2</td>\n",
       "      <td>168</td>\n",
       "      <td>62.0</td>\n",
       "      <td>110</td>\n",
       "      <td>80</td>\n",
       "      <td>1</td>\n",
       "      <td>1</td>\n",
       "      <td>0</td>\n",
       "      <td>0</td>\n",
       "      <td>1</td>\n",
       "      <td>0</td>\n",
       "    </tr>\n",
       "    <tr>\n",
       "      <th>1</th>\n",
       "      <td>1</td>\n",
       "      <td>20228</td>\n",
       "      <td>1</td>\n",
       "      <td>156</td>\n",
       "      <td>85.0</td>\n",
       "      <td>140</td>\n",
       "      <td>90</td>\n",
       "      <td>3</td>\n",
       "      <td>1</td>\n",
       "      <td>0</td>\n",
       "      <td>0</td>\n",
       "      <td>1</td>\n",
       "      <td>1</td>\n",
       "    </tr>\n",
       "    <tr>\n",
       "      <th>2</th>\n",
       "      <td>2</td>\n",
       "      <td>18857</td>\n",
       "      <td>1</td>\n",
       "      <td>165</td>\n",
       "      <td>64.0</td>\n",
       "      <td>130</td>\n",
       "      <td>70</td>\n",
       "      <td>3</td>\n",
       "      <td>1</td>\n",
       "      <td>0</td>\n",
       "      <td>0</td>\n",
       "      <td>0</td>\n",
       "      <td>1</td>\n",
       "    </tr>\n",
       "    <tr>\n",
       "      <th>3</th>\n",
       "      <td>3</td>\n",
       "      <td>17623</td>\n",
       "      <td>2</td>\n",
       "      <td>169</td>\n",
       "      <td>82.0</td>\n",
       "      <td>150</td>\n",
       "      <td>100</td>\n",
       "      <td>1</td>\n",
       "      <td>1</td>\n",
       "      <td>0</td>\n",
       "      <td>0</td>\n",
       "      <td>1</td>\n",
       "      <td>1</td>\n",
       "    </tr>\n",
       "    <tr>\n",
       "      <th>4</th>\n",
       "      <td>4</td>\n",
       "      <td>17474</td>\n",
       "      <td>1</td>\n",
       "      <td>156</td>\n",
       "      <td>56.0</td>\n",
       "      <td>100</td>\n",
       "      <td>60</td>\n",
       "      <td>1</td>\n",
       "      <td>1</td>\n",
       "      <td>0</td>\n",
       "      <td>0</td>\n",
       "      <td>0</td>\n",
       "      <td>0</td>\n",
       "    </tr>\n",
       "  </tbody>\n",
       "</table>\n",
       "</div>"
      ],
      "text/plain": [
       "   id    age  gender  height  weight  ap_hi  ap_lo  cholesterol  gluc  smoke  \\\n",
       "0   0  18393       2     168    62.0    110     80            1     1      0   \n",
       "1   1  20228       1     156    85.0    140     90            3     1      0   \n",
       "2   2  18857       1     165    64.0    130     70            3     1      0   \n",
       "3   3  17623       2     169    82.0    150    100            1     1      0   \n",
       "4   4  17474       1     156    56.0    100     60            1     1      0   \n",
       "\n",
       "   alco  active  cardio  \n",
       "0     0       1       0  \n",
       "1     0       1       1  \n",
       "2     0       0       1  \n",
       "3     0       1       1  \n",
       "4     0       0       0  "
      ]
     },
     "execution_count": 4,
     "metadata": {},
     "output_type": "execute_result"
    }
   ],
   "source": [
    "df_data.head()"
   ]
  },
  {
   "cell_type": "markdown",
   "id": "24bc86c7",
   "metadata": {},
   "source": [
    "##### Объявим классы для выбора и исключения признаков."
   ]
  },
  {
   "cell_type": "code",
   "execution_count": 5,
   "id": "df40600d",
   "metadata": {},
   "outputs": [],
   "source": [
    "class FeatureSelectorNumerical(BaseEstimator, TransformerMixin):\n",
    "    def __init__(self, column):\n",
    "        self.column = column\n",
    "    \n",
    "    def fit(self, X, y=None):\n",
    "        return self\n",
    "    \n",
    "    def transform(self, X, y=None):\n",
    "        return X[[self.column]]\n",
    "\n",
    "\n",
    "class FeatureSelectorCategorical(BaseEstimator, TransformerMixin):\n",
    "    def __init__(self, column):\n",
    "        self.column = column\n",
    "    \n",
    "    def fit(self, X, y=None):\n",
    "        return self\n",
    "    \n",
    "    def transform(self, X, y=None):\n",
    "        return X[self.column]\n",
    "\n",
    "\n",
    "class FeatureDeletion(BaseEstimator, TransformerMixin):\n",
    "    def __init__(self, column):\n",
    "        self.column = column\n",
    "    \n",
    "    def fit(self, X, y=None):\n",
    "        return self\n",
    "    \n",
    "    def transform(self, X, y=None):\n",
    "        return X.drop(columns=[self.column])\n",
    "\n",
    "\n",
    "class FeatureDropDuplicates(BaseEstimator, TransformerMixin):\n",
    "    def fit(self, X, y=None):\n",
    "        return self\n",
    "    \n",
    "    def transform(self, X, y=None):\n",
    "        return X.drop_duplicates()\n",
    "\n",
    "\n",
    "class OHEEncoder(BaseEstimator, TransformerMixin):\n",
    "    def __init__(self, key):\n",
    "        self.key = key\n",
    "        self.columns = []\n",
    "\n",
    "    def fit(self, X, y=None):\n",
    "        self.columns = [col for col in pd.get_dummies(X, prefix=self.key).columns]\n",
    "        return self\n",
    "\n",
    "    def transform(self, X):\n",
    "        X = pd.get_dummies(X, prefix=self.key)\n",
    "        test_columns = [col for col in X.columns]\n",
    "        for col_ in test_columns:\n",
    "            if col_ not in self.columns:\n",
    "                X[col_] = 0\n",
    "        return X[self.columns]"
   ]
  },
  {
   "cell_type": "markdown",
   "id": "a84bc399",
   "metadata": {},
   "source": [
    "### LogRess\n",
    "\n",
    "##### Выполним предобработку данных для логистической регрессии при помощи Pipeline.\n",
    "\n",
    "#### Списки признаков для предобработки."
   ]
  },
  {
   "cell_type": "code",
   "execution_count": 6,
   "id": "2280c69b",
   "metadata": {},
   "outputs": [],
   "source": [
    "list_features_numerical = ['age', 'height', 'weight', 'ap_hi', 'ap_lo']\n",
    "list_features_categorical = ['gender', 'cholesterol', 'gluc']\n",
    "list_features_deletion = ['id']\n",
    "\n",
    "list_columns = ['age', 'gender', 'height', 'weight', 'ap_hi', 'ap_lo',\n",
    "                'cholesterol', 'gluc', 'smoke', 'alco', 'active']"
   ]
  },
  {
   "cell_type": "markdown",
   "id": "ae0bac03",
   "metadata": {},
   "source": [
    "##### Реализуем Pipeline для преобработки данных."
   ]
  },
  {
   "cell_type": "code",
   "execution_count": 7,
   "id": "98b2be3c",
   "metadata": {},
   "outputs": [],
   "source": [
    "list_pipelines_numerical = []\n",
    "\n",
    "for feature in list_features_numerical:\n",
    "    pipeline_new = Pipeline([\n",
    "        (f'fsn_{feature}', FeatureSelectorNumerical(column=feature)),\n",
    "        (f'ss_{feature}', StandardScaler())\n",
    "    ])\n",
    "    \n",
    "    list_pipelines_numerical.append((feature, pipeline_new))\n",
    "\n",
    "\n",
    "list_pipelines_categorical = []\n",
    "\n",
    "for feature in list_features_categorical:\n",
    "    pipeline_new = Pipeline([\n",
    "        (f'fsc_{feature}', FeatureSelectorCategorical(column=feature)),\n",
    "        (f'ohe_{feature}', OHEEncoder(key=feature))\n",
    "    ])\n",
    "    \n",
    "    list_pipelines_categorical.append((feature, pipeline_new))\n",
    "\n",
    "\n",
    "list_pipelines_deletion = []\n",
    "\n",
    "for feature in list_features_deletion:\n",
    "    pipeline_new = Pipeline([\n",
    "        (f'deletion_{feature}', FeatureDeletion(feature))\n",
    "    ])\n",
    "    \n",
    "    list_pipelines_deletion.append((feature, pipeline_new))"
   ]
  },
  {
   "cell_type": "markdown",
   "id": "d030db53",
   "metadata": {},
   "source": [
    "##### Соберём Pipeline с моделью."
   ]
  },
  {
   "cell_type": "code",
   "execution_count": 8,
   "id": "0f77aa47",
   "metadata": {},
   "outputs": [],
   "source": [
    "# Не удалось полностью реализовать предобработку в Pipeline.\n",
    "\n",
    "pipeline_logress = Pipeline([\n",
    "#     ('feature_deletion', FeatureUnion(list_pipelines_deletion, n_jobs=-1)),\n",
    "#     ('make_dataframe', FunctionTransformer(lambda x: pd.DataFrame(data=x, columns=list_columns))),\n",
    "#     ('drop_duplicates', FeatureDropDuplicates()),\n",
    "    ('feature_preprocessing', FeatureUnion(list_pipelines_numerical + list_pipelines_categorical, n_jobs=-1)),\n",
    "    ('classifier', LogisticRegression(random_state=random_state_global))\n",
    "])"
   ]
  },
  {
   "cell_type": "code",
   "execution_count": 9,
   "id": "e1e08a53",
   "metadata": {},
   "outputs": [],
   "source": [
    "X = df_data.drop(columns=['id']).copy()\n",
    "X = X.drop_duplicates()\n",
    "y = X['cardio']\n",
    "X = X.drop(columns=['cardio'])\n",
    "\n",
    "X_train, X_test, y_train, y_test = train_test_split(X, y, random_state=random_state_global, stratify=y)"
   ]
  },
  {
   "cell_type": "markdown",
   "id": "a41a3839",
   "metadata": {},
   "source": [
    "## 2. при обучении моделей обязательно использовать кроссвалидацию"
   ]
  },
  {
   "cell_type": "code",
   "execution_count": 10,
   "id": "974804f4",
   "metadata": {
    "scrolled": false
   },
   "outputs": [
    {
     "name": "stdout",
     "output_type": "stream",
     "text": [
      "Wall time: 4.67 s\n"
     ]
    }
   ],
   "source": [
    "%%time\n",
    "\n",
    "cv_scores = cross_val_score(pipeline_logress, X_train, y_train, cv=16, scoring='roc_auc')"
   ]
  },
  {
   "cell_type": "code",
   "execution_count": 11,
   "id": "063a81ba",
   "metadata": {
    "scrolled": true
   },
   "outputs": [
    {
     "data": {
      "text/plain": [
       "(array([0.77922668, 0.78064944, 0.77237693, 0.79051718, 0.77935046,\n",
       "        0.7945058 , 0.78253041, 0.77534606, 0.78877372, 0.77210729,\n",
       "        0.78546988, 0.78903324, 0.78273862, 0.77514901, 0.79289942,\n",
       "        0.77023229]),\n",
       " 0.7819316513597405)"
      ]
     },
     "execution_count": 11,
     "metadata": {},
     "output_type": "execute_result"
    }
   ],
   "source": [
    "cv_scores, cv_scores.mean()"
   ]
  },
  {
   "cell_type": "markdown",
   "id": "4b0ecf68",
   "metadata": {},
   "source": [
    "## 3. вывести сравнение полученных моделей по основным метрикам классификации: pr/rec/auc/f_score (можно в виде таблицы, где строки - модели, а столбцы - метрики)"
   ]
  },
  {
   "cell_type": "code",
   "execution_count": 12,
   "id": "fe9ab0e9",
   "metadata": {},
   "outputs": [],
   "source": [
    "pipeline_logress.fit(X_train, y_train)\n",
    "y_pred = pipeline_logress.predict_proba(X_test)[:, 1]"
   ]
  },
  {
   "cell_type": "code",
   "execution_count": 13,
   "id": "fa9a29d1",
   "metadata": {},
   "outputs": [
    {
     "name": "stdout",
     "output_type": "stream",
     "text": [
      "Best Threshold=0.405346, F-Score=0.735, Precision=0.664, Recall=0.822\n"
     ]
    }
   ],
   "source": [
    "b=1\n",
    "precision, recall, thresholds = precision_recall_curve(y_test.values, y_pred)\n",
    "fscore = (1+b**2)*(precision * recall) / (b**2*precision + recall)\n",
    "# locate the index of the largest f score\n",
    "ix = np.argmax(fscore)\n",
    "print('Best Threshold=%f, F-Score=%.3f, Precision=%.3f, Recall=%.3f' % (thresholds[ix], \n",
    "                                                                        fscore[ix],\n",
    "                                                                        precision[ix],\n",
    "                                                                        recall[ix]))"
   ]
  },
  {
   "cell_type": "code",
   "execution_count": 14,
   "id": "dab85c4a",
   "metadata": {
    "scrolled": true
   },
   "outputs": [
    {
     "data": {
      "text/html": [
       "<div>\n",
       "<style scoped>\n",
       "    .dataframe tbody tr th:only-of-type {\n",
       "        vertical-align: middle;\n",
       "    }\n",
       "\n",
       "    .dataframe tbody tr th {\n",
       "        vertical-align: top;\n",
       "    }\n",
       "\n",
       "    .dataframe thead th {\n",
       "        text-align: right;\n",
       "    }\n",
       "</style>\n",
       "<table border=\"1\" class=\"dataframe\">\n",
       "  <thead>\n",
       "    <tr style=\"text-align: right;\">\n",
       "      <th></th>\n",
       "      <th>threshold</th>\n",
       "      <th>f-score</th>\n",
       "      <th>precision</th>\n",
       "      <th>recall</th>\n",
       "    </tr>\n",
       "  </thead>\n",
       "  <tbody>\n",
       "    <tr>\n",
       "      <th>LogisticRegression</th>\n",
       "      <td>0.405346</td>\n",
       "      <td>0.734535</td>\n",
       "      <td>0.663651</td>\n",
       "      <td>0.822372</td>\n",
       "    </tr>\n",
       "  </tbody>\n",
       "</table>\n",
       "</div>"
      ],
      "text/plain": [
       "                    threshold   f-score  precision    recall\n",
       "LogisticRegression   0.405346  0.734535   0.663651  0.822372"
      ]
     },
     "execution_count": 14,
     "metadata": {},
     "output_type": "execute_result"
    }
   ],
   "source": [
    "columns = ['threshold', 'f-score', 'precision', 'recall']\n",
    "\n",
    "metrics = pd.DataFrame(data=[[thresholds[ix], fscore[ix], precision[ix], recall[ix]]], columns=columns,\n",
    "                       index=['LogisticRegression'])\n",
    "\n",
    "metrics"
   ]
  },
  {
   "cell_type": "markdown",
   "id": "ba52c3bd",
   "metadata": {},
   "source": [
    "### GradientBoostingRegressor\n",
    "\n",
    "##### Далее выполним аналогичные шаги для модели градиентного бустинга. За исключением предобработки данных, для деревьев решений кодирование и масштаирование признаков не требуется."
   ]
  },
  {
   "cell_type": "code",
   "execution_count": 15,
   "id": "ede95260",
   "metadata": {},
   "outputs": [],
   "source": [
    "pipeline_boost = Pipeline([\n",
    "    ('classifier', GradientBoostingRegressor(random_state=random_state_global))\n",
    "])"
   ]
  },
  {
   "cell_type": "code",
   "execution_count": 16,
   "id": "7f7803ef",
   "metadata": {},
   "outputs": [
    {
     "name": "stdout",
     "output_type": "stream",
     "text": [
      "Wall time: 40.6 s\n"
     ]
    }
   ],
   "source": [
    "%%time\n",
    "\n",
    "cv_scores = cross_val_score(pipeline_boost, X_train, y_train, cv=16, scoring='roc_auc')"
   ]
  },
  {
   "cell_type": "code",
   "execution_count": 17,
   "id": "33dc6e47",
   "metadata": {},
   "outputs": [
    {
     "data": {
      "text/plain": [
       "(array([0.79525791, 0.79975851, 0.79796944, 0.80801692, 0.80425838,\n",
       "        0.80848694, 0.79839101, 0.79294086, 0.80934276, 0.79499898,\n",
       "        0.80899952, 0.81119558, 0.80816203, 0.78997191, 0.81455383,\n",
       "        0.79443133]),\n",
       " 0.8022959926591968)"
      ]
     },
     "execution_count": 17,
     "metadata": {},
     "output_type": "execute_result"
    }
   ],
   "source": [
    "cv_scores, cv_scores.mean()"
   ]
  },
  {
   "cell_type": "code",
   "execution_count": 18,
   "id": "0a031233",
   "metadata": {},
   "outputs": [],
   "source": [
    "pipeline_boost.fit(X_train, y_train)\n",
    "y_pred = pipeline_boost.predict(X_test)"
   ]
  },
  {
   "cell_type": "code",
   "execution_count": 19,
   "id": "382e7a14",
   "metadata": {},
   "outputs": [
    {
     "name": "stdout",
     "output_type": "stream",
     "text": [
      "Best Threshold=0.386459, F-Score=0.745, Precision=0.697, Recall=0.799\n"
     ]
    }
   ],
   "source": [
    "b=1\n",
    "precision, recall, thresholds = precision_recall_curve(y_test.values, y_pred)\n",
    "fscore = (1+b**2)*(precision * recall) / (b**2*precision + recall)\n",
    "# locate the index of the largest f score\n",
    "ix = np.argmax(fscore)\n",
    "print('Best Threshold=%f, F-Score=%.3f, Precision=%.3f, Recall=%.3f' % (thresholds[ix], \n",
    "                                                                        fscore[ix],\n",
    "                                                                        precision[ix],\n",
    "                                                                        recall[ix]))"
   ]
  },
  {
   "cell_type": "code",
   "execution_count": 20,
   "id": "d16ee332",
   "metadata": {
    "scrolled": true
   },
   "outputs": [
    {
     "data": {
      "text/html": [
       "<div>\n",
       "<style scoped>\n",
       "    .dataframe tbody tr th:only-of-type {\n",
       "        vertical-align: middle;\n",
       "    }\n",
       "\n",
       "    .dataframe tbody tr th {\n",
       "        vertical-align: top;\n",
       "    }\n",
       "\n",
       "    .dataframe thead th {\n",
       "        text-align: right;\n",
       "    }\n",
       "</style>\n",
       "<table border=\"1\" class=\"dataframe\">\n",
       "  <thead>\n",
       "    <tr style=\"text-align: right;\">\n",
       "      <th></th>\n",
       "      <th>threshold</th>\n",
       "      <th>f-score</th>\n",
       "      <th>precision</th>\n",
       "      <th>recall</th>\n",
       "    </tr>\n",
       "  </thead>\n",
       "  <tbody>\n",
       "    <tr>\n",
       "      <th>LogisticRegression</th>\n",
       "      <td>0.405346</td>\n",
       "      <td>0.734535</td>\n",
       "      <td>0.663651</td>\n",
       "      <td>0.822372</td>\n",
       "    </tr>\n",
       "    <tr>\n",
       "      <th>GradientBoostingRegressor</th>\n",
       "      <td>0.386459</td>\n",
       "      <td>0.744736</td>\n",
       "      <td>0.697345</td>\n",
       "      <td>0.799039</td>\n",
       "    </tr>\n",
       "  </tbody>\n",
       "</table>\n",
       "</div>"
      ],
      "text/plain": [
       "                           threshold   f-score  precision    recall\n",
       "LogisticRegression          0.405346  0.734535   0.663651  0.822372\n",
       "GradientBoostingRegressor   0.386459  0.744736   0.697345  0.799039"
      ]
     },
     "execution_count": 20,
     "metadata": {},
     "output_type": "execute_result"
    }
   ],
   "source": [
    "metrics.loc['GradientBoostingRegressor', :] = [thresholds[ix], fscore[ix], precision[ix], recall[ix]]\n",
    "\n",
    "metrics"
   ]
  },
  {
   "cell_type": "markdown",
   "id": "bf9dedd5",
   "metadata": {},
   "source": [
    "### RandomForestRegressor"
   ]
  },
  {
   "cell_type": "code",
   "execution_count": 21,
   "id": "b6d75086",
   "metadata": {},
   "outputs": [],
   "source": [
    "pipeline_random_forest = Pipeline([\n",
    "    ('classifier', RandomForestRegressor(random_state=random_state_global))\n",
    "])"
   ]
  },
  {
   "cell_type": "code",
   "execution_count": 22,
   "id": "b1f7257f",
   "metadata": {},
   "outputs": [
    {
     "name": "stdout",
     "output_type": "stream",
     "text": [
      "Wall time: 2min 39s\n"
     ]
    }
   ],
   "source": [
    "%%time\n",
    "\n",
    "cv_scores = cross_val_score(pipeline_random_forest, X_train, y_train, cv=16, scoring='roc_auc')"
   ]
  },
  {
   "cell_type": "code",
   "execution_count": 23,
   "id": "e1bf4032",
   "metadata": {},
   "outputs": [
    {
     "data": {
      "text/plain": [
       "(array([0.76304935, 0.75932099, 0.76165631, 0.77723148, 0.77269331,\n",
       "        0.77072662, 0.758274  , 0.76504933, 0.77966566, 0.76027734,\n",
       "        0.78281079, 0.77776247, 0.77317247, 0.75636107, 0.77548068,\n",
       "        0.7687696 ]),\n",
       " 0.768893841898583)"
      ]
     },
     "execution_count": 23,
     "metadata": {},
     "output_type": "execute_result"
    }
   ],
   "source": [
    "cv_scores, cv_scores.mean()"
   ]
  },
  {
   "cell_type": "code",
   "execution_count": 24,
   "id": "6b397f2e",
   "metadata": {},
   "outputs": [],
   "source": [
    "pipeline_random_forest.fit(X_train, y_train)\n",
    "y_pred = pipeline_random_forest.predict(X_test)"
   ]
  },
  {
   "cell_type": "code",
   "execution_count": 25,
   "id": "5e6b6078",
   "metadata": {},
   "outputs": [
    {
     "name": "stdout",
     "output_type": "stream",
     "text": [
      "Best Threshold=0.400000, F-Score=0.717, Precision=0.663, Recall=0.781\n"
     ]
    }
   ],
   "source": [
    "b=1\n",
    "precision, recall, thresholds = precision_recall_curve(y_test.values, y_pred)\n",
    "fscore = (1+b**2)*(precision * recall) / (b**2*precision + recall)\n",
    "# locate the index of the largest f score\n",
    "ix = np.argmax(fscore)\n",
    "print('Best Threshold=%f, F-Score=%.3f, Precision=%.3f, Recall=%.3f' % (thresholds[ix], \n",
    "                                                                        fscore[ix],\n",
    "                                                                        precision[ix],\n",
    "                                                                        recall[ix]))"
   ]
  },
  {
   "cell_type": "code",
   "execution_count": 26,
   "id": "3c9d8f48",
   "metadata": {},
   "outputs": [
    {
     "data": {
      "text/html": [
       "<div>\n",
       "<style scoped>\n",
       "    .dataframe tbody tr th:only-of-type {\n",
       "        vertical-align: middle;\n",
       "    }\n",
       "\n",
       "    .dataframe tbody tr th {\n",
       "        vertical-align: top;\n",
       "    }\n",
       "\n",
       "    .dataframe thead th {\n",
       "        text-align: right;\n",
       "    }\n",
       "</style>\n",
       "<table border=\"1\" class=\"dataframe\">\n",
       "  <thead>\n",
       "    <tr style=\"text-align: right;\">\n",
       "      <th></th>\n",
       "      <th>threshold</th>\n",
       "      <th>f-score</th>\n",
       "      <th>precision</th>\n",
       "      <th>recall</th>\n",
       "    </tr>\n",
       "  </thead>\n",
       "  <tbody>\n",
       "    <tr>\n",
       "      <th>LogisticRegression</th>\n",
       "      <td>0.405346</td>\n",
       "      <td>0.734535</td>\n",
       "      <td>0.663651</td>\n",
       "      <td>0.822372</td>\n",
       "    </tr>\n",
       "    <tr>\n",
       "      <th>GradientBoostingRegressor</th>\n",
       "      <td>0.386459</td>\n",
       "      <td>0.744736</td>\n",
       "      <td>0.697345</td>\n",
       "      <td>0.799039</td>\n",
       "    </tr>\n",
       "    <tr>\n",
       "      <th>RandomForestRegressor</th>\n",
       "      <td>0.400000</td>\n",
       "      <td>0.717265</td>\n",
       "      <td>0.663170</td>\n",
       "      <td>0.780968</td>\n",
       "    </tr>\n",
       "  </tbody>\n",
       "</table>\n",
       "</div>"
      ],
      "text/plain": [
       "                           threshold   f-score  precision    recall\n",
       "LogisticRegression          0.405346  0.734535   0.663651  0.822372\n",
       "GradientBoostingRegressor   0.386459  0.744736   0.697345  0.799039\n",
       "RandomForestRegressor       0.400000  0.717265   0.663170  0.780968"
      ]
     },
     "execution_count": 26,
     "metadata": {},
     "output_type": "execute_result"
    }
   ],
   "source": [
    "metrics.loc['RandomForestRegressor', :] = [thresholds[ix], fscore[ix], precision[ix], recall[ix]]\n",
    "\n",
    "metrics"
   ]
  },
  {
   "cell_type": "markdown",
   "id": "1b11e777",
   "metadata": {},
   "source": [
    "## 4. сделать выводы о том, какая модель справилась с задачей лучше других"
   ]
  },
  {
   "cell_type": "markdown",
   "id": "b2922776",
   "metadata": {},
   "source": [
    "##### Закономерно с задачей лучше справился самый мощный бустинговый алгоритм даже с настройками \"из коробки\". Метрики качества моделей могут быть улучшены путём подбора лучших гиперпараметров, но предположительно даже после тонкой настройки бустинг покажет наивысшую метрику.\n",
    "##### Логистическая регрессия показала чуть более худшую метрику \"F-score\", однако разрыв может увеличиться после настройки гиперпараметров, так как линейные модели не получают такого существенного преимущества как более сложные модели. Значительно повысить качество пронозирования может помочь регуляризация и полиномизация. Стоит также заметить, что линейная модель продемонстрировала лучшую Полноту (\"recall\") из всех моделей, так что возможно действительно есть смысл заниматься модернизацией этой простой модели."
   ]
  },
  {
   "cell_type": "markdown",
   "id": "68c07ac9",
   "metadata": {},
   "source": [
    "## 5. (опциональный вопрос) какая метрика (precision_recall_curve или roc_auc_curve) больше подходит в случае сильного дисбаланса классов? (когда объектов одного из классов намного больше чем другого)."
   ]
  },
  {
   "attachments": {},
   "cell_type": "markdown",
   "id": "7398ae73",
   "metadata": {},
   "source": [
    "##### Обе метрики наглядно покажут падение качества при пренебрежении наименьшим классом, однако \"precision_recall_curve\" сделает это лучше."
   ]
  },
  {
   "attachments": {
    "image.png": {
     "image/png": "[encoded data removed]"
    }
   },
   "cell_type": "markdown",
   "id": "b0a4e7b6",
   "metadata": {},
   "source": [
    "![image.png](attachment:image.png)"
   ]
  },
  {
   "attachments": {
    "image.png": {
     "image/png": "[encoded data removed]"
    }
   },
   "cell_type": "markdown",
   "id": "87377426",
   "metadata": {},
   "source": [
    "![image.png](attachment:image.png)"
   ]
  },
  {
   "cell_type": "markdown",
   "id": "4bf89afd",
   "metadata": {},
   "source": [
    "##### На последнем графике удобнее фиксировать одну из метрик для максимизации другой. Также лучше понятна зависимость метрик друг от друга: при увеличении \"recall\" падает \"precision\" и наоборот."
   ]
  },
  {
   "cell_type": "code",
   "execution_count": null,
   "id": "15e3c4fa",
   "metadata": {},
   "outputs": [],
   "source": []
  }
 ],
 "metadata": {
  "kernelspec": {
   "display_name": "Python 3 (ipykernel)",
   "language": "python",
   "name": "python3"
  },
  "language_info": {
   "codemirror_mode": {
    "name": "ipython",
    "version": 3
   },
   "file_extension": ".py",
   "mimetype": "text/x-python",
   "name": "python",
   "nbconvert_exporter": "python",
   "pygments_lexer": "ipython3",
   "version": "3.9.4"
  }
 },
 "nbformat": 4,
 "nbformat_minor": 5
}
