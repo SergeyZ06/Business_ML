{
 "cells": [
  {
   "cell_type": "markdown",
   "id": "a4a82acc",
   "metadata": {},
   "source": [
    "# 6th_homework"
   ]
  },
  {
   "cell_type": "markdown",
   "id": "84e02982",
   "metadata": {},
   "source": [
    "### Import Section"
   ]
  },
  {
   "cell_type": "code",
   "execution_count": 1,
   "id": "cef93937",
   "metadata": {},
   "outputs": [],
   "source": [
    "import numpy as np\n",
    "import pandas as pd\n",
    "\n",
    "from sklearn.model_selection import train_test_split\n",
    "\n",
    "from sklearn.tree import DecisionTreeClassifier\n",
    "\n",
    "from sklearn.metrics import classification_report\n",
    "from sklearn.metrics import precision_recall_curve"
   ]
  },
  {
   "cell_type": "markdown",
   "id": "6fde1e2b",
   "metadata": {},
   "source": [
    "### Global Settings Section"
   ]
  },
  {
   "cell_type": "code",
   "execution_count": 2,
   "id": "fd570ddb",
   "metadata": {},
   "outputs": [],
   "source": [
    "random_state_global = 0"
   ]
  },
  {
   "cell_type": "markdown",
   "id": "9b29a44d",
   "metadata": {},
   "source": [
    "## 1. взять любой набор данных для бинарной классификации (можно скачать один из модельных с https://archive.ics.uci.edu/ml/datasets.php)"
   ]
  },
  {
   "cell_type": "code",
   "execution_count": 3,
   "id": "25b90dab",
   "metadata": {},
   "outputs": [],
   "source": [
    "list_columns_name = [\n",
    "    'variance',\n",
    "    'skewness',\n",
    "    'curtosis',\n",
    "    'entropy',\n",
    "    'forgery'\n",
    "]\n",
    "\n",
    "df_data = pd.read_csv('data_banknote_authentication.txt', names=list_columns_name)"
   ]
  },
  {
   "cell_type": "code",
   "execution_count": 4,
   "id": "8c81f0be",
   "metadata": {},
   "outputs": [
    {
     "data": {
      "text/html": [
       "<div>\n",
       "<style scoped>\n",
       "    .dataframe tbody tr th:only-of-type {\n",
       "        vertical-align: middle;\n",
       "    }\n",
       "\n",
       "    .dataframe tbody tr th {\n",
       "        vertical-align: top;\n",
       "    }\n",
       "\n",
       "    .dataframe thead th {\n",
       "        text-align: right;\n",
       "    }\n",
       "</style>\n",
       "<table border=\"1\" class=\"dataframe\">\n",
       "  <thead>\n",
       "    <tr style=\"text-align: right;\">\n",
       "      <th></th>\n",
       "      <th>variance</th>\n",
       "      <th>skewness</th>\n",
       "      <th>curtosis</th>\n",
       "      <th>entropy</th>\n",
       "      <th>forgery</th>\n",
       "    </tr>\n",
       "  </thead>\n",
       "  <tbody>\n",
       "    <tr>\n",
       "      <th>0</th>\n",
       "      <td>3.62160</td>\n",
       "      <td>8.6661</td>\n",
       "      <td>-2.8073</td>\n",
       "      <td>-0.44699</td>\n",
       "      <td>0</td>\n",
       "    </tr>\n",
       "    <tr>\n",
       "      <th>1</th>\n",
       "      <td>4.54590</td>\n",
       "      <td>8.1674</td>\n",
       "      <td>-2.4586</td>\n",
       "      <td>-1.46210</td>\n",
       "      <td>0</td>\n",
       "    </tr>\n",
       "    <tr>\n",
       "      <th>2</th>\n",
       "      <td>3.86600</td>\n",
       "      <td>-2.6383</td>\n",
       "      <td>1.9242</td>\n",
       "      <td>0.10645</td>\n",
       "      <td>0</td>\n",
       "    </tr>\n",
       "    <tr>\n",
       "      <th>3</th>\n",
       "      <td>3.45660</td>\n",
       "      <td>9.5228</td>\n",
       "      <td>-4.0112</td>\n",
       "      <td>-3.59440</td>\n",
       "      <td>0</td>\n",
       "    </tr>\n",
       "    <tr>\n",
       "      <th>4</th>\n",
       "      <td>0.32924</td>\n",
       "      <td>-4.4552</td>\n",
       "      <td>4.5718</td>\n",
       "      <td>-0.98880</td>\n",
       "      <td>0</td>\n",
       "    </tr>\n",
       "  </tbody>\n",
       "</table>\n",
       "</div>"
      ],
      "text/plain": [
       "   variance  skewness  curtosis  entropy  forgery\n",
       "0   3.62160    8.6661   -2.8073 -0.44699        0\n",
       "1   4.54590    8.1674   -2.4586 -1.46210        0\n",
       "2   3.86600   -2.6383    1.9242  0.10645        0\n",
       "3   3.45660    9.5228   -4.0112 -3.59440        0\n",
       "4   0.32924   -4.4552    4.5718 -0.98880        0"
      ]
     },
     "execution_count": 4,
     "metadata": {},
     "output_type": "execute_result"
    }
   ],
   "source": [
    "df_data.head()"
   ]
  },
  {
   "cell_type": "markdown",
   "id": "41be4b6d",
   "metadata": {},
   "source": [
    "## 2. сделать feature engineering"
   ]
  },
  {
   "cell_type": "markdown",
   "id": "9e13f652",
   "metadata": {},
   "source": [
    "##### Для решения задачи планируется использовать деревья решений, поэтому предобработка не потребуется."
   ]
  },
  {
   "cell_type": "markdown",
   "id": "9950df02",
   "metadata": {},
   "source": [
    "## 3. обучить любой классификатор (какой вам нравится)"
   ]
  },
  {
   "cell_type": "code",
   "execution_count": 5,
   "id": "9f883290",
   "metadata": {},
   "outputs": [],
   "source": [
    "X_train, X_test, y_train, y_test = train_test_split(df_data.iloc[:, :-1], df_data.iloc[:, -1],\n",
    "                                                   test_size=0.5, random_state=random_state_global,\n",
    "                                                   shuffle=df_data.iloc[:, -1])"
   ]
  },
  {
   "cell_type": "code",
   "execution_count": 6,
   "id": "e7a2d1c0",
   "metadata": {},
   "outputs": [
    {
     "name": "stdout",
     "output_type": "stream",
     "text": [
      "              precision    recall  f1-score   support\n",
      "\n",
      "           0       0.97      0.98      0.98       385\n",
      "           1       0.98      0.96      0.97       301\n",
      "\n",
      "    accuracy                           0.97       686\n",
      "   macro avg       0.97      0.97      0.97       686\n",
      "weighted avg       0.97      0.97      0.97       686\n",
      "\n",
      "Wall time: 5.97 ms\n"
     ]
    }
   ],
   "source": [
    "%%time\n",
    "\n",
    "dtc = DecisionTreeClassifier(random_state=random_state_global)\n",
    "\n",
    "dtc.fit(X_train, y_train)\n",
    "\n",
    "y_pred = dtc.predict(X_test)\n",
    "\n",
    "print(classification_report(y_test, y_pred))"
   ]
  },
  {
   "cell_type": "code",
   "execution_count": 7,
   "id": "1fee9498",
   "metadata": {},
   "outputs": [
    {
     "data": {
      "text/html": [
       "<div>\n",
       "<style scoped>\n",
       "    .dataframe tbody tr th:only-of-type {\n",
       "        vertical-align: middle;\n",
       "    }\n",
       "\n",
       "    .dataframe tbody tr th {\n",
       "        vertical-align: top;\n",
       "    }\n",
       "\n",
       "    .dataframe thead th {\n",
       "        text-align: right;\n",
       "    }\n",
       "</style>\n",
       "<table border=\"1\" class=\"dataframe\">\n",
       "  <thead>\n",
       "    <tr style=\"text-align: right;\">\n",
       "      <th></th>\n",
       "      <th>threshold</th>\n",
       "      <th>precision</th>\n",
       "      <th>recall</th>\n",
       "      <th>f1-score</th>\n",
       "    </tr>\n",
       "  </thead>\n",
       "  <tbody>\n",
       "    <tr>\n",
       "      <th>Base</th>\n",
       "      <td>1.0</td>\n",
       "      <td>0.976351</td>\n",
       "      <td>0.960133</td>\n",
       "      <td>0.968174</td>\n",
       "    </tr>\n",
       "  </tbody>\n",
       "</table>\n",
       "</div>"
      ],
      "text/plain": [
       "      threshold  precision    recall  f1-score\n",
       "Base        1.0   0.976351  0.960133  0.968174"
      ]
     },
     "execution_count": 7,
     "metadata": {},
     "output_type": "execute_result"
    }
   ],
   "source": [
    "list_precision, list_recall, list_threshold = precision_recall_curve(y_test, dtc.predict_proba(X_test)[:, 1])\n",
    "\n",
    "list_f1_score = 2 * (list_precision * list_recall) / (list_precision + list_recall)\n",
    "\n",
    "index_best = np.argmax(list_f1_score)\n",
    "\n",
    "df_metrics = pd.DataFrame(data={\n",
    "    'threshold': list_threshold[index_best],\n",
    "    'precision': list_precision[index_best],\n",
    "    'recall': list_recall[index_best],\n",
    "    'f1-score': list_f1_score[index_best]\n",
    "}, index=['Base'])\n",
    "\n",
    "df_metrics"
   ]
  },
  {
   "cell_type": "markdown",
   "id": "6ef6c6a7",
   "metadata": {},
   "source": [
    "## 4. далее разделить ваш набор данных на два множества: P (positives) и U (unlabeled). Причем брать нужно не все положительные (класс 1) примеры, а только лишь часть"
   ]
  },
  {
   "cell_type": "markdown",
   "id": "43382a15",
   "metadata": {},
   "source": [
    "##### Используем половину Positives и столько же Unlabeled для обучения модели."
   ]
  },
  {
   "cell_type": "code",
   "execution_count": 8,
   "id": "714989fd",
   "metadata": {},
   "outputs": [],
   "source": [
    "X = df_data.iloc[:, :-1]\n",
    "y = df_data.iloc[:, -1]\n",
    "\n",
    "X_positives = X[y == 1].sample(frac=0.5, replace=False)\n",
    "X_unlabeled = X.iloc[sorted(set(X.index) - set(X_positives.index)), :].sample(n=X_positives.shape[0], replace=False)\n",
    "\n",
    "X_train = pd.concat([X_positives, X_unlabeled])\n",
    "y_train = np.zeros(X_train.shape[0])\n",
    "y_train[:X_positives.shape[0]] = 1"
   ]
  },
  {
   "cell_type": "markdown",
   "id": "acd884b7",
   "metadata": {},
   "source": [
    "##### Остальные объекты отложим для валидации."
   ]
  },
  {
   "cell_type": "code",
   "execution_count": 9,
   "id": "6c376ad8",
   "metadata": {},
   "outputs": [],
   "source": [
    "X_test = X.iloc[sorted(set(X.index) - set(X_positives.index) - set(X_unlabeled.index)), :]\n",
    "y_test = y[X_test.index.values]"
   ]
  },
  {
   "cell_type": "markdown",
   "id": "76920dea",
   "metadata": {},
   "source": [
    "## 5. применить random negative sampling для построения классификатора в новых условиях"
   ]
  },
  {
   "cell_type": "code",
   "execution_count": 10,
   "id": "82000987",
   "metadata": {},
   "outputs": [
    {
     "name": "stdout",
     "output_type": "stream",
     "text": [
      "              precision    recall  f1-score   support\n",
      "\n",
      "           0       0.90      0.99      0.94       534\n",
      "           1       0.98      0.73      0.84       228\n",
      "\n",
      "    accuracy                           0.91       762\n",
      "   macro avg       0.94      0.86      0.89       762\n",
      "weighted avg       0.92      0.91      0.91       762\n",
      "\n",
      "Wall time: 6 ms\n"
     ]
    }
   ],
   "source": [
    "%%time\n",
    "\n",
    "dtc = DecisionTreeClassifier(random_state=random_state_global)\n",
    "\n",
    "dtc.fit(X_train, y_train)\n",
    "\n",
    "y_pred = dtc.predict(X_test)\n",
    "\n",
    "print(classification_report(y_test, y_pred))"
   ]
  },
  {
   "cell_type": "markdown",
   "id": "7da6dbe8",
   "metadata": {},
   "source": [
    "## 6. сравнить качество с решением из пункта 4 (построить отчет - таблицу метрик)"
   ]
  },
  {
   "cell_type": "code",
   "execution_count": 11,
   "id": "6e8bf274",
   "metadata": {},
   "outputs": [
    {
     "data": {
      "text/html": [
       "<div>\n",
       "<style scoped>\n",
       "    .dataframe tbody tr th:only-of-type {\n",
       "        vertical-align: middle;\n",
       "    }\n",
       "\n",
       "    .dataframe tbody tr th {\n",
       "        vertical-align: top;\n",
       "    }\n",
       "\n",
       "    .dataframe thead th {\n",
       "        text-align: right;\n",
       "    }\n",
       "</style>\n",
       "<table border=\"1\" class=\"dataframe\">\n",
       "  <thead>\n",
       "    <tr style=\"text-align: right;\">\n",
       "      <th></th>\n",
       "      <th>threshold</th>\n",
       "      <th>precision</th>\n",
       "      <th>recall</th>\n",
       "      <th>f1-score</th>\n",
       "    </tr>\n",
       "  </thead>\n",
       "  <tbody>\n",
       "    <tr>\n",
       "      <th>Base</th>\n",
       "      <td>1.0</td>\n",
       "      <td>0.976351</td>\n",
       "      <td>0.960133</td>\n",
       "      <td>0.968174</td>\n",
       "    </tr>\n",
       "    <tr>\n",
       "      <th>Random Negative Sampling</th>\n",
       "      <td>1.0</td>\n",
       "      <td>0.976608</td>\n",
       "      <td>0.732456</td>\n",
       "      <td>0.837093</td>\n",
       "    </tr>\n",
       "  </tbody>\n",
       "</table>\n",
       "</div>"
      ],
      "text/plain": [
       "                          threshold  precision    recall  f1-score\n",
       "Base                            1.0   0.976351  0.960133  0.968174\n",
       "Random Negative Sampling        1.0   0.976608  0.732456  0.837093"
      ]
     },
     "execution_count": 11,
     "metadata": {},
     "output_type": "execute_result"
    }
   ],
   "source": [
    "list_precision, list_recall, list_threshold = precision_recall_curve(y_test, dtc.predict_proba(X_test)[:, 1])\n",
    "\n",
    "list_f1_score = 2 * (list_precision * list_recall) / (list_precision + list_recall)\n",
    "\n",
    "index_best = np.argmax(list_f1_score)\n",
    "\n",
    "df_metrics.loc['Random Negative Sampling', :] = [\n",
    "    list_threshold[index_best],\n",
    "    list_precision[index_best],\n",
    "    list_recall[index_best],\n",
    "    list_f1_score[index_best]\n",
    "]\n",
    "\n",
    "df_metrics"
   ]
  },
  {
   "cell_type": "markdown",
   "id": "a2f68331",
   "metadata": {},
   "source": [
    "##### Модель, построенная классическим методом, показала лучшие метрики качества, так как использовала больше объектов для обучения, а также была обучена на достоверных Negative объектах.\n",
    "\n",
    "##### Однако модель, постоенная при помощи метода \"Random Negative Sampling\", продемонстрировала хорошие результаты с учётом обучения на Unlabeled объектах."
   ]
  },
  {
   "cell_type": "markdown",
   "id": "3561ddd5",
   "metadata": {},
   "source": [
    "## 7. поэкспериментировать с долей P на шаге 5 (как будет меняться качество модели при уменьшении/увеличении размера P)"
   ]
  },
  {
   "cell_type": "markdown",
   "id": "ce29d2a9",
   "metadata": {},
   "source": [
    "### Уменьшение доли Positives"
   ]
  },
  {
   "cell_type": "code",
   "execution_count": 12,
   "id": "bf6b22a9",
   "metadata": {
    "scrolled": true
   },
   "outputs": [
    {
     "name": "stdout",
     "output_type": "stream",
     "text": [
      "              precision    recall  f1-score   support\n",
      "\n",
      "           0       0.86      0.94      0.90       653\n",
      "           1       0.87      0.72      0.79       353\n",
      "\n",
      "    accuracy                           0.86      1006\n",
      "   macro avg       0.87      0.83      0.84      1006\n",
      "weighted avg       0.87      0.86      0.86      1006\n",
      "\n",
      "Wall time: 7.98 ms\n"
     ]
    }
   ],
   "source": [
    "%%time\n",
    "\n",
    "X = df_data.iloc[:, :-1]\n",
    "y = df_data.iloc[:, -1]\n",
    "\n",
    "X_positives = X[y == 1].sample(frac=0.3, replace=False)\n",
    "X_unlabeled = X.iloc[sorted(set(X.index) - set(X_positives.index)), :].sample(n=X_positives.shape[0], replace=False)\n",
    "\n",
    "X_train = pd.concat([X_positives, X_unlabeled])\n",
    "y_train = np.zeros(X_train.shape[0])\n",
    "y_train[:X_positives.shape[0]] = 1\n",
    "\n",
    "X_test = X.iloc[sorted(set(X.index) - set(X_positives.index) - set(X_unlabeled.index)), :]\n",
    "y_test = y[X_test.index.values]\n",
    "\n",
    "dtc = DecisionTreeClassifier(random_state=random_state_global)\n",
    "\n",
    "dtc.fit(X_train, y_train)\n",
    "\n",
    "y_pred = dtc.predict(X_test)\n",
    "\n",
    "print(classification_report(y_test, y_pred))"
   ]
  },
  {
   "cell_type": "code",
   "execution_count": 13,
   "id": "376004e0",
   "metadata": {},
   "outputs": [
    {
     "data": {
      "text/html": [
       "<div>\n",
       "<style scoped>\n",
       "    .dataframe tbody tr th:only-of-type {\n",
       "        vertical-align: middle;\n",
       "    }\n",
       "\n",
       "    .dataframe tbody tr th {\n",
       "        vertical-align: top;\n",
       "    }\n",
       "\n",
       "    .dataframe thead th {\n",
       "        text-align: right;\n",
       "    }\n",
       "</style>\n",
       "<table border=\"1\" class=\"dataframe\">\n",
       "  <thead>\n",
       "    <tr style=\"text-align: right;\">\n",
       "      <th></th>\n",
       "      <th>threshold</th>\n",
       "      <th>precision</th>\n",
       "      <th>recall</th>\n",
       "      <th>f1-score</th>\n",
       "    </tr>\n",
       "  </thead>\n",
       "  <tbody>\n",
       "    <tr>\n",
       "      <th>Base</th>\n",
       "      <td>1.0</td>\n",
       "      <td>0.976351</td>\n",
       "      <td>0.960133</td>\n",
       "      <td>0.968174</td>\n",
       "    </tr>\n",
       "    <tr>\n",
       "      <th>Random Negative Sampling</th>\n",
       "      <td>1.0</td>\n",
       "      <td>0.976608</td>\n",
       "      <td>0.732456</td>\n",
       "      <td>0.837093</td>\n",
       "    </tr>\n",
       "    <tr>\n",
       "      <th>Random Negative Sampling -</th>\n",
       "      <td>1.0</td>\n",
       "      <td>0.870307</td>\n",
       "      <td>0.722380</td>\n",
       "      <td>0.789474</td>\n",
       "    </tr>\n",
       "  </tbody>\n",
       "</table>\n",
       "</div>"
      ],
      "text/plain": [
       "                            threshold  precision    recall  f1-score\n",
       "Base                              1.0   0.976351  0.960133  0.968174\n",
       "Random Negative Sampling          1.0   0.976608  0.732456  0.837093\n",
       "Random Negative Sampling -        1.0   0.870307  0.722380  0.789474"
      ]
     },
     "execution_count": 13,
     "metadata": {},
     "output_type": "execute_result"
    }
   ],
   "source": [
    "list_precision, list_recall, list_threshold = precision_recall_curve(y_test, dtc.predict_proba(X_test)[:, 1])\n",
    "\n",
    "list_f1_score = 2 * (list_precision * list_recall) / (list_precision + list_recall)\n",
    "\n",
    "index_best = np.argmax(list_f1_score)\n",
    "\n",
    "df_metrics.loc['Random Negative Sampling -', :] = [\n",
    "    list_threshold[index_best],\n",
    "    list_precision[index_best],\n",
    "    list_recall[index_best],\n",
    "    list_f1_score[index_best]\n",
    "]\n",
    "\n",
    "df_metrics"
   ]
  },
  {
   "cell_type": "markdown",
   "id": "d4cc1364",
   "metadata": {},
   "source": [
    "### Увеличение доли Positives"
   ]
  },
  {
   "cell_type": "code",
   "execution_count": 14,
   "id": "124f450f",
   "metadata": {},
   "outputs": [
    {
     "name": "stdout",
     "output_type": "stream",
     "text": [
      "              precision    recall  f1-score   support\n",
      "\n",
      "           0       0.95      0.99      0.97       416\n",
      "           1       0.94      0.78      0.86       102\n",
      "\n",
      "    accuracy                           0.95       518\n",
      "   macro avg       0.95      0.89      0.91       518\n",
      "weighted avg       0.95      0.95      0.95       518\n",
      "\n",
      "Wall time: 7.98 ms\n"
     ]
    }
   ],
   "source": [
    "%%time\n",
    "\n",
    "X = df_data.iloc[:, :-1]\n",
    "y = df_data.iloc[:, -1]\n",
    "\n",
    "X_positives = X[y == 1].sample(frac=0.7, replace=False)\n",
    "X_unlabeled = X.iloc[sorted(set(X.index) - set(X_positives.index)), :].sample(n=X_positives.shape[0], replace=False)\n",
    "\n",
    "X_train = pd.concat([X_positives, X_unlabeled])\n",
    "y_train = np.zeros(X_train.shape[0])\n",
    "y_train[:X_positives.shape[0]] = 1\n",
    "\n",
    "X_test = X.iloc[sorted(set(X.index) - set(X_positives.index) - set(X_unlabeled.index)), :]\n",
    "y_test = y[X_test.index.values]\n",
    "\n",
    "dtc = DecisionTreeClassifier(random_state=random_state_global)\n",
    "\n",
    "dtc.fit(X_train, y_train)\n",
    "\n",
    "y_pred = dtc.predict(X_test)\n",
    "\n",
    "print(classification_report(y_test, y_pred))"
   ]
  },
  {
   "cell_type": "code",
   "execution_count": 15,
   "id": "461cf01a",
   "metadata": {},
   "outputs": [
    {
     "data": {
      "text/html": [
       "<div>\n",
       "<style scoped>\n",
       "    .dataframe tbody tr th:only-of-type {\n",
       "        vertical-align: middle;\n",
       "    }\n",
       "\n",
       "    .dataframe tbody tr th {\n",
       "        vertical-align: top;\n",
       "    }\n",
       "\n",
       "    .dataframe thead th {\n",
       "        text-align: right;\n",
       "    }\n",
       "</style>\n",
       "<table border=\"1\" class=\"dataframe\">\n",
       "  <thead>\n",
       "    <tr style=\"text-align: right;\">\n",
       "      <th></th>\n",
       "      <th>threshold</th>\n",
       "      <th>precision</th>\n",
       "      <th>recall</th>\n",
       "      <th>f1-score</th>\n",
       "    </tr>\n",
       "  </thead>\n",
       "  <tbody>\n",
       "    <tr>\n",
       "      <th>Base</th>\n",
       "      <td>1.0</td>\n",
       "      <td>0.976351</td>\n",
       "      <td>0.960133</td>\n",
       "      <td>0.968174</td>\n",
       "    </tr>\n",
       "    <tr>\n",
       "      <th>Random Negative Sampling</th>\n",
       "      <td>1.0</td>\n",
       "      <td>0.976608</td>\n",
       "      <td>0.732456</td>\n",
       "      <td>0.837093</td>\n",
       "    </tr>\n",
       "    <tr>\n",
       "      <th>Random Negative Sampling -</th>\n",
       "      <td>1.0</td>\n",
       "      <td>0.870307</td>\n",
       "      <td>0.722380</td>\n",
       "      <td>0.789474</td>\n",
       "    </tr>\n",
       "    <tr>\n",
       "      <th>Random Negative Sampling +</th>\n",
       "      <td>1.0</td>\n",
       "      <td>0.941176</td>\n",
       "      <td>0.784314</td>\n",
       "      <td>0.855615</td>\n",
       "    </tr>\n",
       "  </tbody>\n",
       "</table>\n",
       "</div>"
      ],
      "text/plain": [
       "                            threshold  precision    recall  f1-score\n",
       "Base                              1.0   0.976351  0.960133  0.968174\n",
       "Random Negative Sampling          1.0   0.976608  0.732456  0.837093\n",
       "Random Negative Sampling -        1.0   0.870307  0.722380  0.789474\n",
       "Random Negative Sampling +        1.0   0.941176  0.784314  0.855615"
      ]
     },
     "execution_count": 15,
     "metadata": {},
     "output_type": "execute_result"
    }
   ],
   "source": [
    "list_precision, list_recall, list_threshold = precision_recall_curve(y_test, dtc.predict_proba(X_test)[:, 1])\n",
    "\n",
    "list_f1_score = 2 * (list_precision * list_recall) / (list_precision + list_recall)\n",
    "\n",
    "index_best = np.argmax(list_f1_score)\n",
    "\n",
    "df_metrics.loc['Random Negative Sampling +', :] = [\n",
    "    list_threshold[index_best],\n",
    "    list_precision[index_best],\n",
    "    list_recall[index_best],\n",
    "    list_f1_score[index_best]\n",
    "]\n",
    "\n",
    "df_metrics"
   ]
  },
  {
   "cell_type": "markdown",
   "id": "4480e6f3",
   "metadata": {},
   "source": [
    "##### Увеличение доли Positive объетков благоприятно влияет на качество построенной модели, так как у модели оказывается больше объектов для обучения. Однако при этом сокращается Out-of-The-Bag подвыборка для валидации, что снижает достоверность полученных метрик."
   ]
  },
  {
   "cell_type": "code",
   "execution_count": null,
   "id": "307d1b87",
   "metadata": {},
   "outputs": [],
   "source": []
  }
 ],
 "metadata": {
  "kernelspec": {
   "display_name": "Python 3 (ipykernel)",
   "language": "python",
   "name": "python3"
  },
  "language_info": {
   "codemirror_mode": {
    "name": "ipython",
    "version": 3
   },
   "file_extension": ".py",
   "mimetype": "text/x-python",
   "name": "python",
   "nbconvert_exporter": "python",
   "pygments_lexer": "ipython3",
   "version": "3.9.4"
  }
 },
 "nbformat": 4,
 "nbformat_minor": 5
}
