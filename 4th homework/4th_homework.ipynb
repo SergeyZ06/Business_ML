{
 "cells": [
  {
   "cell_type": "markdown",
   "id": "dfdfd6ec",
   "metadata": {
    "id": "dfdfd6ec"
   },
   "source": [
    "# 4th_homework"
   ]
  },
  {
   "cell_type": "markdown",
   "id": "5a155e71",
   "metadata": {
    "id": "5a155e71"
   },
   "source": [
    "### Import Section"
   ]
  },
  {
   "cell_type": "code",
   "execution_count": 3,
   "id": "5488558c",
   "metadata": {
    "colab": {
     "base_uri": "https://localhost:8080/"
    },
    "executionInfo": {
     "elapsed": 56170,
     "status": "ok",
     "timestamp": 1643306848807,
     "user": {
      "displayName": "SergeyZ06",
      "photoUrl": "https://lh3.googleusercontent.com/a-/AOh14Ghpcw43E5vOkM6YFO_nn2cQzOQFArXpEDm73Kvd3g=s64",
      "userId": "16716075144815018235"
     },
     "user_tz": -180
    },
    "id": "5488558c",
    "outputId": "ae7672df-e50d-429b-d1a9-3edeb05de12f"
   },
   "outputs": [
    {
     "name": "stdout",
     "output_type": "stream",
     "text": [
      "Collecting scikit-uplift\n",
      "  Downloading scikit_uplift-0.4.0-py3-none-any.whl (38 kB)\n",
      "Requirement already satisfied: requests in /usr/local/lib/python3.7/dist-packages (from scikit-uplift) (2.23.0)\n",
      "Requirement already satisfied: tqdm in /usr/local/lib/python3.7/dist-packages (from scikit-uplift) (4.62.3)\n",
      "Requirement already satisfied: scikit-learn>=0.21.0 in /usr/local/lib/python3.7/dist-packages (from scikit-uplift) (1.0.2)\n",
      "Requirement already satisfied: matplotlib in /usr/local/lib/python3.7/dist-packages (from scikit-uplift) (3.2.2)\n",
      "Requirement already satisfied: numpy>=1.16 in /usr/local/lib/python3.7/dist-packages (from scikit-uplift) (1.19.5)\n",
      "Requirement already satisfied: pandas in /usr/local/lib/python3.7/dist-packages (from scikit-uplift) (1.1.5)\n",
      "Requirement already satisfied: joblib>=0.11 in /usr/local/lib/python3.7/dist-packages (from scikit-learn>=0.21.0->scikit-uplift) (1.1.0)\n",
      "Requirement already satisfied: threadpoolctl>=2.0.0 in /usr/local/lib/python3.7/dist-packages (from scikit-learn>=0.21.0->scikit-uplift) (3.0.0)\n",
      "Requirement already satisfied: scipy>=1.1.0 in /usr/local/lib/python3.7/dist-packages (from scikit-learn>=0.21.0->scikit-uplift) (1.4.1)\n",
      "Requirement already satisfied: kiwisolver>=1.0.1 in /usr/local/lib/python3.7/dist-packages (from matplotlib->scikit-uplift) (1.3.2)\n",
      "Requirement already satisfied: pyparsing!=2.0.4,!=2.1.2,!=2.1.6,>=2.0.1 in /usr/local/lib/python3.7/dist-packages (from matplotlib->scikit-uplift) (3.0.7)\n",
      "Requirement already satisfied: python-dateutil>=2.1 in /usr/local/lib/python3.7/dist-packages (from matplotlib->scikit-uplift) (2.8.2)\n",
      "Requirement already satisfied: cycler>=0.10 in /usr/local/lib/python3.7/dist-packages (from matplotlib->scikit-uplift) (0.11.0)\n",
      "Requirement already satisfied: six>=1.5 in /usr/local/lib/python3.7/dist-packages (from python-dateutil>=2.1->matplotlib->scikit-uplift) (1.15.0)\n",
      "Requirement already satisfied: pytz>=2017.2 in /usr/local/lib/python3.7/dist-packages (from pandas->scikit-uplift) (2018.9)\n",
      "Requirement already satisfied: idna<3,>=2.5 in /usr/local/lib/python3.7/dist-packages (from requests->scikit-uplift) (2.10)\n",
      "Requirement already satisfied: certifi>=2017.4.17 in /usr/local/lib/python3.7/dist-packages (from requests->scikit-uplift) (2021.10.8)\n",
      "Requirement already satisfied: urllib3!=1.25.0,!=1.25.1,<1.26,>=1.21.1 in /usr/local/lib/python3.7/dist-packages (from requests->scikit-uplift) (1.24.3)\n",
      "Requirement already satisfied: chardet<4,>=3.0.2 in /usr/local/lib/python3.7/dist-packages (from requests->scikit-uplift) (3.0.4)\n",
      "Installing collected packages: scikit-uplift\n",
      "Successfully installed scikit-uplift-0.4.0\n",
      "Collecting causalml\n",
      "  Downloading causalml-0.12.0.tar.gz (401 kB)\n",
      "\u001b[K     |████████████████████████████████| 401 kB 11.2 MB/s \n",
      "\u001b[?25hRequirement already satisfied: setuptools>=41.0.0 in /usr/local/lib/python3.7/dist-packages (from causalml) (57.4.0)\n",
      "Requirement already satisfied: pip>=10.0 in /usr/local/lib/python3.7/dist-packages (from causalml) (21.1.3)\n",
      "Requirement already satisfied: numpy>=1.18.5 in /usr/local/lib/python3.7/dist-packages (from causalml) (1.19.5)\n",
      "Requirement already satisfied: scipy==1.4.1 in /usr/local/lib/python3.7/dist-packages (from causalml) (1.4.1)\n",
      "Requirement already satisfied: matplotlib in /usr/local/lib/python3.7/dist-packages (from causalml) (3.2.2)\n",
      "Requirement already satisfied: pandas>=0.24.1 in /usr/local/lib/python3.7/dist-packages (from causalml) (1.1.5)\n",
      "Requirement already satisfied: scikit-learn>=0.22.0 in /usr/local/lib/python3.7/dist-packages (from causalml) (1.0.2)\n",
      "Requirement already satisfied: statsmodels>=0.9.0 in /usr/local/lib/python3.7/dist-packages (from causalml) (0.10.2)\n",
      "Requirement already satisfied: seaborn in /usr/local/lib/python3.7/dist-packages (from causalml) (0.11.2)\n",
      "Requirement already satisfied: Cython>=0.28.0 in /usr/local/lib/python3.7/dist-packages (from causalml) (0.29.26)\n",
      "Requirement already satisfied: xgboost in /usr/local/lib/python3.7/dist-packages (from causalml) (0.90)\n",
      "Requirement already satisfied: pydotplus in /usr/local/lib/python3.7/dist-packages (from causalml) (2.0.2)\n",
      "Requirement already satisfied: tqdm in /usr/local/lib/python3.7/dist-packages (from causalml) (4.62.3)\n",
      "Collecting shap<0.38.1\n",
      "  Downloading shap-0.37.0.tar.gz (326 kB)\n",
      "\u001b[K     |████████████████████████████████| 326 kB 64.4 MB/s \n",
      "\u001b[?25hRequirement already satisfied: dill in /usr/local/lib/python3.7/dist-packages (from causalml) (0.3.4)\n",
      "Requirement already satisfied: lightgbm in /usr/local/lib/python3.7/dist-packages (from causalml) (2.2.3)\n",
      "Collecting pygam\n",
      "  Downloading pygam-0.8.0-py2.py3-none-any.whl (1.8 MB)\n",
      "\u001b[K     |████████████████████████████████| 1.8 MB 50.9 MB/s \n",
      "\u001b[?25hRequirement already satisfied: packaging in /usr/local/lib/python3.7/dist-packages (from causalml) (21.3)\n",
      "Requirement already satisfied: torch in /usr/local/lib/python3.7/dist-packages (from causalml) (1.10.0+cu111)\n",
      "Collecting pyro-ppl\n",
      "  Downloading pyro_ppl-1.8.0-py3-none-any.whl (713 kB)\n",
      "\u001b[K     |████████████████████████████████| 713 kB 52.4 MB/s \n",
      "\u001b[?25hRequirement already satisfied: graphviz in /usr/local/lib/python3.7/dist-packages (from causalml) (0.10.1)\n",
      "Requirement already satisfied: pytz>=2017.2 in /usr/local/lib/python3.7/dist-packages (from pandas>=0.24.1->causalml) (2018.9)\n",
      "Requirement already satisfied: python-dateutil>=2.7.3 in /usr/local/lib/python3.7/dist-packages (from pandas>=0.24.1->causalml) (2.8.2)\n",
      "Requirement already satisfied: six>=1.5 in /usr/local/lib/python3.7/dist-packages (from python-dateutil>=2.7.3->pandas>=0.24.1->causalml) (1.15.0)\n",
      "Requirement already satisfied: joblib>=0.11 in /usr/local/lib/python3.7/dist-packages (from scikit-learn>=0.22.0->causalml) (1.1.0)\n",
      "Requirement already satisfied: threadpoolctl>=2.0.0 in /usr/local/lib/python3.7/dist-packages (from scikit-learn>=0.22.0->causalml) (3.0.0)\n",
      "Collecting slicer==0.0.3\n",
      "  Downloading slicer-0.0.3-py3-none-any.whl (11 kB)\n",
      "Requirement already satisfied: numba in /usr/local/lib/python3.7/dist-packages (from shap<0.38.1->causalml) (0.51.2)\n",
      "Requirement already satisfied: patsy>=0.4.0 in /usr/local/lib/python3.7/dist-packages (from statsmodels>=0.9.0->causalml) (0.5.2)\n",
      "Requirement already satisfied: cycler>=0.10 in /usr/local/lib/python3.7/dist-packages (from matplotlib->causalml) (0.11.0)\n",
      "Requirement already satisfied: pyparsing!=2.0.4,!=2.1.2,!=2.1.6,>=2.0.1 in /usr/local/lib/python3.7/dist-packages (from matplotlib->causalml) (3.0.7)\n",
      "Requirement already satisfied: kiwisolver>=1.0.1 in /usr/local/lib/python3.7/dist-packages (from matplotlib->causalml) (1.3.2)\n",
      "Requirement already satisfied: llvmlite<0.35,>=0.34.0.dev0 in /usr/local/lib/python3.7/dist-packages (from numba->shap<0.38.1->causalml) (0.34.0)\n",
      "Requirement already satisfied: progressbar2 in /usr/local/lib/python3.7/dist-packages (from pygam->causalml) (3.38.0)\n",
      "Requirement already satisfied: future in /usr/local/lib/python3.7/dist-packages (from pygam->causalml) (0.16.0)\n",
      "Requirement already satisfied: python-utils>=2.3.0 in /usr/local/lib/python3.7/dist-packages (from progressbar2->pygam->causalml) (3.1.0)\n",
      "Collecting pyro-api>=0.1.1\n",
      "  Downloading pyro_api-0.1.2-py3-none-any.whl (11 kB)\n",
      "Requirement already satisfied: opt-einsum>=2.3.2 in /usr/local/lib/python3.7/dist-packages (from pyro-ppl->causalml) (3.3.0)\n",
      "Requirement already satisfied: typing-extensions in /usr/local/lib/python3.7/dist-packages (from torch->causalml) (3.10.0.2)\n",
      "Building wheels for collected packages: causalml, shap\n",
      "  Building wheel for causalml (setup.py) ... \u001b[?25l\u001b[?25hdone\n",
      "  Created wheel for causalml: filename=causalml-0.12.0-cp37-cp37m-linux_x86_64.whl size=1041384 sha256=e4b4502a86300e1830866b8e873ad9afb533447b196dc3eebaffc5c0a7c6c21f\n",
      "  Stored in directory: /root/.cache/pip/wheels/d4/91/27/df00ca0ddd66caea2c34259c66a216abd5c09022638b82d512\n",
      "  Building wheel for shap (setup.py) ... \u001b[?25l\u001b[?25hdone\n",
      "  Created wheel for shap: filename=shap-0.37.0-cp37-cp37m-linux_x86_64.whl size=465072 sha256=d15140ec1626c0749f303a5ecee144ba171cd92657fa47c50ecd5b182c596e42\n",
      "  Stored in directory: /root/.cache/pip/wheels/df/b8/18/2c0a6105152e62dd9a7cf47b5110b9cedb0c8739babdef64b7\n",
      "Successfully built causalml shap\n",
      "Installing collected packages: slicer, pyro-api, shap, pyro-ppl, pygam, causalml\n",
      "Successfully installed causalml-0.12.0 pygam-0.8.0 pyro-api-0.1.2 pyro-ppl-1.8.0 shap-0.37.0 slicer-0.0.3\n",
      "Collecting catboost\n",
      "  Downloading catboost-1.0.4-cp37-none-manylinux1_x86_64.whl (76.1 MB)\n",
      "\u001b[K     |████████████████████████████████| 76.1 MB 51 kB/s \n",
      "\u001b[?25hRequirement already satisfied: numpy>=1.16.0 in /usr/local/lib/python3.7/dist-packages (from catboost) (1.19.5)\n",
      "Requirement already satisfied: graphviz in /usr/local/lib/python3.7/dist-packages (from catboost) (0.10.1)\n",
      "Requirement already satisfied: six in /usr/local/lib/python3.7/dist-packages (from catboost) (1.15.0)\n",
      "Requirement already satisfied: plotly in /usr/local/lib/python3.7/dist-packages (from catboost) (5.5.0)\n",
      "Requirement already satisfied: scipy in /usr/local/lib/python3.7/dist-packages (from catboost) (1.4.1)\n",
      "Requirement already satisfied: pandas>=0.24.0 in /usr/local/lib/python3.7/dist-packages (from catboost) (1.1.5)\n",
      "Requirement already satisfied: matplotlib in /usr/local/lib/python3.7/dist-packages (from catboost) (3.2.2)\n",
      "Requirement already satisfied: python-dateutil>=2.7.3 in /usr/local/lib/python3.7/dist-packages (from pandas>=0.24.0->catboost) (2.8.2)\n",
      "Requirement already satisfied: pytz>=2017.2 in /usr/local/lib/python3.7/dist-packages (from pandas>=0.24.0->catboost) (2018.9)\n",
      "Requirement already satisfied: kiwisolver>=1.0.1 in /usr/local/lib/python3.7/dist-packages (from matplotlib->catboost) (1.3.2)\n",
      "Requirement already satisfied: cycler>=0.10 in /usr/local/lib/python3.7/dist-packages (from matplotlib->catboost) (0.11.0)\n",
      "Requirement already satisfied: pyparsing!=2.0.4,!=2.1.2,!=2.1.6,>=2.0.1 in /usr/local/lib/python3.7/dist-packages (from matplotlib->catboost) (3.0.7)\n",
      "Requirement already satisfied: tenacity>=6.2.0 in /usr/local/lib/python3.7/dist-packages (from plotly->catboost) (8.0.1)\n",
      "Installing collected packages: catboost\n",
      "Successfully installed catboost-1.0.4\n"
     ]
    }
   ],
   "source": [
    "!pip install scikit-uplift\n",
    "!pip install causalml\n",
    "!pip install catboost\n",
    "\n",
    "import numpy as np\n",
    "import pandas as pd\n",
    "\n",
    "from sklearn.model_selection import train_test_split\n",
    "\n",
    "from sklift.models import SoloModel\n",
    "from sklift.models import ClassTransformation\n",
    "from sklift.models import TwoModels\n",
    "\n",
    "from sklift.metrics import uplift_at_k\n",
    "from sklift.viz import plot_uplift_preds\n",
    "\n",
    "from catboost import CatBoostClassifier\n",
    "\n",
    "from IPython.display import Image\n",
    "from causalml.inference.tree import UpliftTreeClassifier, UpliftRandomForestClassifier\n",
    "from causalml.inference.tree import uplift_tree_string, uplift_tree_plot"
   ]
  },
  {
   "cell_type": "markdown",
   "id": "7ad24a30",
   "metadata": {
    "id": "7ad24a30"
   },
   "source": [
    "### Global Settings Section"
   ]
  },
  {
   "cell_type": "code",
   "execution_count": 4,
   "id": "a30027b7",
   "metadata": {
    "executionInfo": {
     "elapsed": 316,
     "status": "ok",
     "timestamp": 1643306929196,
     "user": {
      "displayName": "SergeyZ06",
      "photoUrl": "https://lh3.googleusercontent.com/a-/AOh14Ghpcw43E5vOkM6YFO_nn2cQzOQFArXpEDm73Kvd3g=s64",
      "userId": "16716075144815018235"
     },
     "user_tz": -180
    },
    "id": "a30027b7"
   },
   "outputs": [],
   "source": [
    "random_state_global = 0"
   ]
  },
  {
   "cell_type": "markdown",
   "id": "68f4e870",
   "metadata": {
    "id": "68f4e870"
   },
   "source": [
    "## 1. скачать набор данных маркетинговых кампаний отсюда https://www.kaggle.com/davinwijaya/customer-retention"
   ]
  },
  {
   "cell_type": "code",
   "execution_count": 5,
   "id": "ad75e0a2",
   "metadata": {
    "colab": {
     "base_uri": "https://localhost:8080/",
     "height": 73,
     "resources": {
      "http://localhost:8080/nbextensions/google.colab/files.js": {
       "data": "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",
       "headers": [
        [
         "content-type",
         "application/javascript"
        ]
       ],
       "ok": true,
       "status": 200,
       "status_text": ""
      }
     }
    },
    "executionInfo": {
     "elapsed": 40237,
     "status": "ok",
     "timestamp": 1643306993789,
     "user": {
      "displayName": "SergeyZ06",
      "photoUrl": "https://lh3.googleusercontent.com/a-/AOh14Ghpcw43E5vOkM6YFO_nn2cQzOQFArXpEDm73Kvd3g=s64",
      "userId": "16716075144815018235"
     },
     "user_tz": -180
    },
    "id": "ad75e0a2",
    "outputId": "b54c115f-784d-4f31-86ff-871634f09edd"
   },
   "outputs": [
    {
     "data": {
      "text/html": [
       "\n",
       "     <input type=\"file\" id=\"files-a992d481-533f-4831-ad59-e018920c2cbd\" name=\"files[]\" multiple disabled\n",
       "        style=\"border:none\" />\n",
       "     <output id=\"result-a992d481-533f-4831-ad59-e018920c2cbd\">\n",
       "      Upload widget is only available when the cell has been executed in the\n",
       "      current browser session. Please rerun this cell to enable.\n",
       "      </output>\n",
       "      <script src=\"/nbextensions/google.colab/files.js\"></script> "
      ],
      "text/plain": [
       "<IPython.core.display.HTML object>"
      ]
     },
     "metadata": {},
     "output_type": "display_data"
    },
    {
     "name": "stdout",
     "output_type": "stream",
     "text": [
      "Saving data.csv to data.csv\n"
     ]
    }
   ],
   "source": [
    "# df_data = pd.read_csv(r'data.csv')\n",
    "\n",
    "from google.colab import files\n",
    "uploaded = files.upload()\n",
    "\n",
    "import io\n",
    "df_data = pd.read_csv(io.BytesIO(uploaded['data.csv']))"
   ]
  },
  {
   "cell_type": "code",
   "execution_count": 6,
   "id": "858dacb7",
   "metadata": {
    "colab": {
     "base_uri": "https://localhost:8080/",
     "height": 206
    },
    "executionInfo": {
     "elapsed": 308,
     "status": "ok",
     "timestamp": 1643306998942,
     "user": {
      "displayName": "SergeyZ06",
      "photoUrl": "https://lh3.googleusercontent.com/a-/AOh14Ghpcw43E5vOkM6YFO_nn2cQzOQFArXpEDm73Kvd3g=s64",
      "userId": "16716075144815018235"
     },
     "user_tz": -180
    },
    "id": "858dacb7",
    "outputId": "aea60b30-6719-4905-9d8f-97107e1ff05c",
    "scrolled": true
   },
   "outputs": [
    {
     "data": {
      "text/html": [
       "\n",
       "  <div id=\"df-64fb2196-ba3a-4e68-a052-02b182cdb94c\">\n",
       "    <div class=\"colab-df-container\">\n",
       "      <div>\n",
       "<style scoped>\n",
       "    .dataframe tbody tr th:only-of-type {\n",
       "        vertical-align: middle;\n",
       "    }\n",
       "\n",
       "    .dataframe tbody tr th {\n",
       "        vertical-align: top;\n",
       "    }\n",
       "\n",
       "    .dataframe thead th {\n",
       "        text-align: right;\n",
       "    }\n",
       "</style>\n",
       "<table border=\"1\" class=\"dataframe\">\n",
       "  <thead>\n",
       "    <tr style=\"text-align: right;\">\n",
       "      <th></th>\n",
       "      <th>recency</th>\n",
       "      <th>history</th>\n",
       "      <th>used_discount</th>\n",
       "      <th>used_bogo</th>\n",
       "      <th>zip_code</th>\n",
       "      <th>is_referral</th>\n",
       "      <th>channel</th>\n",
       "      <th>offer</th>\n",
       "      <th>conversion</th>\n",
       "    </tr>\n",
       "  </thead>\n",
       "  <tbody>\n",
       "    <tr>\n",
       "      <th>0</th>\n",
       "      <td>10</td>\n",
       "      <td>142.44</td>\n",
       "      <td>1</td>\n",
       "      <td>0</td>\n",
       "      <td>Surburban</td>\n",
       "      <td>0</td>\n",
       "      <td>Phone</td>\n",
       "      <td>Buy One Get One</td>\n",
       "      <td>0</td>\n",
       "    </tr>\n",
       "    <tr>\n",
       "      <th>1</th>\n",
       "      <td>6</td>\n",
       "      <td>329.08</td>\n",
       "      <td>1</td>\n",
       "      <td>1</td>\n",
       "      <td>Rural</td>\n",
       "      <td>1</td>\n",
       "      <td>Web</td>\n",
       "      <td>No Offer</td>\n",
       "      <td>0</td>\n",
       "    </tr>\n",
       "    <tr>\n",
       "      <th>2</th>\n",
       "      <td>7</td>\n",
       "      <td>180.65</td>\n",
       "      <td>0</td>\n",
       "      <td>1</td>\n",
       "      <td>Surburban</td>\n",
       "      <td>1</td>\n",
       "      <td>Web</td>\n",
       "      <td>Buy One Get One</td>\n",
       "      <td>0</td>\n",
       "    </tr>\n",
       "    <tr>\n",
       "      <th>3</th>\n",
       "      <td>9</td>\n",
       "      <td>675.83</td>\n",
       "      <td>1</td>\n",
       "      <td>0</td>\n",
       "      <td>Rural</td>\n",
       "      <td>1</td>\n",
       "      <td>Web</td>\n",
       "      <td>Discount</td>\n",
       "      <td>0</td>\n",
       "    </tr>\n",
       "    <tr>\n",
       "      <th>4</th>\n",
       "      <td>2</td>\n",
       "      <td>45.34</td>\n",
       "      <td>1</td>\n",
       "      <td>0</td>\n",
       "      <td>Urban</td>\n",
       "      <td>0</td>\n",
       "      <td>Web</td>\n",
       "      <td>Buy One Get One</td>\n",
       "      <td>0</td>\n",
       "    </tr>\n",
       "  </tbody>\n",
       "</table>\n",
       "</div>\n",
       "      <button class=\"colab-df-convert\" onclick=\"convertToInteractive('df-64fb2196-ba3a-4e68-a052-02b182cdb94c')\"\n",
       "              title=\"Convert this dataframe to an interactive table.\"\n",
       "              style=\"display:none;\">\n",
       "        \n",
       "  <svg xmlns=\"http://www.w3.org/2000/svg\" height=\"24px\"viewBox=\"0 0 24 24\"\n",
       "       width=\"24px\">\n",
       "    <path d=\"M0 0h24v24H0V0z\" fill=\"none\"/>\n",
       "    <path d=\"M18.56 5.44l.94 2.06.94-2.06 2.06-.94-2.06-.94-.94-2.06-.94 2.06-2.06.94zm-11 1L8.5 8.5l.94-2.06 2.06-.94-2.06-.94L8.5 2.5l-.94 2.06-2.06.94zm10 10l.94 2.06.94-2.06 2.06-.94-2.06-.94-.94-2.06-.94 2.06-2.06.94z\"/><path d=\"M17.41 7.96l-1.37-1.37c-.4-.4-.92-.59-1.43-.59-.52 0-1.04.2-1.43.59L10.3 9.45l-7.72 7.72c-.78.78-.78 2.05 0 2.83L4 21.41c.39.39.9.59 1.41.59.51 0 1.02-.2 1.41-.59l7.78-7.78 2.81-2.81c.8-.78.8-2.07 0-2.86zM5.41 20L4 18.59l7.72-7.72 1.47 1.35L5.41 20z\"/>\n",
       "  </svg>\n",
       "      </button>\n",
       "      \n",
       "  <style>\n",
       "    .colab-df-container {\n",
       "      display:flex;\n",
       "      flex-wrap:wrap;\n",
       "      gap: 12px;\n",
       "    }\n",
       "\n",
       "    .colab-df-convert {\n",
       "      background-color: #E8F0FE;\n",
       "      border: none;\n",
       "      border-radius: 50%;\n",
       "      cursor: pointer;\n",
       "      display: none;\n",
       "      fill: #1967D2;\n",
       "      height: 32px;\n",
       "      padding: 0 0 0 0;\n",
       "      width: 32px;\n",
       "    }\n",
       "\n",
       "    .colab-df-convert:hover {\n",
       "      background-color: #E2EBFA;\n",
       "      box-shadow: 0px 1px 2px rgba(60, 64, 67, 0.3), 0px 1px 3px 1px rgba(60, 64, 67, 0.15);\n",
       "      fill: #174EA6;\n",
       "    }\n",
       "\n",
       "    [theme=dark] .colab-df-convert {\n",
       "      background-color: #3B4455;\n",
       "      fill: #D2E3FC;\n",
       "    }\n",
       "\n",
       "    [theme=dark] .colab-df-convert:hover {\n",
       "      background-color: #434B5C;\n",
       "      box-shadow: 0px 1px 3px 1px rgba(0, 0, 0, 0.15);\n",
       "      filter: drop-shadow(0px 1px 2px rgba(0, 0, 0, 0.3));\n",
       "      fill: #FFFFFF;\n",
       "    }\n",
       "  </style>\n",
       "\n",
       "      <script>\n",
       "        const buttonEl =\n",
       "          document.querySelector('#df-64fb2196-ba3a-4e68-a052-02b182cdb94c button.colab-df-convert');\n",
       "        buttonEl.style.display =\n",
       "          google.colab.kernel.accessAllowed ? 'block' : 'none';\n",
       "\n",
       "        async function convertToInteractive(key) {\n",
       "          const element = document.querySelector('#df-64fb2196-ba3a-4e68-a052-02b182cdb94c');\n",
       "          const dataTable =\n",
       "            await google.colab.kernel.invokeFunction('convertToInteractive',\n",
       "                                                     [key], {});\n",
       "          if (!dataTable) return;\n",
       "\n",
       "          const docLinkHtml = 'Like what you see? Visit the ' +\n",
       "            '<a target=\"_blank\" href=https://colab.research.google.com/notebooks/data_table.ipynb>data table notebook</a>'\n",
       "            + ' to learn more about interactive tables.';\n",
       "          element.innerHTML = '';\n",
       "          dataTable['output_type'] = 'display_data';\n",
       "          await google.colab.output.renderOutput(dataTable, element);\n",
       "          const docLink = document.createElement('div');\n",
       "          docLink.innerHTML = docLinkHtml;\n",
       "          element.appendChild(docLink);\n",
       "        }\n",
       "      </script>\n",
       "    </div>\n",
       "  </div>\n",
       "  "
      ],
      "text/plain": [
       "   recency  history  used_discount  ...  channel            offer  conversion\n",
       "0       10   142.44              1  ...    Phone  Buy One Get One           0\n",
       "1        6   329.08              1  ...      Web         No Offer           0\n",
       "2        7   180.65              0  ...      Web  Buy One Get One           0\n",
       "3        9   675.83              1  ...      Web         Discount           0\n",
       "4        2    45.34              1  ...      Web  Buy One Get One           0\n",
       "\n",
       "[5 rows x 9 columns]"
      ]
     },
     "execution_count": 6,
     "metadata": {},
     "output_type": "execute_result"
    }
   ],
   "source": [
    "df_data.head()"
   ]
  },
  {
   "cell_type": "code",
   "execution_count": 7,
   "id": "fd1d7568",
   "metadata": {
    "colab": {
     "base_uri": "https://localhost:8080/"
    },
    "executionInfo": {
     "elapsed": 309,
     "status": "ok",
     "timestamp": 1643307002263,
     "user": {
      "displayName": "SergeyZ06",
      "photoUrl": "https://lh3.googleusercontent.com/a-/AOh14Ghpcw43E5vOkM6YFO_nn2cQzOQFArXpEDm73Kvd3g=s64",
      "userId": "16716075144815018235"
     },
     "user_tz": -180
    },
    "id": "fd1d7568",
    "outputId": "e34f33fe-6d1f-43a4-c372-50e8c4d8ef2d"
   },
   "outputs": [
    {
     "name": "stdout",
     "output_type": "stream",
     "text": [
      "<class 'pandas.core.frame.DataFrame'>\n",
      "RangeIndex: 64000 entries, 0 to 63999\n",
      "Data columns (total 9 columns):\n",
      " #   Column         Non-Null Count  Dtype  \n",
      "---  ------         --------------  -----  \n",
      " 0   recency        64000 non-null  int64  \n",
      " 1   history        64000 non-null  float64\n",
      " 2   used_discount  64000 non-null  int64  \n",
      " 3   used_bogo      64000 non-null  int64  \n",
      " 4   zip_code       64000 non-null  object \n",
      " 5   is_referral    64000 non-null  int64  \n",
      " 6   channel        64000 non-null  object \n",
      " 7   offer          64000 non-null  object \n",
      " 8   conversion     64000 non-null  int64  \n",
      "dtypes: float64(1), int64(5), object(3)\n",
      "memory usage: 4.4+ MB\n"
     ]
    }
   ],
   "source": [
    "df_data.info()"
   ]
  },
  {
   "cell_type": "markdown",
   "id": "fac20c66",
   "metadata": {
    "id": "fac20c66"
   },
   "source": [
    "## 2. там поле conversion - это целевая переменная, а offer - коммуникация. Переименовать поля (conversion -> target, offer -> treatment) и привести поле treatment к бинарному виду (1 или 0, т.е было какое-то предложение или нет) - значение No Offer означает отсутствие коммуникации, а все остальные - наличие."
   ]
  },
  {
   "cell_type": "code",
   "execution_count": 8,
   "id": "06706b69",
   "metadata": {
    "colab": {
     "base_uri": "https://localhost:8080/",
     "height": 206
    },
    "executionInfo": {
     "elapsed": 345,
     "status": "ok",
     "timestamp": 1643307010514,
     "user": {
      "displayName": "SergeyZ06",
      "photoUrl": "https://lh3.googleusercontent.com/a-/AOh14Ghpcw43E5vOkM6YFO_nn2cQzOQFArXpEDm73Kvd3g=s64",
      "userId": "16716075144815018235"
     },
     "user_tz": -180
    },
    "id": "06706b69",
    "outputId": "4e3c1174-068e-4f56-c1c0-6dff9e20c755"
   },
   "outputs": [
    {
     "data": {
      "text/html": [
       "\n",
       "  <div id=\"df-f6da83b0-4a38-4c4b-b15b-b0b53e3ba372\">\n",
       "    <div class=\"colab-df-container\">\n",
       "      <div>\n",
       "<style scoped>\n",
       "    .dataframe tbody tr th:only-of-type {\n",
       "        vertical-align: middle;\n",
       "    }\n",
       "\n",
       "    .dataframe tbody tr th {\n",
       "        vertical-align: top;\n",
       "    }\n",
       "\n",
       "    .dataframe thead th {\n",
       "        text-align: right;\n",
       "    }\n",
       "</style>\n",
       "<table border=\"1\" class=\"dataframe\">\n",
       "  <thead>\n",
       "    <tr style=\"text-align: right;\">\n",
       "      <th></th>\n",
       "      <th>recency</th>\n",
       "      <th>history</th>\n",
       "      <th>used_discount</th>\n",
       "      <th>used_bogo</th>\n",
       "      <th>zip_code</th>\n",
       "      <th>is_referral</th>\n",
       "      <th>channel</th>\n",
       "      <th>treatment</th>\n",
       "      <th>target</th>\n",
       "    </tr>\n",
       "  </thead>\n",
       "  <tbody>\n",
       "    <tr>\n",
       "      <th>0</th>\n",
       "      <td>10</td>\n",
       "      <td>142.44</td>\n",
       "      <td>1</td>\n",
       "      <td>0</td>\n",
       "      <td>Surburban</td>\n",
       "      <td>0</td>\n",
       "      <td>Phone</td>\n",
       "      <td>1</td>\n",
       "      <td>0</td>\n",
       "    </tr>\n",
       "    <tr>\n",
       "      <th>1</th>\n",
       "      <td>6</td>\n",
       "      <td>329.08</td>\n",
       "      <td>1</td>\n",
       "      <td>1</td>\n",
       "      <td>Rural</td>\n",
       "      <td>1</td>\n",
       "      <td>Web</td>\n",
       "      <td>0</td>\n",
       "      <td>0</td>\n",
       "    </tr>\n",
       "    <tr>\n",
       "      <th>2</th>\n",
       "      <td>7</td>\n",
       "      <td>180.65</td>\n",
       "      <td>0</td>\n",
       "      <td>1</td>\n",
       "      <td>Surburban</td>\n",
       "      <td>1</td>\n",
       "      <td>Web</td>\n",
       "      <td>1</td>\n",
       "      <td>0</td>\n",
       "    </tr>\n",
       "    <tr>\n",
       "      <th>3</th>\n",
       "      <td>9</td>\n",
       "      <td>675.83</td>\n",
       "      <td>1</td>\n",
       "      <td>0</td>\n",
       "      <td>Rural</td>\n",
       "      <td>1</td>\n",
       "      <td>Web</td>\n",
       "      <td>1</td>\n",
       "      <td>0</td>\n",
       "    </tr>\n",
       "    <tr>\n",
       "      <th>4</th>\n",
       "      <td>2</td>\n",
       "      <td>45.34</td>\n",
       "      <td>1</td>\n",
       "      <td>0</td>\n",
       "      <td>Urban</td>\n",
       "      <td>0</td>\n",
       "      <td>Web</td>\n",
       "      <td>1</td>\n",
       "      <td>0</td>\n",
       "    </tr>\n",
       "  </tbody>\n",
       "</table>\n",
       "</div>\n",
       "      <button class=\"colab-df-convert\" onclick=\"convertToInteractive('df-f6da83b0-4a38-4c4b-b15b-b0b53e3ba372')\"\n",
       "              title=\"Convert this dataframe to an interactive table.\"\n",
       "              style=\"display:none;\">\n",
       "        \n",
       "  <svg xmlns=\"http://www.w3.org/2000/svg\" height=\"24px\"viewBox=\"0 0 24 24\"\n",
       "       width=\"24px\">\n",
       "    <path d=\"M0 0h24v24H0V0z\" fill=\"none\"/>\n",
       "    <path d=\"M18.56 5.44l.94 2.06.94-2.06 2.06-.94-2.06-.94-.94-2.06-.94 2.06-2.06.94zm-11 1L8.5 8.5l.94-2.06 2.06-.94-2.06-.94L8.5 2.5l-.94 2.06-2.06.94zm10 10l.94 2.06.94-2.06 2.06-.94-2.06-.94-.94-2.06-.94 2.06-2.06.94z\"/><path d=\"M17.41 7.96l-1.37-1.37c-.4-.4-.92-.59-1.43-.59-.52 0-1.04.2-1.43.59L10.3 9.45l-7.72 7.72c-.78.78-.78 2.05 0 2.83L4 21.41c.39.39.9.59 1.41.59.51 0 1.02-.2 1.41-.59l7.78-7.78 2.81-2.81c.8-.78.8-2.07 0-2.86zM5.41 20L4 18.59l7.72-7.72 1.47 1.35L5.41 20z\"/>\n",
       "  </svg>\n",
       "      </button>\n",
       "      \n",
       "  <style>\n",
       "    .colab-df-container {\n",
       "      display:flex;\n",
       "      flex-wrap:wrap;\n",
       "      gap: 12px;\n",
       "    }\n",
       "\n",
       "    .colab-df-convert {\n",
       "      background-color: #E8F0FE;\n",
       "      border: none;\n",
       "      border-radius: 50%;\n",
       "      cursor: pointer;\n",
       "      display: none;\n",
       "      fill: #1967D2;\n",
       "      height: 32px;\n",
       "      padding: 0 0 0 0;\n",
       "      width: 32px;\n",
       "    }\n",
       "\n",
       "    .colab-df-convert:hover {\n",
       "      background-color: #E2EBFA;\n",
       "      box-shadow: 0px 1px 2px rgba(60, 64, 67, 0.3), 0px 1px 3px 1px rgba(60, 64, 67, 0.15);\n",
       "      fill: #174EA6;\n",
       "    }\n",
       "\n",
       "    [theme=dark] .colab-df-convert {\n",
       "      background-color: #3B4455;\n",
       "      fill: #D2E3FC;\n",
       "    }\n",
       "\n",
       "    [theme=dark] .colab-df-convert:hover {\n",
       "      background-color: #434B5C;\n",
       "      box-shadow: 0px 1px 3px 1px rgba(0, 0, 0, 0.15);\n",
       "      filter: drop-shadow(0px 1px 2px rgba(0, 0, 0, 0.3));\n",
       "      fill: #FFFFFF;\n",
       "    }\n",
       "  </style>\n",
       "\n",
       "      <script>\n",
       "        const buttonEl =\n",
       "          document.querySelector('#df-f6da83b0-4a38-4c4b-b15b-b0b53e3ba372 button.colab-df-convert');\n",
       "        buttonEl.style.display =\n",
       "          google.colab.kernel.accessAllowed ? 'block' : 'none';\n",
       "\n",
       "        async function convertToInteractive(key) {\n",
       "          const element = document.querySelector('#df-f6da83b0-4a38-4c4b-b15b-b0b53e3ba372');\n",
       "          const dataTable =\n",
       "            await google.colab.kernel.invokeFunction('convertToInteractive',\n",
       "                                                     [key], {});\n",
       "          if (!dataTable) return;\n",
       "\n",
       "          const docLinkHtml = 'Like what you see? Visit the ' +\n",
       "            '<a target=\"_blank\" href=https://colab.research.google.com/notebooks/data_table.ipynb>data table notebook</a>'\n",
       "            + ' to learn more about interactive tables.';\n",
       "          element.innerHTML = '';\n",
       "          dataTable['output_type'] = 'display_data';\n",
       "          await google.colab.output.renderOutput(dataTable, element);\n",
       "          const docLink = document.createElement('div');\n",
       "          docLink.innerHTML = docLinkHtml;\n",
       "          element.appendChild(docLink);\n",
       "        }\n",
       "      </script>\n",
       "    </div>\n",
       "  </div>\n",
       "  "
      ],
      "text/plain": [
       "   recency  history  used_discount  ...  channel treatment  target\n",
       "0       10   142.44              1  ...    Phone         1       0\n",
       "1        6   329.08              1  ...      Web         0       0\n",
       "2        7   180.65              0  ...      Web         1       0\n",
       "3        9   675.83              1  ...      Web         1       0\n",
       "4        2    45.34              1  ...      Web         1       0\n",
       "\n",
       "[5 rows x 9 columns]"
      ]
     },
     "execution_count": 8,
     "metadata": {},
     "output_type": "execute_result"
    }
   ],
   "source": [
    "df_data = df_data.rename(columns={'offer': 'treatment', 'conversion': 'target'})\n",
    "df_data['treatment'] = df_data['treatment'].apply(lambda x: 0 if x == 'No Offer' else 1)\n",
    "\n",
    "df_data.head()"
   ]
  },
  {
   "cell_type": "markdown",
   "id": "47907a42",
   "metadata": {
    "id": "47907a42"
   },
   "source": [
    "## 3. сделать разбиение набора данных не тренировочную и тестовую выборки"
   ]
  },
  {
   "cell_type": "code",
   "execution_count": 9,
   "id": "fed6cc2f",
   "metadata": {
    "executionInfo": {
     "elapsed": 1,
     "status": "ok",
     "timestamp": 1643307012504,
     "user": {
      "displayName": "SergeyZ06",
      "photoUrl": "https://lh3.googleusercontent.com/a-/AOh14Ghpcw43E5vOkM6YFO_nn2cQzOQFArXpEDm73Kvd3g=s64",
      "userId": "16716075144815018235"
     },
     "user_tz": -180
    },
    "id": "fed6cc2f"
   },
   "outputs": [],
   "source": [
    "X_train, X_test, y_train, y_test = train_test_split(df_data.drop(columns='target'), df_data['target'],\n",
    "                                                   random_state=random_state_global, stratify=df_data['target'],\n",
    "                                                   train_size=0.8)"
   ]
  },
  {
   "cell_type": "markdown",
   "id": "efad7c00",
   "metadata": {
    "id": "efad7c00"
   },
   "source": [
    "## 4. сделать feature engineering на ваше усмотрение (допускается свобода выбора методов)"
   ]
  },
  {
   "cell_type": "markdown",
   "id": "0a73873d",
   "metadata": {
    "id": "0a73873d"
   },
   "source": [
    "##### Для решения задачи планируется использовать деревья решений, поэтому предобработка не потребуется."
   ]
  },
  {
   "cell_type": "markdown",
   "id": "54020a30",
   "metadata": {
    "id": "54020a30"
   },
   "source": [
    "## 5. провести uplift-моделирование 3 способами: одна модель с признаком коммуникации (S learner), модель с трансформацией таргета (трансформация классов п. 2. 1) и вариант с двумя независимыми моделями"
   ]
  },
  {
   "cell_type": "markdown",
   "id": "f379c125",
   "metadata": {
    "id": "f379c125"
   },
   "source": [
    "### SoloModel"
   ]
  },
  {
   "cell_type": "code",
   "execution_count": null,
   "id": "d4cda3a3",
   "metadata": {
    "id": "d4cda3a3",
    "outputId": "6c25495d-4381-40d1-a4cf-744633c37fb7"
   },
   "outputs": [
    {
     "name": "stdout",
     "output_type": "stream",
     "text": [
      "Wall time: 14.8 s\n"
     ]
    },
    {
     "data": {
      "text/plain": [
       "SoloModel(estimator=<catboost.core.CatBoostClassifier object at 0x000001AAAAE51A00>)"
      ]
     },
     "execution_count": 8,
     "metadata": {},
     "output_type": "execute_result"
    }
   ],
   "source": [
    "%%time\n",
    "\n",
    "cat_features = ['zip_code', 'channel']\n",
    "params = {'cat_features': cat_features}\n",
    "\n",
    "sm = SoloModel(CatBoostClassifier(thread_count=-1, random_state=random_state_global, silent=True))\n",
    "sm.fit(X_train.drop(columns='treatment'), y_train, X_train['treatment'], estimator_fit_params=params)"
   ]
  },
  {
   "cell_type": "code",
   "execution_count": null,
   "id": "598bc12d",
   "metadata": {
    "id": "598bc12d",
    "outputId": "58661418-21a3-4a30-b34d-f69c9e5dc543"
   },
   "outputs": [
    {
     "name": "stdout",
     "output_type": "stream",
     "text": [
      "Wall time: 26.9 ms\n"
     ]
    }
   ],
   "source": [
    "%%time\n",
    "\n",
    "y_pred = sm.predict(X_test.drop(columns='treatment'))"
   ]
  },
  {
   "cell_type": "code",
   "execution_count": null,
   "id": "38adca39",
   "metadata": {
    "id": "38adca39",
    "outputId": "7c6b7136-9aaf-4b49-bdab-cb4b06b5fc68",
    "scrolled": false
   },
   "outputs": [
    {
     "data": {
      "text/plain": [
       "array([<AxesSubplot:title={'center':'Treatment predictions'}, ylabel='Probability hist'>,\n",
       "       <AxesSubplot:title={'center':'Control predictions'}>,\n",
       "       <AxesSubplot:title={'center':'Uplift predictions'}>], dtype=object)"
      ]
     },
     "execution_count": 10,
     "metadata": {},
     "output_type": "execute_result"
    },
    {
     "data": {
      "image/png": "[encoded data removed]",
      "text/plain": [
       "<Figure size 1440x504 with 3 Axes>"
      ]
     },
     "metadata": {
      "needs_background": "light"
     },
     "output_type": "display_data"
    }
   ],
   "source": [
    "plot_uplift_preds(sm.trmnt_preds_, sm.ctrl_preds_)"
   ]
  },
  {
   "cell_type": "code",
   "execution_count": null,
   "id": "9aadaa36",
   "metadata": {
    "id": "9aadaa36"
   },
   "outputs": [],
   "source": [
    "y_pred = pd.Series(data=y_pred, index=y_test.index)"
   ]
  },
  {
   "cell_type": "code",
   "execution_count": null,
   "id": "2ee3a4b6",
   "metadata": {
    "id": "2ee3a4b6",
    "outputId": "72de4f8b-390e-45fe-9f6c-52d0435c9fbc"
   },
   "outputs": [
    {
     "data": {
      "text/html": [
       "<div>\n",
       "<style scoped>\n",
       "    .dataframe tbody tr th:only-of-type {\n",
       "        vertical-align: middle;\n",
       "    }\n",
       "\n",
       "    .dataframe tbody tr th {\n",
       "        vertical-align: top;\n",
       "    }\n",
       "\n",
       "    .dataframe thead th {\n",
       "        text-align: right;\n",
       "    }\n",
       "</style>\n",
       "<table border=\"1\" class=\"dataframe\">\n",
       "  <thead>\n",
       "    <tr style=\"text-align: right;\">\n",
       "      <th></th>\n",
       "      <th>10%</th>\n",
       "      <th>20%</th>\n",
       "      <th>30%</th>\n",
       "    </tr>\n",
       "  </thead>\n",
       "  <tbody>\n",
       "    <tr>\n",
       "      <th>SoloModel</th>\n",
       "      <td>0.106596</td>\n",
       "      <td>0.0962</td>\n",
       "      <td>0.082448</td>\n",
       "    </tr>\n",
       "  </tbody>\n",
       "</table>\n",
       "</div>"
      ],
      "text/plain": [
       "                10%     20%       30%\n",
       "SoloModel  0.106596  0.0962  0.082448"
      ]
     },
     "execution_count": 12,
     "metadata": {},
     "output_type": "execute_result"
    }
   ],
   "source": [
    "df_metrics = pd.DataFrame({\n",
    "    '10%': uplift_at_k(y_true=y_test, uplift=y_pred, treatment=X_test['treatment'], k=0.1, strategy='by_group'),\n",
    "    '20%': uplift_at_k(y_true=y_test, uplift=y_pred, treatment=X_test['treatment'], k=0.2, strategy='by_group'),\n",
    "    '30%': uplift_at_k(y_true=y_test, uplift=y_pred, treatment=X_test['treatment'], k=0.3, strategy='by_group')\n",
    "}, index=['SoloModel'])\n",
    "\n",
    "df_metrics"
   ]
  },
  {
   "cell_type": "markdown",
   "id": "947f2da4",
   "metadata": {
    "id": "947f2da4"
   },
   "source": [
    "### ClassTransformation"
   ]
  },
  {
   "cell_type": "code",
   "execution_count": null,
   "id": "55a36140",
   "metadata": {
    "id": "55a36140",
    "outputId": "fa033ae3-ca10-4d5a-f5a7-fa5246c8ad35"
   },
   "outputs": [
    {
     "name": "stdout",
     "output_type": "stream",
     "text": [
      "Wall time: 14.3 s\n"
     ]
    },
    {
     "data": {
      "text/plain": [
       "ClassTransformation(estimator=<catboost.core.CatBoostClassifier object at 0x000001AAAB2B9B80>)"
      ]
     },
     "execution_count": 13,
     "metadata": {},
     "output_type": "execute_result"
    }
   ],
   "source": [
    "%%time\n",
    "\n",
    "ct = ClassTransformation(CatBoostClassifier(thread_count=-1, random_state=random_state_global, silent=True))\n",
    "ct.fit(X_train.drop(columns='treatment'), y_train, X_train['treatment'], estimator_fit_params=params)"
   ]
  },
  {
   "cell_type": "code",
   "execution_count": null,
   "id": "1dfea650",
   "metadata": {
    "id": "1dfea650",
    "outputId": "f381d801-b161-4dd6-9e9e-6e021f7d15f9"
   },
   "outputs": [
    {
     "name": "stdout",
     "output_type": "stream",
     "text": [
      "Wall time: 9.97 ms\n"
     ]
    }
   ],
   "source": [
    "%%time\n",
    "\n",
    "y_pred = ct.predict(X_test)"
   ]
  },
  {
   "cell_type": "code",
   "execution_count": null,
   "id": "8ad13a7f",
   "metadata": {
    "id": "8ad13a7f",
    "outputId": "5c1afe62-ca2a-4807-e496-c99062902eae"
   },
   "outputs": [
    {
     "data": {
      "text/html": [
       "<div>\n",
       "<style scoped>\n",
       "    .dataframe tbody tr th:only-of-type {\n",
       "        vertical-align: middle;\n",
       "    }\n",
       "\n",
       "    .dataframe tbody tr th {\n",
       "        vertical-align: top;\n",
       "    }\n",
       "\n",
       "    .dataframe thead th {\n",
       "        text-align: right;\n",
       "    }\n",
       "</style>\n",
       "<table border=\"1\" class=\"dataframe\">\n",
       "  <thead>\n",
       "    <tr style=\"text-align: right;\">\n",
       "      <th></th>\n",
       "      <th>10%</th>\n",
       "      <th>20%</th>\n",
       "      <th>30%</th>\n",
       "    </tr>\n",
       "  </thead>\n",
       "  <tbody>\n",
       "    <tr>\n",
       "      <th>SoloModel</th>\n",
       "      <td>0.106596</td>\n",
       "      <td>0.096200</td>\n",
       "      <td>0.082448</td>\n",
       "    </tr>\n",
       "    <tr>\n",
       "      <th>ClassTransformation</th>\n",
       "      <td>0.086917</td>\n",
       "      <td>0.082061</td>\n",
       "      <td>0.074738</td>\n",
       "    </tr>\n",
       "  </tbody>\n",
       "</table>\n",
       "</div>"
      ],
      "text/plain": [
       "                          10%       20%       30%\n",
       "SoloModel            0.106596  0.096200  0.082448\n",
       "ClassTransformation  0.086917  0.082061  0.074738"
      ]
     },
     "execution_count": 15,
     "metadata": {},
     "output_type": "execute_result"
    }
   ],
   "source": [
    "df_metrics.loc['ClassTransformation', :] = [\n",
    "    uplift_at_k(y_true=y_test, uplift=y_pred, treatment=X_test['treatment'], k=0.1, strategy='by_group'),\n",
    "    uplift_at_k(y_true=y_test, uplift=y_pred, treatment=X_test['treatment'], k=0.2, strategy='by_group'),\n",
    "    uplift_at_k(y_true=y_test, uplift=y_pred, treatment=X_test['treatment'], k=0.3, strategy='by_group')\n",
    "]\n",
    "\n",
    "df_metrics"
   ]
  },
  {
   "cell_type": "markdown",
   "id": "cf7d13b2",
   "metadata": {
    "id": "cf7d13b2"
   },
   "source": [
    "### TwoModels"
   ]
  },
  {
   "cell_type": "code",
   "execution_count": null,
   "id": "30666f3c",
   "metadata": {
    "id": "30666f3c",
    "outputId": "7bc1167d-e3b3-4fa2-a50b-2dc7c37dbd1b"
   },
   "outputs": [
    {
     "name": "stdout",
     "output_type": "stream",
     "text": [
      "Wall time: 21.6 s\n"
     ]
    },
    {
     "data": {
      "text/plain": [
       "TwoModels(estimator_ctrl=<catboost.core.CatBoostClassifier object at 0x000001AAAB2CA670>,\n",
       "          estimator_trmnt=<catboost.core.CatBoostClassifier object at 0x000001AAAB2CA790>)"
      ]
     },
     "execution_count": 16,
     "metadata": {},
     "output_type": "execute_result"
    }
   ],
   "source": [
    "%%time\n",
    "\n",
    "tm = TwoModels(CatBoostClassifier(thread_count=-1, random_state=random_state_global, silent=True),\n",
    "              CatBoostClassifier(thread_count=-1, random_state=random_state_global, silent=True))\n",
    "\n",
    "tm.fit(X_train.drop(columns='treatment'), y_train, X_train['treatment'], params, params)"
   ]
  },
  {
   "cell_type": "code",
   "execution_count": null,
   "id": "56cdd1d4",
   "metadata": {
    "id": "56cdd1d4",
    "outputId": "1cd8a2bb-c8bf-4fe6-b19d-ff72cc3d7879"
   },
   "outputs": [
    {
     "name": "stdout",
     "output_type": "stream",
     "text": [
      "Wall time: 25.9 ms\n"
     ]
    }
   ],
   "source": [
    "%%time\n",
    "\n",
    "y_pred = tm.predict(X_test)"
   ]
  },
  {
   "cell_type": "code",
   "execution_count": null,
   "id": "85ab1e29",
   "metadata": {
    "id": "85ab1e29",
    "outputId": "896b2daf-3902-4c32-f84a-1f8b329a0436"
   },
   "outputs": [
    {
     "data": {
      "text/plain": [
       "array([<AxesSubplot:title={'center':'Treatment predictions'}, ylabel='Probability hist'>,\n",
       "       <AxesSubplot:title={'center':'Control predictions'}>,\n",
       "       <AxesSubplot:title={'center':'Uplift predictions'}>], dtype=object)"
      ]
     },
     "execution_count": 18,
     "metadata": {},
     "output_type": "execute_result"
    },
    {
     "data": {
      "image/png": "[encoded data removed]",
      "text/plain": [
       "<Figure size 1440x504 with 3 Axes>"
      ]
     },
     "metadata": {
      "needs_background": "light"
     },
     "output_type": "display_data"
    }
   ],
   "source": [
    "plot_uplift_preds(tm.trmnt_preds_, tm.ctrl_preds_)"
   ]
  },
  {
   "cell_type": "code",
   "execution_count": null,
   "id": "ff1bb965",
   "metadata": {
    "id": "ff1bb965",
    "outputId": "36c87fa1-be0e-47d0-db7f-5693ec6ebf63"
   },
   "outputs": [
    {
     "data": {
      "text/html": [
       "<div>\n",
       "<style scoped>\n",
       "    .dataframe tbody tr th:only-of-type {\n",
       "        vertical-align: middle;\n",
       "    }\n",
       "\n",
       "    .dataframe tbody tr th {\n",
       "        vertical-align: top;\n",
       "    }\n",
       "\n",
       "    .dataframe thead th {\n",
       "        text-align: right;\n",
       "    }\n",
       "</style>\n",
       "<table border=\"1\" class=\"dataframe\">\n",
       "  <thead>\n",
       "    <tr style=\"text-align: right;\">\n",
       "      <th></th>\n",
       "      <th>10%</th>\n",
       "      <th>20%</th>\n",
       "      <th>30%</th>\n",
       "    </tr>\n",
       "  </thead>\n",
       "  <tbody>\n",
       "    <tr>\n",
       "      <th>SoloModel</th>\n",
       "      <td>0.106596</td>\n",
       "      <td>0.096200</td>\n",
       "      <td>0.082448</td>\n",
       "    </tr>\n",
       "    <tr>\n",
       "      <th>ClassTransformation</th>\n",
       "      <td>0.086917</td>\n",
       "      <td>0.082061</td>\n",
       "      <td>0.074738</td>\n",
       "    </tr>\n",
       "    <tr>\n",
       "      <th>TwoModels</th>\n",
       "      <td>0.102364</td>\n",
       "      <td>0.088145</td>\n",
       "      <td>0.082602</td>\n",
       "    </tr>\n",
       "  </tbody>\n",
       "</table>\n",
       "</div>"
      ],
      "text/plain": [
       "                          10%       20%       30%\n",
       "SoloModel            0.106596  0.096200  0.082448\n",
       "ClassTransformation  0.086917  0.082061  0.074738\n",
       "TwoModels            0.102364  0.088145  0.082602"
      ]
     },
     "execution_count": 19,
     "metadata": {},
     "output_type": "execute_result"
    }
   ],
   "source": [
    "df_metrics.loc['TwoModels', :] = [\n",
    "    uplift_at_k(y_true=y_test, uplift=y_pred, treatment=X_test['treatment'], k=0.1, strategy='by_group'),\n",
    "    uplift_at_k(y_true=y_test, uplift=y_pred, treatment=X_test['treatment'], k=0.2, strategy='by_group'),\n",
    "    uplift_at_k(y_true=y_test, uplift=y_pred, treatment=X_test['treatment'], k=0.3, strategy='by_group')\n",
    "]\n",
    "\n",
    "df_metrics"
   ]
  },
  {
   "cell_type": "markdown",
   "id": "386ccf1c",
   "metadata": {
    "id": "386ccf1c"
   },
   "source": [
    "## 6. в конце вывести единую таблицу сравнения метрик uplift@10%, uplift@20% этих 3 моделей"
   ]
  },
  {
   "cell_type": "code",
   "execution_count": null,
   "id": "fc615755",
   "metadata": {
    "id": "fc615755",
    "outputId": "cefa99e3-3942-42d7-c73d-ff61ed0dce9d"
   },
   "outputs": [
    {
     "data": {
      "text/html": [
       "<div>\n",
       "<style scoped>\n",
       "    .dataframe tbody tr th:only-of-type {\n",
       "        vertical-align: middle;\n",
       "    }\n",
       "\n",
       "    .dataframe tbody tr th {\n",
       "        vertical-align: top;\n",
       "    }\n",
       "\n",
       "    .dataframe thead th {\n",
       "        text-align: right;\n",
       "    }\n",
       "</style>\n",
       "<table border=\"1\" class=\"dataframe\">\n",
       "  <thead>\n",
       "    <tr style=\"text-align: right;\">\n",
       "      <th></th>\n",
       "      <th>10%</th>\n",
       "      <th>20%</th>\n",
       "      <th>30%</th>\n",
       "    </tr>\n",
       "  </thead>\n",
       "  <tbody>\n",
       "    <tr>\n",
       "      <th>SoloModel</th>\n",
       "      <td>0.106596</td>\n",
       "      <td>0.096200</td>\n",
       "      <td>0.082448</td>\n",
       "    </tr>\n",
       "    <tr>\n",
       "      <th>ClassTransformation</th>\n",
       "      <td>0.086917</td>\n",
       "      <td>0.082061</td>\n",
       "      <td>0.074738</td>\n",
       "    </tr>\n",
       "    <tr>\n",
       "      <th>TwoModels</th>\n",
       "      <td>0.102364</td>\n",
       "      <td>0.088145</td>\n",
       "      <td>0.082602</td>\n",
       "    </tr>\n",
       "  </tbody>\n",
       "</table>\n",
       "</div>"
      ],
      "text/plain": [
       "                          10%       20%       30%\n",
       "SoloModel            0.106596  0.096200  0.082448\n",
       "ClassTransformation  0.086917  0.082061  0.074738\n",
       "TwoModels            0.102364  0.088145  0.082602"
      ]
     },
     "execution_count": 20,
     "metadata": {},
     "output_type": "execute_result"
    }
   ],
   "source": [
    "df_metrics"
   ]
  },
  {
   "cell_type": "markdown",
   "id": "989d91eb",
   "metadata": {
    "id": "989d91eb"
   },
   "source": [
    "##### Подход с одной моделью показал наиболее уверенные результаты."
   ]
  },
  {
   "cell_type": "markdown",
   "id": "61fb6db8",
   "metadata": {
    "id": "61fb6db8"
   },
   "source": [
    "## 7. построить модель UpliftTreeClassifier и попытаться описать словами полученное дерево"
   ]
  },
  {
   "cell_type": "code",
   "execution_count": 10,
   "id": "ldGGyJHImGu7",
   "metadata": {
    "colab": {
     "base_uri": "https://localhost:8080/",
     "height": 206
    },
    "executionInfo": {
     "elapsed": 342,
     "status": "ok",
     "timestamp": 1643307063313,
     "user": {
      "displayName": "SergeyZ06",
      "photoUrl": "https://lh3.googleusercontent.com/a-/AOh14Ghpcw43E5vOkM6YFO_nn2cQzOQFArXpEDm73Kvd3g=s64",
      "userId": "16716075144815018235"
     },
     "user_tz": -180
    },
    "id": "ldGGyJHImGu7",
    "outputId": "2b2aa86f-cd93-425f-e5a0-e454f36f117e"
   },
   "outputs": [
    {
     "data": {
      "text/html": [
       "\n",
       "  <div id=\"df-70ca2654-007d-44e4-bfb2-b017b188f8ce\">\n",
       "    <div class=\"colab-df-container\">\n",
       "      <div>\n",
       "<style scoped>\n",
       "    .dataframe tbody tr th:only-of-type {\n",
       "        vertical-align: middle;\n",
       "    }\n",
       "\n",
       "    .dataframe tbody tr th {\n",
       "        vertical-align: top;\n",
       "    }\n",
       "\n",
       "    .dataframe thead th {\n",
       "        text-align: right;\n",
       "    }\n",
       "</style>\n",
       "<table border=\"1\" class=\"dataframe\">\n",
       "  <thead>\n",
       "    <tr style=\"text-align: right;\">\n",
       "      <th></th>\n",
       "      <th>recency</th>\n",
       "      <th>history</th>\n",
       "      <th>used_discount</th>\n",
       "      <th>used_bogo</th>\n",
       "      <th>is_referral</th>\n",
       "      <th>treatment</th>\n",
       "      <th>zip_code_Rural</th>\n",
       "      <th>zip_code_Surburban</th>\n",
       "      <th>zip_code_Urban</th>\n",
       "      <th>channel_Multichannel</th>\n",
       "      <th>channel_Phone</th>\n",
       "      <th>channel_Web</th>\n",
       "    </tr>\n",
       "  </thead>\n",
       "  <tbody>\n",
       "    <tr>\n",
       "      <th>7330</th>\n",
       "      <td>10</td>\n",
       "      <td>125.61</td>\n",
       "      <td>1</td>\n",
       "      <td>0</td>\n",
       "      <td>1</td>\n",
       "      <td>1</td>\n",
       "      <td>0</td>\n",
       "      <td>1</td>\n",
       "      <td>0</td>\n",
       "      <td>0</td>\n",
       "      <td>0</td>\n",
       "      <td>1</td>\n",
       "    </tr>\n",
       "    <tr>\n",
       "      <th>39158</th>\n",
       "      <td>11</td>\n",
       "      <td>456.71</td>\n",
       "      <td>1</td>\n",
       "      <td>0</td>\n",
       "      <td>0</td>\n",
       "      <td>1</td>\n",
       "      <td>0</td>\n",
       "      <td>0</td>\n",
       "      <td>1</td>\n",
       "      <td>0</td>\n",
       "      <td>1</td>\n",
       "      <td>0</td>\n",
       "    </tr>\n",
       "    <tr>\n",
       "      <th>41586</th>\n",
       "      <td>1</td>\n",
       "      <td>29.99</td>\n",
       "      <td>0</td>\n",
       "      <td>1</td>\n",
       "      <td>1</td>\n",
       "      <td>1</td>\n",
       "      <td>0</td>\n",
       "      <td>0</td>\n",
       "      <td>1</td>\n",
       "      <td>0</td>\n",
       "      <td>1</td>\n",
       "      <td>0</td>\n",
       "    </tr>\n",
       "    <tr>\n",
       "      <th>24735</th>\n",
       "      <td>10</td>\n",
       "      <td>29.99</td>\n",
       "      <td>0</td>\n",
       "      <td>1</td>\n",
       "      <td>0</td>\n",
       "      <td>1</td>\n",
       "      <td>0</td>\n",
       "      <td>0</td>\n",
       "      <td>1</td>\n",
       "      <td>0</td>\n",
       "      <td>0</td>\n",
       "      <td>1</td>\n",
       "    </tr>\n",
       "    <tr>\n",
       "      <th>58241</th>\n",
       "      <td>10</td>\n",
       "      <td>46.05</td>\n",
       "      <td>1</td>\n",
       "      <td>0</td>\n",
       "      <td>0</td>\n",
       "      <td>1</td>\n",
       "      <td>0</td>\n",
       "      <td>0</td>\n",
       "      <td>1</td>\n",
       "      <td>0</td>\n",
       "      <td>0</td>\n",
       "      <td>1</td>\n",
       "    </tr>\n",
       "  </tbody>\n",
       "</table>\n",
       "</div>\n",
       "      <button class=\"colab-df-convert\" onclick=\"convertToInteractive('df-70ca2654-007d-44e4-bfb2-b017b188f8ce')\"\n",
       "              title=\"Convert this dataframe to an interactive table.\"\n",
       "              style=\"display:none;\">\n",
       "        \n",
       "  <svg xmlns=\"http://www.w3.org/2000/svg\" height=\"24px\"viewBox=\"0 0 24 24\"\n",
       "       width=\"24px\">\n",
       "    <path d=\"M0 0h24v24H0V0z\" fill=\"none\"/>\n",
       "    <path d=\"M18.56 5.44l.94 2.06.94-2.06 2.06-.94-2.06-.94-.94-2.06-.94 2.06-2.06.94zm-11 1L8.5 8.5l.94-2.06 2.06-.94-2.06-.94L8.5 2.5l-.94 2.06-2.06.94zm10 10l.94 2.06.94-2.06 2.06-.94-2.06-.94-.94-2.06-.94 2.06-2.06.94z\"/><path d=\"M17.41 7.96l-1.37-1.37c-.4-.4-.92-.59-1.43-.59-.52 0-1.04.2-1.43.59L10.3 9.45l-7.72 7.72c-.78.78-.78 2.05 0 2.83L4 21.41c.39.39.9.59 1.41.59.51 0 1.02-.2 1.41-.59l7.78-7.78 2.81-2.81c.8-.78.8-2.07 0-2.86zM5.41 20L4 18.59l7.72-7.72 1.47 1.35L5.41 20z\"/>\n",
       "  </svg>\n",
       "      </button>\n",
       "      \n",
       "  <style>\n",
       "    .colab-df-container {\n",
       "      display:flex;\n",
       "      flex-wrap:wrap;\n",
       "      gap: 12px;\n",
       "    }\n",
       "\n",
       "    .colab-df-convert {\n",
       "      background-color: #E8F0FE;\n",
       "      border: none;\n",
       "      border-radius: 50%;\n",
       "      cursor: pointer;\n",
       "      display: none;\n",
       "      fill: #1967D2;\n",
       "      height: 32px;\n",
       "      padding: 0 0 0 0;\n",
       "      width: 32px;\n",
       "    }\n",
       "\n",
       "    .colab-df-convert:hover {\n",
       "      background-color: #E2EBFA;\n",
       "      box-shadow: 0px 1px 2px rgba(60, 64, 67, 0.3), 0px 1px 3px 1px rgba(60, 64, 67, 0.15);\n",
       "      fill: #174EA6;\n",
       "    }\n",
       "\n",
       "    [theme=dark] .colab-df-convert {\n",
       "      background-color: #3B4455;\n",
       "      fill: #D2E3FC;\n",
       "    }\n",
       "\n",
       "    [theme=dark] .colab-df-convert:hover {\n",
       "      background-color: #434B5C;\n",
       "      box-shadow: 0px 1px 3px 1px rgba(0, 0, 0, 0.15);\n",
       "      filter: drop-shadow(0px 1px 2px rgba(0, 0, 0, 0.3));\n",
       "      fill: #FFFFFF;\n",
       "    }\n",
       "  </style>\n",
       "\n",
       "      <script>\n",
       "        const buttonEl =\n",
       "          document.querySelector('#df-70ca2654-007d-44e4-bfb2-b017b188f8ce button.colab-df-convert');\n",
       "        buttonEl.style.display =\n",
       "          google.colab.kernel.accessAllowed ? 'block' : 'none';\n",
       "\n",
       "        async function convertToInteractive(key) {\n",
       "          const element = document.querySelector('#df-70ca2654-007d-44e4-bfb2-b017b188f8ce');\n",
       "          const dataTable =\n",
       "            await google.colab.kernel.invokeFunction('convertToInteractive',\n",
       "                                                     [key], {});\n",
       "          if (!dataTable) return;\n",
       "\n",
       "          const docLinkHtml = 'Like what you see? Visit the ' +\n",
       "            '<a target=\"_blank\" href=https://colab.research.google.com/notebooks/data_table.ipynb>data table notebook</a>'\n",
       "            + ' to learn more about interactive tables.';\n",
       "          element.innerHTML = '';\n",
       "          dataTable['output_type'] = 'display_data';\n",
       "          await google.colab.output.renderOutput(dataTable, element);\n",
       "          const docLink = document.createElement('div');\n",
       "          docLink.innerHTML = docLinkHtml;\n",
       "          element.appendChild(docLink);\n",
       "        }\n",
       "      </script>\n",
       "    </div>\n",
       "  </div>\n",
       "  "
      ],
      "text/plain": [
       "       recency  history  ...  channel_Phone  channel_Web\n",
       "7330        10   125.61  ...              0            1\n",
       "39158       11   456.71  ...              1            0\n",
       "41586        1    29.99  ...              1            0\n",
       "24735       10    29.99  ...              0            1\n",
       "58241       10    46.05  ...              0            1\n",
       "\n",
       "[5 rows x 12 columns]"
      ]
     },
     "execution_count": 10,
     "metadata": {},
     "output_type": "execute_result"
    }
   ],
   "source": [
    "features = [col for col in X_train]\n",
    "\n",
    "X_train_tree = X_train.copy()\n",
    "X_train_tree = pd.concat([X_train_tree.drop(columns=['zip_code', 'channel']),\n",
    "                          pd.get_dummies(X_train_tree[['zip_code', 'channel']])], axis=1)\n",
    "\n",
    "X_train_tree.head()"
   ]
  },
  {
   "cell_type": "code",
   "execution_count": 14,
   "id": "wfhNhsA4lZHV",
   "metadata": {
    "colab": {
     "base_uri": "https://localhost:8080/",
     "height": 149,
     "output_embedded_package_id": "1RF0VXQsBkbjTH03nD7v6EiqLyTSSW0BP"
    },
    "executionInfo": {
     "elapsed": 15789,
     "status": "ok",
     "timestamp": 1643307357257,
     "user": {
      "displayName": "SergeyZ06",
      "photoUrl": "https://lh3.googleusercontent.com/a-/AOh14Ghpcw43E5vOkM6YFO_nn2cQzOQFArXpEDm73Kvd3g=s64",
      "userId": "16716075144815018235"
     },
     "user_tz": -180
    },
    "id": "wfhNhsA4lZHV",
    "outputId": "0c4d0f49-6e32-459e-9038-019486cf00fb"
   },
   "outputs": [
    {
     "data": {
      "text/plain": [
       "Output hidden; open in https://colab.research.google.com to view."
      ]
     },
     "metadata": {},
     "output_type": "display_data"
    }
   ],
   "source": [
    "%%time\n",
    "\n",
    "uplift_model = UpliftTreeClassifier(max_depth=8, min_samples_leaf=200, min_samples_treatment=50,\n",
    "                                    n_reg=100, evaluationFunction='KL', control_name='control')\n",
    "\n",
    "uplift_model.fit(X_train_tree.drop(columns=['treatment']),\n",
    "                 treatment=X_train_tree['treatment'].map({1: 'treatment1', 0: 'control'}).values,\n",
    "                 y=y_train)\n",
    "\n",
    "graph = uplift_tree_plot(uplift_model.fitted_uplift_tree, features)\n",
    "Image(graph.create_png())"
   ]
  },
  {
   "cell_type": "markdown",
   "id": "i_5IWCDswrpi",
   "metadata": {
    "id": "i_5IWCDswrpi"
   },
   "source": [
    "##### Полученная схема слишком громоздка, что осложняет её визуальный анализ внутри ноутбука, поэтому она была сохранена в отдельный файл \"UpliftTreeClassifier.png\".\n",
    "\n",
    "##### Схема представляет собой классический граф дерева решений с несколькими отличаями в узлах. Помимо размера выборки, попавшей в узел, признака и порога отсечения, степени неясности здесь также указаны \"uplift score\", \"validation uplift score\" и \"uplift p_value\", что позволяет оценить выборку в каждом узле с точки зрения показателя uplift. Дерево имеет глубину 8 и множество разбиений. Первые три разбиения были сделаны по признакам \"zip_code\", \"recency\", \"used_discount\", что говорит о том, что данные признаки были выбраны моделью как наиболее информативные. Чуть менее половины узлов выделены зелёным цветом, подробный анализ показал, что данные узлы отличаются наименьшей энтропией. Также чуть менее половины конечных узлов - листьев - имеют зелёный цвет, что можно интерпретировать как степень уверенности модели."
   ]
  },
  {
   "cell_type": "markdown",
   "id": "7b389c6e",
   "metadata": {
    "id": "7b389c6e"
   },
   "source": [
    "## 8. (опционально) для модели S learner (модель с дополнительным признаком коммуникации) построить зависимость таргета (конверсии - поле conversion) от значения uplift: 1) сделать прогноз и получить uplift для тестовой выборки 2) отсортировать тестовую выборку по uplift по убыванию 3) разбить на децили (pandas qcut вам в помощь) 4) для каждого дециля посчитать среднюю conversion"
   ]
  },
  {
   "cell_type": "markdown",
   "id": "0cdc1d19",
   "metadata": {
    "id": "0cdc1d19"
   },
   "source": [
    "### 1) сделать прогноз и получить uplift для тестовой выборки"
   ]
  },
  {
   "cell_type": "code",
   "execution_count": null,
   "id": "010d0704",
   "metadata": {
    "id": "010d0704",
    "outputId": "47fc0fa9-9c6c-43a8-f30c-043590a95e41"
   },
   "outputs": [
    {
     "name": "stdout",
     "output_type": "stream",
     "text": [
      "Wall time: 14.5 s\n"
     ]
    },
    {
     "data": {
      "text/plain": [
       "SoloModel(estimator=<catboost.core.CatBoostClassifier object at 0x000001AAAB3F04C0>)"
      ]
     },
     "execution_count": 21,
     "metadata": {},
     "output_type": "execute_result"
    }
   ],
   "source": [
    "%%time\n",
    "\n",
    "cat_features = ['zip_code', 'channel']\n",
    "params = {'cat_features': cat_features}\n",
    "\n",
    "sm = SoloModel(CatBoostClassifier(thread_count=-1, random_state=random_state_global, silent=True))\n",
    "sm.fit(X_train.drop(columns='treatment'), y_train, X_train['treatment'], estimator_fit_params=params)"
   ]
  },
  {
   "cell_type": "code",
   "execution_count": null,
   "id": "d725b76a",
   "metadata": {
    "id": "d725b76a",
    "outputId": "83833076-8627-4c02-ecdd-2d67e27c39a0"
   },
   "outputs": [
    {
     "name": "stdout",
     "output_type": "stream",
     "text": [
      "Wall time: 75.8 ms\n"
     ]
    }
   ],
   "source": [
    "%%time\n",
    "\n",
    "y_pred = sm.predict(X_train.drop(columns='treatment'))"
   ]
  },
  {
   "cell_type": "markdown",
   "id": "768f0e92",
   "metadata": {
    "id": "768f0e92"
   },
   "source": [
    "### 2) отсортировать тестовую выборку по uplift по убыванию"
   ]
  },
  {
   "cell_type": "code",
   "execution_count": null,
   "id": "af60bf56",
   "metadata": {
    "id": "af60bf56",
    "outputId": "679b4328-6b5c-4d02-a308-b9d46fa82e51"
   },
   "outputs": [
    {
     "data": {
      "text/html": [
       "<div>\n",
       "<style scoped>\n",
       "    .dataframe tbody tr th:only-of-type {\n",
       "        vertical-align: middle;\n",
       "    }\n",
       "\n",
       "    .dataframe tbody tr th {\n",
       "        vertical-align: top;\n",
       "    }\n",
       "\n",
       "    .dataframe thead th {\n",
       "        text-align: right;\n",
       "    }\n",
       "</style>\n",
       "<table border=\"1\" class=\"dataframe\">\n",
       "  <thead>\n",
       "    <tr style=\"text-align: right;\">\n",
       "      <th></th>\n",
       "      <th>y_pred</th>\n",
       "      <th>target</th>\n",
       "    </tr>\n",
       "  </thead>\n",
       "  <tbody>\n",
       "    <tr>\n",
       "      <th>0</th>\n",
       "      <td>0.368496</td>\n",
       "      <td>1</td>\n",
       "    </tr>\n",
       "    <tr>\n",
       "      <th>1</th>\n",
       "      <td>0.288708</td>\n",
       "      <td>0</td>\n",
       "    </tr>\n",
       "    <tr>\n",
       "      <th>2</th>\n",
       "      <td>0.282217</td>\n",
       "      <td>0</td>\n",
       "    </tr>\n",
       "    <tr>\n",
       "      <th>3</th>\n",
       "      <td>0.265091</td>\n",
       "      <td>1</td>\n",
       "    </tr>\n",
       "    <tr>\n",
       "      <th>4</th>\n",
       "      <td>0.262846</td>\n",
       "      <td>1</td>\n",
       "    </tr>\n",
       "  </tbody>\n",
       "</table>\n",
       "</div>"
      ],
      "text/plain": [
       "     y_pred  target\n",
       "0  0.368496       1\n",
       "1  0.288708       0\n",
       "2  0.282217       0\n",
       "3  0.265091       1\n",
       "4  0.262846       1"
      ]
     },
     "execution_count": 23,
     "metadata": {},
     "output_type": "execute_result"
    }
   ],
   "source": [
    "df_dependency = pd.DataFrame(data=y_pred, index=X_train.index, columns=['y_pred'])\n",
    "df_dependency['target'] = y_train\n",
    "df_dependency = df_dependency.sort_values(by=['y_pred'], ascending=False)\n",
    "df_dependency = df_dependency.reset_index(drop=True)\n",
    "\n",
    "df_dependency.head()"
   ]
  },
  {
   "cell_type": "markdown",
   "id": "003ef56f",
   "metadata": {
    "id": "003ef56f"
   },
   "source": [
    "### 3) разбить на децили (pandas qcut вам в помощь)"
   ]
  },
  {
   "cell_type": "code",
   "execution_count": null,
   "id": "312fd521",
   "metadata": {
    "id": "312fd521",
    "outputId": "8804f295-4556-4de3-edc4-987c1da09128"
   },
   "outputs": [
    {
     "data": {
      "text/html": [
       "<div>\n",
       "<style scoped>\n",
       "    .dataframe tbody tr th:only-of-type {\n",
       "        vertical-align: middle;\n",
       "    }\n",
       "\n",
       "    .dataframe tbody tr th {\n",
       "        vertical-align: top;\n",
       "    }\n",
       "\n",
       "    .dataframe thead th {\n",
       "        text-align: right;\n",
       "    }\n",
       "</style>\n",
       "<table border=\"1\" class=\"dataframe\">\n",
       "  <thead>\n",
       "    <tr style=\"text-align: right;\">\n",
       "      <th></th>\n",
       "      <th>y_pred</th>\n",
       "      <th>target</th>\n",
       "      <th>deciles</th>\n",
       "    </tr>\n",
       "  </thead>\n",
       "  <tbody>\n",
       "    <tr>\n",
       "      <th>0</th>\n",
       "      <td>0.368496</td>\n",
       "      <td>1</td>\n",
       "      <td>(0.097, 0.368]</td>\n",
       "    </tr>\n",
       "    <tr>\n",
       "      <th>1</th>\n",
       "      <td>0.288708</td>\n",
       "      <td>0</td>\n",
       "      <td>(0.097, 0.368]</td>\n",
       "    </tr>\n",
       "    <tr>\n",
       "      <th>2</th>\n",
       "      <td>0.282217</td>\n",
       "      <td>0</td>\n",
       "      <td>(0.097, 0.368]</td>\n",
       "    </tr>\n",
       "    <tr>\n",
       "      <th>3</th>\n",
       "      <td>0.265091</td>\n",
       "      <td>1</td>\n",
       "      <td>(0.097, 0.368]</td>\n",
       "    </tr>\n",
       "    <tr>\n",
       "      <th>4</th>\n",
       "      <td>0.262846</td>\n",
       "      <td>1</td>\n",
       "      <td>(0.097, 0.368]</td>\n",
       "    </tr>\n",
       "  </tbody>\n",
       "</table>\n",
       "</div>"
      ],
      "text/plain": [
       "     y_pred  target         deciles\n",
       "0  0.368496       1  (0.097, 0.368]\n",
       "1  0.288708       0  (0.097, 0.368]\n",
       "2  0.282217       0  (0.097, 0.368]\n",
       "3  0.265091       1  (0.097, 0.368]\n",
       "4  0.262846       1  (0.097, 0.368]"
      ]
     },
     "execution_count": 24,
     "metadata": {},
     "output_type": "execute_result"
    }
   ],
   "source": [
    "df_dependency['deciles'] = pd.qcut(df_dependency['y_pred'], q=10)\n",
    "\n",
    "df_dependency.head()"
   ]
  },
  {
   "cell_type": "markdown",
   "id": "38b4f274",
   "metadata": {
    "id": "38b4f274"
   },
   "source": [
    "### 4) для каждого дециля посчитать среднюю conversion"
   ]
  },
  {
   "cell_type": "code",
   "execution_count": null,
   "id": "e5168988",
   "metadata": {
    "id": "e5168988",
    "outputId": "23449f13-ac18-474f-f1b3-ab674c41acac"
   },
   "outputs": [
    {
     "data": {
      "text/plain": [
       "deciles\n",
       "(-0.0921, 0.0274]    0.132031\n",
       "(0.0274, 0.0349]     0.111523\n",
       "(0.0349, 0.0413]     0.119531\n",
       "(0.0413, 0.0482]     0.126953\n",
       "(0.0482, 0.0559]     0.118750\n",
       "(0.0559, 0.0644]     0.136523\n",
       "(0.0644, 0.0727]     0.135156\n",
       "(0.0727, 0.082]      0.161719\n",
       "(0.082, 0.097]       0.176172\n",
       "(0.097, 0.368]       0.249414\n",
       "Name: target, dtype: float64"
      ]
     },
     "execution_count": 25,
     "metadata": {},
     "output_type": "execute_result"
    }
   ],
   "source": [
    "df_dependency.groupby(by=['deciles'])['target'].mean()"
   ]
  },
  {
   "cell_type": "markdown",
   "id": "1faa55ad",
   "metadata": {
    "id": "1faa55ad"
   },
   "source": [
    "##### Для первого дециля наблюдается погрешность: модель спрогнозировала отрицательные значения показателя uplift, однако фактически среднее значение целевой переменной превышает значения некоторых других децилей.\n",
    "##### Наиболее лучшим образом модель справилась с тремя последними децилями: наивысшие интервалы показателя uplift соответствуют наивысшим средним значениям целевой переменной. Таким образом, модель сумела выявить 30% клиентов, которые с наибольшей вероятностью совершат целевое действие.\n",
    "##### Данные результаты были получены при работе модели с данными, на которых проводилось обучение модели. Таким образом, качество пронозирования на новых данных может быть ниже."
   ]
  },
  {
   "cell_type": "markdown",
   "id": "27da6902",
   "metadata": {
    "id": "27da6902"
   },
   "source": [
    "## 9. (опционально) построить модель UpliftRandomForestClassifier и попытаться описать словами полученное дерево"
   ]
  },
  {
   "cell_type": "code",
   "execution_count": 22,
   "id": "a713be69",
   "metadata": {
    "colab": {
     "base_uri": "https://localhost:8080/",
     "height": 139,
     "output_embedded_package_id": "1-Sg-BHOYLwPBXwM9F2jbnVI_vnbWtrtW"
    },
    "executionInfo": {
     "elapsed": 34857,
     "status": "ok",
     "timestamp": 1643308605747,
     "user": {
      "displayName": "SergeyZ06",
      "photoUrl": "https://lh3.googleusercontent.com/a-/AOh14Ghpcw43E5vOkM6YFO_nn2cQzOQFArXpEDm73Kvd3g=s64",
      "userId": "16716075144815018235"
     },
     "user_tz": -180
    },
    "id": "a713be69",
    "outputId": "a7cf22b2-2e96-4f14-960b-3d36b7a93e35"
   },
   "outputs": [
    {
     "data": {
      "text/plain": [
       "Output hidden; open in https://colab.research.google.com to view."
      ]
     },
     "metadata": {},
     "output_type": "display_data"
    }
   ],
   "source": [
    "%%time\n",
    "\n",
    "uplift_model_2 = UpliftRandomForestClassifier(max_depth=8, min_samples_leaf=200, min_samples_treatment=50,\n",
    "                                              n_reg=100, evaluationFunction='KL', control_name='control')\n",
    "\n",
    "uplift_model_2.fit(X_train_tree.drop(columns=['treatment']).values,\n",
    "                 treatment=X_train_tree['treatment'].map({1: 'treatment1', 0: 'control'}).values,\n",
    "                 y=y_train.values)\n",
    "\n",
    "graph = uplift_tree_plot(uplift_model_2.uplift_forest[0].fitted_uplift_tree, features)\n",
    "Image(graph.create_png())"
   ]
  },
  {
   "cell_type": "markdown",
   "id": "Xe7nR5kw1A6R",
   "metadata": {
    "id": "Xe7nR5kw1A6R"
   },
   "source": [
    "##### Полученная схема слишком громоздка, что осложняет её визуальный анализ внутри ноутбука, поэтому она была сохранена в отдельный файл \"UpliftRandomForestClassifier.png\".\n",
    "\n",
    "##### Модель является ансамблем случайных деревьев, которые обучались на стохастических подвыборках и подпространствах. Для анализа был построен граф только первого случайного дерева решений, так как рассмотрение всех деревьев ансамбля было бы чересчур трудозатратно. Граф представляет собой аналогичную конструкцию, описанную в пункте 7. Тремя наиболее важными признаками оказались: \"zip_code\", \"recency\" и \"used_discount\", в точности как и в одиночном дереве решений. Чуть менее половины узлов и листьев окрашены зелёным цветом, что также можно использовать в целях интерпретации уверенности модели."
   ]
  },
  {
   "cell_type": "code",
   "execution_count": null,
   "id": "S_Ip0Tqs0iEB",
   "metadata": {
    "id": "S_Ip0Tqs0iEB"
   },
   "outputs": [],
   "source": []
  }
 ],
 "metadata": {
  "colab": {
   "collapsed_sections": [],
   "name": "4th_homework.ipynb",
   "provenance": []
  },
  "kernelspec": {
   "display_name": "Python 3 (ipykernel)",
   "language": "python",
   "name": "python3"
  },
  "language_info": {
   "codemirror_mode": {
    "name": "ipython",
    "version": 3
   },
   "file_extension": ".py",
   "mimetype": "text/x-python",
   "name": "python",
   "nbconvert_exporter": "python",
   "pygments_lexer": "ipython3",
   "version": "3.9.4"
  }
 },
 "nbformat": 4,
 "nbformat_minor": 5
}
